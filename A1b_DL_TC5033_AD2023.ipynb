{
 "cells": [
  {
   "cell_type": "markdown",
   "metadata": {},
   "source": [
    "# TC 5033\n",
    "## Deep Learning\n",
    "## Fully Connected Deep Neural Networks\n",
    "\n",
    "#### Activity 1b: Implementing a Fully Connected Network for Kaggle ASL Dataset\n",
    "\n",
    "- Objective\n",
    "\n",
    "The aim of this part of the activity is to apply your understanding of Fully Connected Networks by implementing a multilayer network for the [Kaggle ASL (American Sign Language) dataset](https://www.kaggle.com/datasets/grassknoted/asl-alphabet). While you have been provided with a complete solution for a Fully Connected Network using Numpy for the MNIST dataset, you are encouraged to try to come up with the solution.\n",
    "\n",
    "- Instructions\n",
    "\n",
    "    This activity requires submission in teams of 3 or 4 members. Submissions from smaller or larger teams will not be accepted unless prior approval has been granted (only due to exceptional circumstances). While teamwork is encouraged, each member is expected to contribute individually to the assignment. The final submission should feature the best arguments and solutions from each team member. Only one person per team needs to submit the completed work, but it is imperative that the names of all team members are listed in a Markdown cell at the very beginning of the notebook (either the first or second cell). Failure to include all team member names will result in the grade being awarded solely to the individual who submitted the assignment, with zero points given to other team members (no exceptions will be made to this rule).\n",
    "\n",
    "    Load and Preprocess Data: You are provided a starter code to load the data. Be sure to understand the code.\n",
    "\n",
    "    Review MNIST Notebook (Optional): Before diving into this activity, you have the option to revisit the MNIST example to refresh your understanding of how to build a Fully Connected Network using Numpy.\n",
    "\n",
    "    Start Fresh: Although you can refer to the MNIST solution at any point, try to implement the network for the ASL dataset on your own. This will reinforce your learning and understanding of the architecture and mathematics involved.\n",
    "\n",
    "    Implement Forward and Backward Pass: Write the code to perform the forward and backward passes, keeping in mind the specific challenges and characteristics of the ASL dataset.\n",
    "    \n",
    "     Design the Network: Create the architecture of the Fully Connected Network tailored for the ASL dataset. Choose the number of hidden layers, neurons, and hyperparameters judiciously.\n",
    "\n",
    "    Train the Model: Execute the training loop, ensuring to track performance metrics such as loss and accuracy.\n",
    "\n",
    "    Analyze and Document: Use Markdown cells to document in detail the choices you made in terms of architecture and hyperparameters, you may use figures, equations, etc to aid in your explanations. Include any metrics that help justify these choices and discuss the model's performance.  \n",
    "\n",
    "- Evaluation Criteria\n",
    "\n",
    "    - Code Readability and Comments\n",
    "    - Appropriateness of chosen architecture and hyperparameters for the ASL dataset\n",
    "    - Performance of the model on the ASL dataset (at least 70% acc)\n",
    "    - Quality of Markdown documentation\n",
    "\n",
    "- Submission\n",
    "\n",
    "Submit this Jupyter Notebook in canvas with your complete solution, ensuring your code is well-commented and includes Markdown cells that explain your design choices, results, and any challenges you encountered.\n"
   ]
  },
  {
   "cell_type": "code",
   "execution_count": 1,
   "metadata": {},
   "outputs": [],
   "source": [
    "import numpy as np\n",
    "import string\n",
    "import pandas as pd\n",
    "import matplotlib.pyplot as plt\n",
    "import cv2 as cv\n",
    "import os\n",
    "\n",
    "%load_ext autoreload\n",
    "%autoreload 2\n",
    "#################################\n",
    "%matplotlib inline\n"
   ]
  },
  {
   "cell_type": "code",
   "execution_count": 2,
   "metadata": {},
   "outputs": [],
   "source": [
    "# DATA_PATH = '/media/pepe/DataUbuntu/Databases/asl_data/'\n",
    "DATA_PATH = 'asl_data'\n",
    "train_df = pd.read_csv(os.path.join(DATA_PATH, 'sign_mnist_train.csv'))\n",
    "valid_df = pd.read_csv(os.path.join(DATA_PATH, 'sign_mnist_valid.csv'))"
   ]
  },
  {
   "cell_type": "code",
   "execution_count": 3,
   "metadata": {},
   "outputs": [
    {
     "data": {
      "text/html": [
       "<div>\n",
       "<style scoped>\n",
       "    .dataframe tbody tr th:only-of-type {\n",
       "        vertical-align: middle;\n",
       "    }\n",
       "\n",
       "    .dataframe tbody tr th {\n",
       "        vertical-align: top;\n",
       "    }\n",
       "\n",
       "    .dataframe thead th {\n",
       "        text-align: right;\n",
       "    }\n",
       "</style>\n",
       "<table border=\"1\" class=\"dataframe\">\n",
       "  <thead>\n",
       "    <tr style=\"text-align: right;\">\n",
       "      <th></th>\n",
       "      <th>label</th>\n",
       "      <th>pixel1</th>\n",
       "      <th>pixel2</th>\n",
       "      <th>pixel3</th>\n",
       "      <th>pixel4</th>\n",
       "      <th>pixel5</th>\n",
       "      <th>pixel6</th>\n",
       "      <th>pixel7</th>\n",
       "      <th>pixel8</th>\n",
       "      <th>pixel9</th>\n",
       "      <th>...</th>\n",
       "      <th>pixel775</th>\n",
       "      <th>pixel776</th>\n",
       "      <th>pixel777</th>\n",
       "      <th>pixel778</th>\n",
       "      <th>pixel779</th>\n",
       "      <th>pixel780</th>\n",
       "      <th>pixel781</th>\n",
       "      <th>pixel782</th>\n",
       "      <th>pixel783</th>\n",
       "      <th>pixel784</th>\n",
       "    </tr>\n",
       "  </thead>\n",
       "  <tbody>\n",
       "    <tr>\n",
       "      <th>0</th>\n",
       "      <td>3</td>\n",
       "      <td>107</td>\n",
       "      <td>118</td>\n",
       "      <td>127</td>\n",
       "      <td>134</td>\n",
       "      <td>139</td>\n",
       "      <td>143</td>\n",
       "      <td>146</td>\n",
       "      <td>150</td>\n",
       "      <td>153</td>\n",
       "      <td>...</td>\n",
       "      <td>207</td>\n",
       "      <td>207</td>\n",
       "      <td>207</td>\n",
       "      <td>207</td>\n",
       "      <td>206</td>\n",
       "      <td>206</td>\n",
       "      <td>206</td>\n",
       "      <td>204</td>\n",
       "      <td>203</td>\n",
       "      <td>202</td>\n",
       "    </tr>\n",
       "    <tr>\n",
       "      <th>1</th>\n",
       "      <td>6</td>\n",
       "      <td>155</td>\n",
       "      <td>157</td>\n",
       "      <td>156</td>\n",
       "      <td>156</td>\n",
       "      <td>156</td>\n",
       "      <td>157</td>\n",
       "      <td>156</td>\n",
       "      <td>158</td>\n",
       "      <td>158</td>\n",
       "      <td>...</td>\n",
       "      <td>69</td>\n",
       "      <td>149</td>\n",
       "      <td>128</td>\n",
       "      <td>87</td>\n",
       "      <td>94</td>\n",
       "      <td>163</td>\n",
       "      <td>175</td>\n",
       "      <td>103</td>\n",
       "      <td>135</td>\n",
       "      <td>149</td>\n",
       "    </tr>\n",
       "    <tr>\n",
       "      <th>2</th>\n",
       "      <td>2</td>\n",
       "      <td>187</td>\n",
       "      <td>188</td>\n",
       "      <td>188</td>\n",
       "      <td>187</td>\n",
       "      <td>187</td>\n",
       "      <td>186</td>\n",
       "      <td>187</td>\n",
       "      <td>188</td>\n",
       "      <td>187</td>\n",
       "      <td>...</td>\n",
       "      <td>202</td>\n",
       "      <td>201</td>\n",
       "      <td>200</td>\n",
       "      <td>199</td>\n",
       "      <td>198</td>\n",
       "      <td>199</td>\n",
       "      <td>198</td>\n",
       "      <td>195</td>\n",
       "      <td>194</td>\n",
       "      <td>195</td>\n",
       "    </tr>\n",
       "    <tr>\n",
       "      <th>3</th>\n",
       "      <td>2</td>\n",
       "      <td>211</td>\n",
       "      <td>211</td>\n",
       "      <td>212</td>\n",
       "      <td>212</td>\n",
       "      <td>211</td>\n",
       "      <td>210</td>\n",
       "      <td>211</td>\n",
       "      <td>210</td>\n",
       "      <td>210</td>\n",
       "      <td>...</td>\n",
       "      <td>235</td>\n",
       "      <td>234</td>\n",
       "      <td>233</td>\n",
       "      <td>231</td>\n",
       "      <td>230</td>\n",
       "      <td>226</td>\n",
       "      <td>225</td>\n",
       "      <td>222</td>\n",
       "      <td>229</td>\n",
       "      <td>163</td>\n",
       "    </tr>\n",
       "    <tr>\n",
       "      <th>4</th>\n",
       "      <td>12</td>\n",
       "      <td>164</td>\n",
       "      <td>167</td>\n",
       "      <td>170</td>\n",
       "      <td>172</td>\n",
       "      <td>176</td>\n",
       "      <td>179</td>\n",
       "      <td>180</td>\n",
       "      <td>184</td>\n",
       "      <td>185</td>\n",
       "      <td>...</td>\n",
       "      <td>92</td>\n",
       "      <td>105</td>\n",
       "      <td>105</td>\n",
       "      <td>108</td>\n",
       "      <td>133</td>\n",
       "      <td>163</td>\n",
       "      <td>157</td>\n",
       "      <td>163</td>\n",
       "      <td>164</td>\n",
       "      <td>179</td>\n",
       "    </tr>\n",
       "  </tbody>\n",
       "</table>\n",
       "<p>5 rows × 785 columns</p>\n",
       "</div>"
      ],
      "text/plain": [
       "   label  pixel1  pixel2  pixel3  pixel4  pixel5  pixel6  pixel7  pixel8  \\\n",
       "0      3     107     118     127     134     139     143     146     150   \n",
       "1      6     155     157     156     156     156     157     156     158   \n",
       "2      2     187     188     188     187     187     186     187     188   \n",
       "3      2     211     211     212     212     211     210     211     210   \n",
       "4     12     164     167     170     172     176     179     180     184   \n",
       "\n",
       "   pixel9  ...  pixel775  pixel776  pixel777  pixel778  pixel779  pixel780  \\\n",
       "0     153  ...       207       207       207       207       206       206   \n",
       "1     158  ...        69       149       128        87        94       163   \n",
       "2     187  ...       202       201       200       199       198       199   \n",
       "3     210  ...       235       234       233       231       230       226   \n",
       "4     185  ...        92       105       105       108       133       163   \n",
       "\n",
       "   pixel781  pixel782  pixel783  pixel784  \n",
       "0       206       204       203       202  \n",
       "1       175       103       135       149  \n",
       "2       198       195       194       195  \n",
       "3       225       222       229       163  \n",
       "4       157       163       164       179  \n",
       "\n",
       "[5 rows x 785 columns]"
      ]
     },
     "execution_count": 3,
     "metadata": {},
     "output_type": "execute_result"
    }
   ],
   "source": [
    "train_df.head()"
   ]
  },
  {
   "cell_type": "markdown",
   "metadata": {},
   "source": [
    "### Importar Images"
   ]
  },
  {
   "cell_type": "code",
   "execution_count": 4,
   "metadata": {},
   "outputs": [],
   "source": [
    "y_train = np.array(train_df['label'])\n",
    "y_val = np.array(valid_df['label'])\n",
    "del train_df['label']\n",
    "del valid_df['label']\n",
    "x_train = train_df.values.astype(np.float32)\n",
    "x_val = valid_df.values.astype(np.float32)"
   ]
  },
  {
   "cell_type": "code",
   "execution_count": 5,
   "metadata": {},
   "outputs": [
    {
     "data": {
      "text/plain": [
       "(7172,)"
      ]
     },
     "execution_count": 5,
     "metadata": {},
     "output_type": "execute_result"
    }
   ],
   "source": [
    "y_val.shape"
   ]
  },
  {
   "cell_type": "code",
   "execution_count": 6,
   "metadata": {
    "code_folding": []
   },
   "outputs": [],
   "source": [
    "import numpy as np\n",
    "\n",
    "def split_val_test(x, y, pct=0.5, shuffle=True):\n",
    "    '''\n",
    "    Create a function that will allow you to split the previously loaded validation set\n",
    "    into validation and test.\n",
    "    '''\n",
    "    # verify that x_val and y_val have the same length\n",
    "    assert len(x) == len(y)\n",
    "\n",
    "    # total of data\n",
    "    total_data = len(x)\n",
    "\n",
    "    # shuffle data if it is required\n",
    "    if shuffle:\n",
    "        indices = np.arange(len(x))\n",
    "        np.random.shuffle(indices)\n",
    "        x, y = map(lambda data: np.array([data[i] for i in indices]), [x, y])\n",
    "\n",
    "    # calculate split index\n",
    "    split_idx = int(pct * len(x))\n",
    "    \n",
    "    return x[:split_idx], y[:split_idx].reshape(-1,1), x[split_idx:], y[split_idx:].reshape(-1,1)"
   ]
  },
  {
   "cell_type": "code",
   "execution_count": 7,
   "metadata": {},
   "outputs": [],
   "source": [
    "x_val, y_val, x_test, y_test = split_val_test(x_val, y_val)"
   ]
  },
  {
   "cell_type": "code",
   "execution_count": 8,
   "metadata": {},
   "outputs": [
    {
     "name": "stdout",
     "output_type": "stream",
     "text": [
      "(27455, 784)\n",
      "(27455,)\n",
      "(3586, 784)\n",
      "(3586, 1)\n",
      "(3586, 784)\n",
      "(3586, 1)\n"
     ]
    }
   ],
   "source": [
    "print(x_train.shape)\n",
    "print(y_train.shape)\n",
    "\n",
    "print(x_val.shape)\n",
    "print(y_val.shape)\n",
    "\n",
    "print(x_test.shape)\n",
    "print(y_test.shape)\n"
   ]
  },
  {
   "cell_type": "code",
   "execution_count": 9,
   "metadata": {},
   "outputs": [
    {
     "name": "stdout",
     "output_type": "stream",
     "text": [
      "24\n"
     ]
    }
   ],
   "source": [
    "### The following\n",
    "\n",
    "alphabet=list(string.ascii_lowercase)\n",
    "alphabet.remove('j')\n",
    "alphabet.remove('z')\n",
    "print(len(alphabet))"
   ]
  },
  {
   "cell_type": "markdown",
   "metadata": {},
   "source": [
    "### Normalise"
   ]
  },
  {
   "cell_type": "code",
   "execution_count": 10,
   "metadata": {},
   "outputs": [],
   "source": [
    "normalise = lambda x_mean, x_std, x_data: (x_data - x_mean) / x_std\n",
    "\n",
    "x_mean = x_train.mean()\n",
    "x_std = x_train.std()\n",
    "\n",
    "x_train = normalise(x_mean, x_std, x_train)\n",
    "x_val = normalise(x_mean, x_std, x_val)\n",
    "x_test = normalise(x_mean, x_std, x_test)"
   ]
  },
  {
   "cell_type": "code",
   "execution_count": 11,
   "metadata": {},
   "outputs": [
    {
     "data": {
      "text/plain": [
       "(3.6268384e-06, 0.99999946)"
      ]
     },
     "execution_count": 11,
     "metadata": {},
     "output_type": "execute_result"
    }
   ],
   "source": [
    "x_train.mean(), x_train.std()"
   ]
  },
  {
   "cell_type": "markdown",
   "metadata": {},
   "source": [
    "### Graficar muestras"
   ]
  },
  {
   "cell_type": "code",
   "execution_count": 12,
   "metadata": {},
   "outputs": [],
   "source": [
    "def plot_number(image):\n",
    "    plt.figure(figsize=(5,5))\n",
    "    plt.imshow(image.squeeze(), cmap=plt.get_cmap('gray'))\n",
    "    plt.axis('off')\n",
    "    plt.show()"
   ]
  },
  {
   "cell_type": "code",
   "execution_count": 13,
   "metadata": {},
   "outputs": [
    {
     "name": "stdout",
     "output_type": "stream",
     "text": [
      "La imagen muestreada representa un: [16]\n"
     ]
    },
    {
     "data": {
      "image/png": "[encoded data removed]",
      "text/plain": [
       "<Figure size 500x500 with 1 Axes>"
      ]
     },
     "metadata": {},
     "output_type": "display_data"
    }
   ],
   "source": [
    "rnd_idx = np.random.randint(len(y_test))\n",
    " \n",
    "print(f'La imagen muestreada representa un: {y_test[rnd_idx]}')\n",
    "\n",
    "image_data = x_test[rnd_idx].reshape(28, 28)\n",
    "plot_number(image_data)"
   ]
  },
  {
   "cell_type": "markdown",
   "metadata": {},
   "source": [
    "### Ecuaciones para nuestro modelo\n",
    "\n",
    "\n",
    "$$z^1 = W^1 X + b^1$$\n",
    "\n",
    "$$a^1 = ReLU(z^1) $$\n",
    "\n",
    "$$z^2 = W^2 a^1 + b^2$$\n",
    "\n",
    "$$\\hat{y} = \\frac{e^{z^{2_k}}}{\\sum_j{e^{z_j}}}$$\n",
    "\n",
    "\n",
    "$$ \\mathcal{L}(\\hat{y}^{i}, y^{i}) =  - y^{i}  \\ln(\\hat{y}^{i}) = -\\ln(\\hat{y}^i)$$\n",
    "\n",
    "\n",
    "$$ \\mathcal{J}(w, b) =  \\frac{1}{num\\_samples} \\sum_{i=1}^{num\\_samples}-\\ln(\\hat{y}^{i})$$"
   ]
  },
  {
   "cell_type": "markdown",
   "metadata": {},
   "source": [
    "### Funciones adicionales"
   ]
  },
  {
   "cell_type": "markdown",
   "metadata": {},
   "source": [
    "#### Mini batches"
   ]
  },
  {
   "cell_type": "code",
   "execution_count": 14,
   "metadata": {},
   "outputs": [],
   "source": [
    "#Function to create training minibatches\n",
    "def create_minibatches(mb_size, x, y, shuffle = True):\n",
    "    '''\n",
    "    x  #muestras, 784\n",
    "    y #muestras, 1\n",
    "    '''\n",
    "    assert x.shape[0] == y.shape[0], 'Error en cantidad de muestras'\n",
    "    total_data = x.shape[0]\n",
    "    if shuffle:\n",
    "        idxs = np.arange(total_data)\n",
    "        np.random.shuffle(idxs)\n",
    "        x = x[idxs]\n",
    "        y = y[idxs]\n",
    "    return ((x[i:i+mb_size], y[i:i+mb_size]) for i in range(0, total_data, mb_size))"
   ]
  },
  {
   "cell_type": "markdown",
   "metadata": {},
   "source": [
    "## Nuestra clase Linear, ReLU y Sequential"
   ]
  },
  {
   "cell_type": "code",
   "execution_count": 15,
   "metadata": {},
   "outputs": [],
   "source": [
    "class np_tensor(np.ndarray): pass"
   ]
  },
  {
   "cell_type": "markdown",
   "metadata": {},
   "source": [
    "###  Clase Linear"
   ]
  },
  {
   "cell_type": "code",
   "execution_count": 16,
   "metadata": {},
   "outputs": [],
   "source": [
    "class Linear():\n",
    "    def __init__(self, input_size, output_size):\n",
    "        '''\n",
    "        Init parameters utilizando Kaiming He\n",
    "        '''\n",
    "        self.W = (np.random.randn(output_size, input_size) / np.sqrt(input_size/2)).view(np_tensor)\n",
    "        self.b = (np.zeros((output_size, 1))).view(np_tensor)\n",
    "    def __call__(self, X): # esta el foward de la clase lineal\n",
    "        Z = self.W @ X + self.b\n",
    "        return Z\n",
    "    def backward(self, X, Z):\n",
    "        X.grad = self.W.T @ Z.grad\n",
    "        self.W.grad = Z.grad @ X.T\n",
    "        self.b.grad = np.sum(Z.grad, axis = 1, keepdims=True)    "
   ]
  },
  {
   "cell_type": "markdown",
   "metadata": {},
   "source": [
    "### Clase ReLU"
   ]
  },
  {
   "cell_type": "code",
   "execution_count": 17,
   "metadata": {},
   "outputs": [],
   "source": [
    "class ReLU():\n",
    "    def __call__(self, Z):\n",
    "        return np.maximum(0, Z)\n",
    "    def backward(self, Z, A):\n",
    "        Z.grad = A.grad.copy()\n",
    "        Z.grad[Z <= 0] = 0"
   ]
  },
  {
   "cell_type": "markdown",
   "metadata": {},
   "source": [
    "### Clase Sequential"
   ]
  },
  {
   "cell_type": "code",
   "execution_count": 18,
   "metadata": {},
   "outputs": [],
   "source": [
    "class Sequential_layers():\n",
    "    def __init__(self, layers):\n",
    "        '''\n",
    "        layers - lista que contiene objetos de tipo Linear, ReLU\n",
    "        '''\n",
    "        self.layers = layers\n",
    "        self.x = None\n",
    "        self.outputs = {}\n",
    "    def __call__(self, X):\n",
    "        self.x = X \n",
    "        self.outputs['l0'] = self.x\n",
    "        for i, layer in enumerate(self.layers, 1):\n",
    "            self.x = layer(self.x)\n",
    "            self.outputs['l'+str(i)]=self.x\n",
    "        return self.x\n",
    "    def backward(self):\n",
    "        for i in reversed(range(len(self.layers))):\n",
    "            self.layers[i].backward(self.outputs['l'+str(i)], self.outputs['l'+str(i+1)])\n",
    "    def update(self, learning_rate = 1e-3):\n",
    "        for layer in self.layers:\n",
    "            if isinstance(layer, ReLU): continue\n",
    "            layer.W = layer.W - learning_rate * layer.W.grad\n",
    "            layer.b = layer.b - learning_rate * layer.b.grad\n",
    "    def predict(self, X):\n",
    "        return np.argmax(self.__call__(X)) "
   ]
  },
  {
   "cell_type": "markdown",
   "metadata": {},
   "source": [
    "### Cost Function"
   ]
  },
  {
   "cell_type": "code",
   "execution_count": 19,
   "metadata": {},
   "outputs": [],
   "source": [
    "def softmaxXEntropy(x, y):\n",
    "    batch_size = x.shape[1]\n",
    "    exp_scores = np.exp(x)\n",
    "    probs = exp_scores / exp_scores.sum(axis = 0)\n",
    "    preds = probs.copy()\n",
    "    # Costo\n",
    "    y_hat = probs[y.squeeze(), np.arange(batch_size)]\n",
    "    cost = np.sum(-np.log(y_hat)) / batch_size\n",
    "    # Calcular gradientes\n",
    "    probs[y.squeeze(), np.arange(batch_size)] -= 1 #dl/dx\n",
    "    x.grad = probs.copy()\n",
    "    \n",
    "    return preds, cost"
   ]
  },
  {
   "cell_type": "markdown",
   "metadata": {},
   "source": [
    "### Loop de entrenamiento"
   ]
  },
  {
   "cell_type": "code",
   "execution_count": 20,
   "metadata": {},
   "outputs": [],
   "source": [
    "#Function for training the model\n",
    "def train(model, epochs, mb_size=128, learning_rate = 1e-3):\n",
    "    for epoch in range(epochs):\n",
    "        for i, (x, y) in enumerate(create_minibatches(mb_size, x_train, y_train)):\n",
    "            scores = model(x.T.view(np_tensor))\n",
    "            _, cost = softmaxXEntropy(scores, y)\n",
    "            model.backward()\n",
    "            model.update(learning_rate)\n",
    "\n",
    "            #train_losses.append(cost)\n",
    "            #val_losses.append(accuracy(x_val, y_val, mb_size))\n",
    "\n",
    "        print(f'epochs: {epoch+1} cost: {cost}, accuracy: {accuracy(x_val, y_val, mb_size, model)}')"
   ]
  },
  {
   "cell_type": "code",
   "execution_count": 21,
   "metadata": {},
   "outputs": [],
   "source": [
    "#Function to calculate the model accuracy\n",
    "def accuracy(x, y, mb_size, model):\n",
    "    correct = 0\n",
    "    total = 0\n",
    "    for i, (x, y) in enumerate(create_minibatches(mb_size, x, y)):\n",
    "        pred = model(x.T.view(np_tensor))\n",
    "        correct += np.sum(np.argmax(pred, axis=0) == y.squeeze())\n",
    "        total += pred.shape[1]\n",
    "    return correct/total"
   ]
  },
  {
   "cell_type": "markdown",
   "metadata": {},
   "source": [
    "### Create your model and train it"
   ]
  },
  {
   "cell_type": "code",
   "execution_count": 22,
   "metadata": {},
   "outputs": [
    {
     "name": "stdout",
     "output_type": "stream",
     "text": [
      "\n",
      "--- Test: 1/9 ----\n",
      "\n",
      "epochs: 1 cost: 0.1353147681945074, accuracy: 0.7579475738984941\n",
      "epochs: 2 cost: 0.010813195700796622, accuracy: 0.7799776910206359\n",
      "epochs: 3 cost: 0.005119913082973099, accuracy: 0.7766313441160066\n",
      "epochs: 4 cost: 0.0028435098955471084, accuracy: 0.7763524818739542\n",
      "epochs: 5 cost: 0.0024348318268123475, accuracy: 0.7766313441160066\n",
      "epochs: 6 cost: 0.0016083397657074817, accuracy: 0.7766313441160066\n",
      "epochs: 7 cost: 0.0011761383779478722, accuracy: 0.7769102063580591\n",
      "epochs: 8 cost: 0.0011219925335788916, accuracy: 0.7774679308421639\n",
      "epochs: 9 cost: 0.001174667366232014, accuracy: 0.7763524818739542\n",
      "epochs: 10 cost: 0.0008782413044459458, accuracy: 0.7763524818739542\n",
      "epochs: 11 cost: 0.000611633777430616, accuracy: 0.7771890686001115\n",
      "epochs: 12 cost: 0.0005655391623549332, accuracy: 0.7780256553262688\n",
      "epochs: 13 cost: 0.0005366757747519643, accuracy: 0.7769102063580591\n",
      "epochs: 14 cost: 0.00048050313273951325, accuracy: 0.7774679308421639\n",
      "epochs: 15 cost: 0.0004756743448416458, accuracy: 0.7774679308421639\n",
      "epochs: 16 cost: 0.0003496322816770497, accuracy: 0.7769102063580591\n",
      "epochs: 17 cost: 0.00042833302217914245, accuracy: 0.7774679308421639\n",
      "epochs: 18 cost: 0.00040289321351948896, accuracy: 0.7774679308421639\n",
      "epochs: 19 cost: 0.0004497996419402055, accuracy: 0.7763524818739542\n",
      "epochs: 20 cost: 0.00036916065752312275, accuracy: 0.7777467930842163\n",
      "epochs: 21 cost: 0.0003748220774262478, accuracy: 0.7774679308421639\n",
      "epochs: 22 cost: 0.000310520585313591, accuracy: 0.7771890686001115\n",
      "epochs: 23 cost: 0.00033677145237170295, accuracy: 0.7774679308421639\n",
      "epochs: 24 cost: 0.0003357710467400503, accuracy: 0.7771890686001115\n",
      "epochs: 25 cost: 0.0003108586043704081, accuracy: 0.7777467930842163\n",
      "Neurons: 300 | Learning Rate: 0.001 | Accuracy: 0.7785833798103736\n",
      "\n",
      "--- Test: 2/9 ----\n",
      "\n",
      "epochs: 1 cost: 0.8775824515881903, accuracy: 0.6578360290016732\n",
      "epochs: 2 cost: 0.08305130013769708, accuracy: 0.7741215839375348\n",
      "epochs: 3 cost: 0.009392251062108285, accuracy: 0.8008923591745678\n",
      "epochs: 4 cost: 0.003936663647757183, accuracy: 0.803680981595092\n",
      "epochs: 5 cost: 0.002976735387872882, accuracy: 0.8042387060791969\n",
      "epochs: 6 cost: 0.0018222858108848318, accuracy: 0.8050752928053542\n",
      "epochs: 7 cost: 0.001731967466501242, accuracy: 0.8042387060791969\n",
      "epochs: 8 cost: 0.0011644399180152794, accuracy: 0.8039598438371445\n",
      "epochs: 9 cost: 0.001105521458998454, accuracy: 0.8045175683212493\n",
      "epochs: 10 cost: 0.000936289127335505, accuracy: 0.8061907417735639\n",
      "epochs: 11 cost: 0.0006934825052959738, accuracy: 0.8034021193530396\n",
      "epochs: 12 cost: 0.0006204815275777895, accuracy: 0.8042387060791969\n",
      "epochs: 13 cost: 0.0008418014472681289, accuracy: 0.8059118795315114\n",
      "epochs: 14 cost: 0.0007628335824975036, accuracy: 0.8042387060791969\n",
      "epochs: 15 cost: 0.0004930840242068038, accuracy: 0.805633017289459\n",
      "epochs: 16 cost: 0.0005208413383647688, accuracy: 0.8039598438371445\n",
      "epochs: 17 cost: 0.0006412924099261247, accuracy: 0.8039598438371445\n",
      "epochs: 18 cost: 0.0004873633499649257, accuracy: 0.8053541550474066\n",
      "epochs: 19 cost: 0.0003118768830252492, accuracy: 0.8045175683212493\n",
      "epochs: 20 cost: 0.00033854341323762106, accuracy: 0.8053541550474066\n",
      "epochs: 21 cost: 0.0004132561474459944, accuracy: 0.8053541550474066\n",
      "epochs: 22 cost: 0.0003912082242186808, accuracy: 0.8042387060791969\n",
      "epochs: 23 cost: 0.0003673152298221961, accuracy: 0.8047964305633017\n",
      "epochs: 24 cost: 0.00029048913997742186, accuracy: 0.8042387060791969\n",
      "epochs: 25 cost: 0.00024706346616070753, accuracy: 0.8053541550474066\n",
      "Neurons: 500 | Learning Rate: 0.001 | Accuracy: 0.807585052983826\n",
      "\n",
      "--- Test: 3/9 ----\n",
      "\n"
     ]
    },
    {
     "name": "stderr",
     "output_type": "stream",
     "text": [
      "C:\\Users\\bring\\AppData\\Local\\Temp\\ipykernel_16528\\2615062195.py:8: RuntimeWarning: divide by zero encountered in log\n",
      "  cost = np.sum(-np.log(y_hat)) / batch_size\n",
      "C:\\Users\\bring\\AppData\\Local\\Temp\\ipykernel_16528\\2615062195.py:3: RuntimeWarning: overflow encountered in exp\n",
      "  exp_scores = np.exp(x)\n",
      "C:\\Users\\bring\\AppData\\Local\\Temp\\ipykernel_16528\\2615062195.py:4: RuntimeWarning: invalid value encountered in divide\n",
      "  probs = exp_scores / exp_scores.sum(axis = 0)\n"
     ]
    },
    {
     "name": "stdout",
     "output_type": "stream",
     "text": [
      "epochs: 1 cost: nan, accuracy: 0.044617958728388175\n",
      "epochs: 2 cost: nan, accuracy: 0.044617958728388175\n",
      "epochs: 3 cost: nan, accuracy: 0.044617958728388175\n",
      "epochs: 4 cost: nan, accuracy: 0.044617958728388175\n",
      "epochs: 5 cost: nan, accuracy: 0.044617958728388175\n",
      "epochs: 6 cost: nan, accuracy: 0.044617958728388175\n",
      "epochs: 7 cost: nan, accuracy: 0.044617958728388175\n",
      "epochs: 8 cost: nan, accuracy: 0.044617958728388175\n",
      "epochs: 9 cost: nan, accuracy: 0.044617958728388175\n",
      "epochs: 10 cost: nan, accuracy: 0.044617958728388175\n",
      "epochs: 11 cost: nan, accuracy: 0.044617958728388175\n",
      "epochs: 12 cost: nan, accuracy: 0.044617958728388175\n",
      "epochs: 13 cost: nan, accuracy: 0.044617958728388175\n",
      "epochs: 14 cost: nan, accuracy: 0.044617958728388175\n",
      "epochs: 15 cost: nan, accuracy: 0.044617958728388175\n",
      "epochs: 16 cost: nan, accuracy: 0.044617958728388175\n",
      "epochs: 17 cost: nan, accuracy: 0.044617958728388175\n",
      "epochs: 18 cost: nan, accuracy: 0.044617958728388175\n",
      "epochs: 19 cost: nan, accuracy: 0.044617958728388175\n",
      "epochs: 20 cost: nan, accuracy: 0.044617958728388175\n",
      "epochs: 21 cost: nan, accuracy: 0.044617958728388175\n",
      "epochs: 22 cost: nan, accuracy: 0.044617958728388175\n",
      "epochs: 23 cost: nan, accuracy: 0.044617958728388175\n",
      "epochs: 24 cost: nan, accuracy: 0.044617958728388175\n",
      "epochs: 25 cost: nan, accuracy: 0.044617958728388175\n",
      "Neurons: 700 | Learning Rate: 0.001 | Accuracy: 0.047685443390964866\n",
      "\n",
      "--- Test: 4/9 ----\n",
      "\n",
      "epochs: 1 cost: 0.18335275766186906, accuracy: 0.7292247629670943\n",
      "epochs: 2 cost: 0.023921562740763656, accuracy: 0.7657557166759621\n",
      "epochs: 3 cost: 0.011511154434645223, accuracy: 0.7685443390964863\n",
      "epochs: 4 cost: 0.008045726875592124, accuracy: 0.7679866146123815\n",
      "epochs: 5 cost: 0.005536625875525536, accuracy: 0.7763524818739542\n",
      "epochs: 6 cost: 0.004383469957856669, accuracy: 0.7769102063580591\n",
      "epochs: 7 cost: 0.0031097968757424323, accuracy: 0.7766313441160066\n",
      "epochs: 8 cost: 0.0024386583442376833, accuracy: 0.779419966536531\n",
      "epochs: 9 cost: 0.0024705337947723205, accuracy: 0.7799776910206359\n",
      "epochs: 10 cost: 0.0018893342235570165, accuracy: 0.7816508644729504\n",
      "epochs: 11 cost: 0.0015349024704088097, accuracy: 0.781372002230898\n",
      "epochs: 12 cost: 0.0018755711087201955, accuracy: 0.7819297267150028\n",
      "epochs: 13 cost: 0.0013590378038527485, accuracy: 0.7816508644729504\n",
      "epochs: 14 cost: 0.001574873912021602, accuracy: 0.7830451756832125\n",
      "epochs: 15 cost: 0.0012421364820030339, accuracy: 0.7822085889570553\n",
      "epochs: 16 cost: 0.0011337378328017936, accuracy: 0.781372002230898\n",
      "epochs: 17 cost: 0.000968616193966094, accuracy: 0.7836029001673174\n",
      "epochs: 18 cost: 0.000827984277884665, accuracy: 0.783324037925265\n",
      "epochs: 19 cost: 0.0008984136180978323, accuracy: 0.7822085889570553\n",
      "epochs: 20 cost: 0.0007883632120164999, accuracy: 0.7822085889570553\n",
      "epochs: 21 cost: 0.0008570382853979698, accuracy: 0.7827663134411601\n",
      "epochs: 22 cost: 0.0007976023462677247, accuracy: 0.7822085889570553\n",
      "epochs: 23 cost: 0.000648892523112529, accuracy: 0.7816508644729504\n",
      "epochs: 24 cost: 0.0006662467042310229, accuracy: 0.7824874511991077\n",
      "epochs: 25 cost: 0.0005487418782537886, accuracy: 0.7819297267150028\n",
      "Neurons: 300 | Learning Rate: 0.0005 | Accuracy: 0.7777467930842163\n",
      "\n",
      "--- Test: 5/9 ----\n",
      "\n",
      "epochs: 1 cost: 0.18097216880075107, accuracy: 0.758505298382599\n",
      "epochs: 2 cost: 0.025068590738306383, accuracy: 0.7724484104852203\n",
      "epochs: 3 cost: 0.012924190794812088, accuracy: 0.7805354155047407\n",
      "epochs: 4 cost: 0.008401728160303018, accuracy: 0.7858337981037368\n",
      "epochs: 5 cost: 0.005737601980823268, accuracy: 0.7852760736196319\n",
      "epochs: 6 cost: 0.00453607588261753, accuracy: 0.7877858337981037\n",
      "epochs: 7 cost: 0.0029880761811599235, accuracy: 0.7836029001673174\n",
      "epochs: 8 cost: 0.002821849903321793, accuracy: 0.7872281093139989\n",
      "epochs: 9 cost: 0.00240790462884619, accuracy: 0.7861126603457892\n",
      "epochs: 10 cost: 0.0019332409233885717, accuracy: 0.7847183491355271\n",
      "epochs: 11 cost: 0.001804180817368765, accuracy: 0.7827663134411601\n",
      "epochs: 12 cost: 0.001608085521582905, accuracy: 0.7847183491355271\n",
      "epochs: 13 cost: 0.001512805295161346, accuracy: 0.7849972113775795\n",
      "epochs: 14 cost: 0.0012707904796641488, accuracy: 0.783324037925265\n",
      "epochs: 15 cost: 0.001376038282554934, accuracy: 0.7844394868934746\n",
      "epochs: 16 cost: 0.001163529076150438, accuracy: 0.7836029001673174\n",
      "epochs: 17 cost: 0.0010756449119637718, accuracy: 0.7838817624093698\n",
      "epochs: 18 cost: 0.0010134095427321037, accuracy: 0.7836029001673174\n",
      "epochs: 19 cost: 0.0009725746870023765, accuracy: 0.7838817624093698\n",
      "epochs: 20 cost: 0.0007774811611590009, accuracy: 0.7841606246514222\n",
      "epochs: 21 cost: 0.0006700335988723712, accuracy: 0.783324037925265\n",
      "epochs: 22 cost: 0.0009117196449010168, accuracy: 0.783324037925265\n",
      "epochs: 23 cost: 0.000824224346234846, accuracy: 0.7847183491355271\n",
      "epochs: 24 cost: 0.0007201435068886859, accuracy: 0.7844394868934746\n",
      "epochs: 25 cost: 0.0006057497627964147, accuracy: 0.7838817624093698\n",
      "Neurons: 500 | Learning Rate: 0.0005 | Accuracy: 0.7783045175683212\n",
      "\n",
      "--- Test: 6/9 ----\n",
      "\n",
      "epochs: 1 cost: 0.10843699956104873, accuracy: 0.7506971556051311\n",
      "epochs: 2 cost: 0.020713663624022518, accuracy: 0.7660345789180145\n",
      "epochs: 3 cost: 0.01044682330509626, accuracy: 0.7746793084216397\n",
      "epochs: 4 cost: 0.0066195391053101675, accuracy: 0.7785833798103736\n",
      "epochs: 5 cost: 0.0035627176287658423, accuracy: 0.7838817624093698\n",
      "epochs: 6 cost: 0.004070112550649522, accuracy: 0.7808142777467931\n",
      "epochs: 7 cost: 0.003215217849068739, accuracy: 0.7869492470719465\n",
      "epochs: 8 cost: 0.0024162874758858846, accuracy: 0.788622420524261\n",
      "epochs: 9 cost: 0.002121313388541703, accuracy: 0.7889012827663134\n",
      "epochs: 10 cost: 0.002047351330149284, accuracy: 0.7883435582822086\n",
      "epochs: 11 cost: 0.0015509899583428662, accuracy: 0.7880646960401562\n",
      "epochs: 12 cost: 0.0013321813183334178, accuracy: 0.7891801450083659\n",
      "epochs: 13 cost: 0.001147580257168976, accuracy: 0.790574456218628\n",
      "epochs: 14 cost: 0.001202942138872455, accuracy: 0.7914110429447853\n",
      "epochs: 15 cost: 0.0011816195037024305, accuracy: 0.7916899051868377\n",
      "epochs: 16 cost: 0.0009577883527126087, accuracy: 0.792526491912995\n",
      "epochs: 17 cost: 0.0009682093428243696, accuracy: 0.7914110429447853\n",
      "epochs: 18 cost: 0.0008578231772708129, accuracy: 0.7914110429447853\n",
      "epochs: 19 cost: 0.0006929229462466573, accuracy: 0.7919687674288901\n",
      "epochs: 20 cost: 0.000748605769741321, accuracy: 0.7919687674288901\n",
      "epochs: 21 cost: 0.0007291699072956145, accuracy: 0.7919687674288901\n",
      "epochs: 22 cost: 0.0005912117841052133, accuracy: 0.7922476296709425\n",
      "epochs: 23 cost: 0.0006196185986121569, accuracy: 0.7922476296709425\n",
      "epochs: 24 cost: 0.0005908767355610632, accuracy: 0.7928053541550474\n",
      "epochs: 25 cost: 0.0005197094435086026, accuracy: 0.7922476296709425\n",
      "Neurons: 700 | Learning Rate: 0.0005 | Accuracy: 0.7911321807027328\n",
      "\n",
      "--- Test: 7/9 ----\n",
      "\n",
      "epochs: 1 cost: 0.9538352088757936, accuracy: 0.5694366982710541\n",
      "epochs: 2 cost: 0.33554001263477495, accuracy: 0.7032905744562187\n",
      "epochs: 3 cost: 0.17498758201853742, accuracy: 0.72643614054657\n",
      "epochs: 4 cost: 0.11590699337427195, accuracy: 0.7487451199107641\n",
      "epochs: 5 cost: 0.07322529967276738, accuracy: 0.7582264361405465\n",
      "epochs: 6 cost: 0.0418560916706123, accuracy: 0.762409369771333\n",
      "epochs: 7 cost: 0.035840296970081356, accuracy: 0.7707752370329057\n",
      "epochs: 8 cost: 0.02720632518021655, accuracy: 0.7738427216954824\n",
      "epochs: 9 cost: 0.020689353696459106, accuracy: 0.7780256553262688\n",
      "epochs: 10 cost: 0.017766878170465333, accuracy: 0.7783045175683212\n",
      "epochs: 11 cost: 0.014412428208683305, accuracy: 0.7819297267150028\n",
      "epochs: 12 cost: 0.013781736360813283, accuracy: 0.7849972113775795\n",
      "epochs: 13 cost: 0.012446637319296251, accuracy: 0.7802565532626883\n",
      "epochs: 14 cost: 0.010881237724168066, accuracy: 0.783324037925265\n",
      "epochs: 15 cost: 0.007727348601421625, accuracy: 0.7841606246514222\n",
      "epochs: 16 cost: 0.00911862960423067, accuracy: 0.7849972113775795\n",
      "epochs: 17 cost: 0.00797971606040929, accuracy: 0.7869492470719465\n",
      "epochs: 18 cost: 0.00652815055613341, accuracy: 0.7872281093139989\n",
      "epochs: 19 cost: 0.009090460321427624, accuracy: 0.7891801450083659\n",
      "epochs: 20 cost: 0.005785544057200627, accuracy: 0.7877858337981037\n",
      "epochs: 21 cost: 0.005333448057997921, accuracy: 0.7894590072504183\n",
      "epochs: 22 cost: 0.0056089426747814395, accuracy: 0.7880646960401562\n",
      "epochs: 23 cost: 0.004759978156081005, accuracy: 0.7883435582822086\n",
      "epochs: 24 cost: 0.0046735672595701735, accuracy: 0.7877858337981037\n",
      "epochs: 25 cost: 0.004738151848081008, accuracy: 0.7897378694924707\n",
      "Neurons: 300 | Learning Rate: 0.0001 | Accuracy: 0.7849972113775795\n",
      "\n",
      "--- Test: 8/9 ----\n",
      "\n",
      "epochs: 1 cost: 0.6487726008802523, accuracy: 0.6430563301728945\n",
      "epochs: 2 cost: 0.3246223627256324, accuracy: 0.7152816508644729\n",
      "epochs: 3 cost: 0.1496949606141888, accuracy: 0.7442833240379253\n",
      "epochs: 4 cost: 0.07942749027742137, accuracy: 0.7576687116564417\n",
      "epochs: 5 cost: 0.04326011071344494, accuracy: 0.7674288901282766\n",
      "epochs: 6 cost: 0.03420663332305881, accuracy: 0.7763524818739542\n",
      "epochs: 7 cost: 0.026890841473371632, accuracy: 0.7771890686001115\n",
      "epochs: 8 cost: 0.024918755179990128, accuracy: 0.7822085889570553\n",
      "epochs: 9 cost: 0.017717901383016682, accuracy: 0.7844394868934746\n",
      "epochs: 10 cost: 0.015857904421983638, accuracy: 0.7844394868934746\n",
      "epochs: 11 cost: 0.013397385158031929, accuracy: 0.7852760736196319\n",
      "epochs: 12 cost: 0.01266570520034207, accuracy: 0.7861126603457892\n",
      "epochs: 13 cost: 0.009777246679744911, accuracy: 0.7855549358616843\n",
      "epochs: 14 cost: 0.00903249880088812, accuracy: 0.7861126603457892\n",
      "epochs: 15 cost: 0.006996467081649005, accuracy: 0.7855549358616843\n",
      "epochs: 16 cost: 0.007115483805001558, accuracy: 0.7855549358616843\n",
      "epochs: 17 cost: 0.008340770798915391, accuracy: 0.7861126603457892\n",
      "epochs: 18 cost: 0.0071313596575452625, accuracy: 0.7849972113775795\n",
      "epochs: 19 cost: 0.006237456137156433, accuracy: 0.7847183491355271\n",
      "epochs: 20 cost: 0.006028202313032979, accuracy: 0.7877858337981037\n",
      "epochs: 21 cost: 0.00478715788782753, accuracy: 0.7880646960401562\n",
      "epochs: 22 cost: 0.004895383388446113, accuracy: 0.7875069715560513\n",
      "epochs: 23 cost: 0.004989818811492697, accuracy: 0.788622420524261\n",
      "epochs: 24 cost: 0.0046712146460347265, accuracy: 0.7869492470719465\n",
      "epochs: 25 cost: 0.004410152845607496, accuracy: 0.7880646960401562\n",
      "Neurons: 500 | Learning Rate: 0.0001 | Accuracy: 0.7827663134411601\n",
      "\n",
      "--- Test: 9/9 ----\n",
      "\n",
      "epochs: 1 cost: 0.6443279995307278, accuracy: 0.685164528722811\n",
      "epochs: 2 cost: 0.25743036877800457, accuracy: 0.7163970998326826\n",
      "epochs: 3 cost: 0.12915366063671013, accuracy: 0.7387060791968767\n",
      "epochs: 4 cost: 0.0667820858781794, accuracy: 0.7423312883435583\n",
      "epochs: 5 cost: 0.04155770255352112, accuracy: 0.7562744004461796\n",
      "epochs: 6 cost: 0.03228394085697878, accuracy: 0.7540435025097602\n",
      "epochs: 7 cost: 0.02480325951991744, accuracy: 0.7540435025097602\n",
      "epochs: 8 cost: 0.019275268571418674, accuracy: 0.7559955382041271\n",
      "epochs: 9 cost: 0.01903782888029324, accuracy: 0.7562744004461796\n",
      "epochs: 10 cost: 0.01589395980173587, accuracy: 0.7610150585610709\n",
      "epochs: 11 cost: 0.012445605990733416, accuracy: 0.7607361963190185\n",
      "epochs: 12 cost: 0.011628685927620936, accuracy: 0.7660345789180145\n",
      "epochs: 13 cost: 0.009005929111406822, accuracy: 0.7677077523703291\n",
      "epochs: 14 cost: 0.010186798462723544, accuracy: 0.7679866146123815\n",
      "epochs: 15 cost: 0.008120283072987115, accuracy: 0.7704963747908533\n",
      "epochs: 16 cost: 0.007579257515874452, accuracy: 0.7677077523703291\n",
      "epochs: 17 cost: 0.008153436646040065, accuracy: 0.7665923034021194\n",
      "epochs: 18 cost: 0.005913529238451592, accuracy: 0.7679866146123815\n",
      "epochs: 19 cost: 0.005912603027704075, accuracy: 0.7702175125488009\n",
      "epochs: 20 cost: 0.005344661221439449, accuracy: 0.7704963747908533\n",
      "epochs: 21 cost: 0.006201375191296716, accuracy: 0.7693809258226436\n",
      "epochs: 22 cost: 0.00505521800481377, accuracy: 0.7688232013385388\n",
      "epochs: 23 cost: 0.004717181605753729, accuracy: 0.7677077523703291\n",
      "epochs: 24 cost: 0.00420677657715757, accuracy: 0.7688232013385388\n",
      "epochs: 25 cost: 0.004009320601014584, accuracy: 0.7693809258226436\n",
      "Neurons: 700 | Learning Rate: 0.0001 | Accuracy: 0.7693809258226436\n",
      "\n",
      "Best Model has accuracy: 0.807585052983826\n",
      "\n"
     ]
    }
   ],
   "source": [
    "# Constants\n",
    "BATCH_SIZE = 512\n",
    "INPUT_DIM = x_train.shape[1]\n",
    "OUTPUT_DIM = len(alphabet)\n",
    "NEURONS = [300, 500, 700]\n",
    "LEARNING_RATES = [1e-3, 5e-4, 1e-4]\n",
    "EPOCHS = 25\n",
    "\n",
    "# Store models' accuracy for different configurations\n",
    "models_accuracy = {}\n",
    "\n",
    "# Initialize the best model and its accuracy\n",
    "best_model = None\n",
    "best_accuracy = 0\n",
    "\n",
    "# Train different model configurations\n",
    "for lr_index, lr in enumerate(LEARNING_RATES):\n",
    "    for neuron_index, neuron_count in enumerate(NEURONS):\n",
    "        model_idx = lr_index * len(NEURONS) + neuron_index + 1\n",
    "        print(f'\\n--- Test: {model_idx}/{len(LEARNING_RATES)*len(NEURONS)} ----\\n')\n",
    "        \n",
    "        model = Sequential_layers([\n",
    "            Linear(INPUT_DIM, neuron_count), \n",
    "            ReLU(), \n",
    "            Linear(neuron_count, neuron_count),\n",
    "            ReLU(), \n",
    "            Linear(neuron_count, neuron_count),\n",
    "            ReLU(), \n",
    "            Linear(neuron_count, OUTPUT_DIM)\n",
    "        ])\n",
    "        \n",
    "        train(model, EPOCHS, BATCH_SIZE, lr)\n",
    "        \n",
    "        acc = accuracy(x_test, y_test, BATCH_SIZE, model)\n",
    "        print(f'Neurons: {neuron_count} | Learning Rate: {lr} | Accuracy: {acc}')\n",
    "        \n",
    "        models_accuracy[(lr, neuron_count)] = acc\n",
    "        \n",
    "        # Check if the current model's accuracy is the best so far\n",
    "        if acc > best_accuracy:\n",
    "            best_accuracy = acc\n",
    "            best_model = model\n",
    "\n",
    "# Return the best model after the loops\n",
    "print(f\"\\nBest Model has accuracy: {best_accuracy}\\n\")\n"
   ]
  },
  {
   "cell_type": "markdown",
   "metadata": {},
   "source": [
    "### Test your model on Random data from your test set"
   ]
  },
  {
   "cell_type": "code",
   "execution_count": 26,
   "metadata": {},
   "outputs": [
    {
     "data": {
      "image/png": "[encoded data removed]",
      "text/plain": [
       "<Figure size 500x500 with 1 Axes>"
      ]
     },
     "metadata": {},
     "output_type": "display_data"
    },
    {
     "name": "stdout",
     "output_type": "stream",
     "text": [
      "el valor predicho es: k el valor real es:k\n"
     ]
    }
   ],
   "source": [
    "idx = np.random.randint(len(y_test))\n",
    "plot_number(x_test[idx].reshape(28,28))\n",
    "pred = model.predict(x_test[idx].reshape(-1, 1))\n",
    "\n",
    "print(f'el valor predicho es: {alphabet[pred]} el valor real es:{alphabet[y_test[idx][0]]}')"
   ]
  },
  {
   "cell_type": "code",
   "execution_count": null,
   "metadata": {},
   "outputs": [],
   "source": []
  },
  {
   "cell_type": "code",
   "execution_count": null,
   "metadata": {},
   "outputs": [],
   "source": []
  }
 ],
 "metadata": {
  "kernelspec": {
   "display_name": "Python 3 (ipykernel)",
   "language": "python",
   "name": "python3"
  },
  "language_info": {
   "codemirror_mode": {
    "name": "ipython",
    "version": 3
   },
   "file_extension": ".py",
   "mimetype": "text/x-python",
   "name": "python",
   "nbconvert_exporter": "python",
   "pygments_lexer": "ipython3",
   "version": "3.11.4"
  },
  "toc": {
   "base_numbering": 1,
   "nav_menu": {},
   "number_sections": true,
   "sideBar": true,
   "skip_h1_title": false,
   "title_cell": "Table of Contents",
   "title_sidebar": "Contents",
   "toc_cell": false,
   "toc_position": {},
   "toc_section_display": true,
   "toc_window_display": false
  },
  "varInspector": {
   "cols": {
    "lenName": 16,
    "lenType": 16,
    "lenVar": 40
   },
   "kernels_config": {
    "python": {
     "delete_cmd_postfix": "",
     "delete_cmd_prefix": "del ",
     "library": "var_list.py",
     "varRefreshCmd": "print(var_dic_list())"
    },
    "r": {
     "delete_cmd_postfix": ") ",
     "delete_cmd_prefix": "rm(",
     "library": "var_list.r",
     "varRefreshCmd": "cat(var_dic_list()) "
    }
   },
   "types_to_exclude": [
    "module",
    "function",
    "builtin_function_or_method",
    "instance",
    "_Feature"
   ],
   "window_display": false
  }
 },
 "nbformat": 4,
 "nbformat_minor": 4
}
