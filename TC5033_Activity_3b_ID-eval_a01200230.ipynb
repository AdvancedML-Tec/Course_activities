{
 "cells": [
  {
   "cell_type": "markdown",
   "id": "b9bfadda-c95a-4f42-af99-64b14bbe3368",
   "metadata": {},
   "source": [
    "![LogoTec](img/logoTec.png)"
   ]
  },
  {
   "cell_type": "markdown",
   "id": "940c6dbc",
   "metadata": {},
   "source": [
    "## TC 5033\n",
    "### Word Embeddings\n",
    "### Team Members:\n",
    "- A01200230 - Armando Bringas Corpus\n",
    "\n",
    "<br>\n",
    "\n",
    "### Activity 3b: Text Classification using RNNs and AG_NEWS dataset in PyTorch\n",
    "<br>\n",
    "\n",
    "- Objective:\n",
    "    - Understand the basics of Recurrent Neural Networks (RNNs) and their application in text classification.\n",
    "    - Learn how to handle a real-world text dataset, AG_NEWS, in PyTorch.\n",
    "    - Gain hands-on experience in defining, training, and evaluating a text classification model in PyTorch.\n",
    "    \n",
    "<br>\n",
    "\n",
    "- Instructions:\n",
    "    - Data Preparation: Starter code will be provided that loads the AG_NEWS dataset and prepares it for training. Do not modify this part. However, you should be sure to understand it, and comment it, the use of markdown cells is suggested. \n",
    "\n",
    "    - Model Setup: A skeleton code for the RNN model class will be provided. Complete this class and use it to instantiate your model.\n",
    "\n",
    "    - Implementing Accuracy Function: Write a function that takes model predictions and ground truth labels as input and returns the model's accuracy.\n",
    "\n",
    "    - Training Function: Implement a function that performs training on the given model using the AG_NEWS dataset. Your model should achieve an accuracy of at least 80% to get full marks for this part.\n",
    "\n",
    "    - Text Sampling: Write a function that takes a sample text as input and classifies it using your trained model.\n",
    "\n",
    "    - Confusion Matrix: Implement a function to display the confusion matrix for your model on the test data.\n",
    "\n",
    "    - Submission: Submit your completed Jupyter Notebook. Make sure to include a markdown cell at the beginning of the notebook that lists the names of all team members. Teams should consist of 3 to 4 members.\n",
    "    \n",
    "<br>\n",
    "\n",
    "- Evaluation Criteria:\n",
    "\n",
    "    - Correct setup of all the required libraries and modules (10%)\n",
    "    - Code Quality (30%): Your code should be well-organized, clearly commented, and easy to follow. Use also markdown cells for clarity. Comments should be given for all the provided code, this will help you understand its functionality.\n",
    "    \n",
    "   - Functionality (60%): \n",
    "        - All the functions should execute without errors and provide the expected outputs.\n",
    "        - RNN model class (20%)\n",
    "        - Accuracy fucntion (10%)\n",
    "        - Training function (10%)\n",
    "        - Sampling function (10%)\n",
    "        - Confucion matrix (10%)\n",
    "\n",
    "        - The model should achieve at least an 80% accuracy on the AG_NEWS test set for full marks in this criterion.\n"
   ]
  },
  {
   "cell_type": "markdown",
   "id": "4de318da",
   "metadata": {},
   "source": [
    "Dataset\n",
    "\n",
    "https://pytorch.org/text/stable/datasets.html#text-classification\n",
    "\n",
    "https://paperswithcode.com/dataset/ag-news\n"
   ]
  },
  {
   "cell_type": "markdown",
   "id": "4a9801f9",
   "metadata": {},
   "source": [
    "### Import libraries"
   ]
  },
  {
   "cell_type": "code",
   "execution_count": 1,
   "id": "878b524f",
   "metadata": {},
   "outputs": [],
   "source": [
    "# The following libraries are required for running the given code\n",
    "# Please feel free to add any libraries you consider adecuate to complete the assingment.\n",
    "import numpy as np\n",
    "#PyTorch libraries\n",
    "import torch\n",
    "from torchtext.datasets import AG_NEWS\n",
    "# Dataloader library\n",
    "from torch.utils.data import DataLoader\n",
    "from torch.utils.data.dataset import random_split\n",
    "# Libraries to prepare the data\n",
    "from torchtext.data.utils import get_tokenizer\n",
    "from torchtext.vocab import build_vocab_from_iterator\n",
    "from torchtext.data.functional import to_map_style_dataset\n",
    "# neural layers\n",
    "from torch import nn\n",
    "from torch.nn import functional as F\n",
    "\n",
    "# These libraries are suggested to plot confusion matrix\n",
    "# you may use others\n",
    "import scikitplot as skplt\n",
    "import gc\n",
    "\n",
    "# Used libraries to plot the confusion matrix\n",
    "import matplotlib.pyplot as plt\n",
    "from sklearn.metrics import confusion_matrix\n",
    "import seaborn as sns"
   ]
  },
  {
   "cell_type": "code",
   "execution_count": 2,
   "id": "d0fe5907-1aa9-4711-a357-8619cb3ec355",
   "metadata": {},
   "outputs": [
    {
     "data": {
      "text/plain": [
       "'2.1.0'"
      ]
     },
     "execution_count": 2,
     "metadata": {},
     "output_type": "execute_result"
    }
   ],
   "source": [
    "# Check torch version\n",
    "torch.__version__"
   ]
  },
  {
   "cell_type": "code",
   "execution_count": 3,
   "id": "3bab55f3",
   "metadata": {},
   "outputs": [
    {
     "name": "stdout",
     "output_type": "stream",
     "text": [
      "cuda\n"
     ]
    }
   ],
   "source": [
    "# Use GPU if available\n",
    "device = torch.device(\"cuda\" if torch.cuda.is_available() else \"cpu\")\n",
    "print(device)"
   ]
  },
  {
   "cell_type": "markdown",
   "id": "3d38956d",
   "metadata": {},
   "source": [
    "### Get the train and the test datasets and dataloaders"
   ]
  },
  {
   "cell_type": "markdown",
   "id": "e9c6b784",
   "metadata": {},
   "source": [
    "Classes:\n",
    "\n",
    "* 1 - World\n",
    "\n",
    "* 2 - Sports\n",
    "\n",
    "* 3 - Business\n",
    "\n",
    "* 4 - Sci/Tech\n",
    "\n",
    "We will convert them to:\n",
    "\n",
    "* 0 - World\n",
    "\n",
    "* 1 - Sports\n",
    "\n",
    "* 2 - Business\n",
    "\n",
    "* 3 - Sci/Tech"
   ]
  },
  {
   "cell_type": "code",
   "execution_count": 4,
   "id": "49fbed19",
   "metadata": {},
   "outputs": [],
   "source": [
    "train_dataset, test_dataset = AG_NEWS()\n",
    "train_dataset, test_dataset = to_map_style_dataset(train_dataset), to_map_style_dataset(test_dataset)"
   ]
  },
  {
   "cell_type": "code",
   "execution_count": 5,
   "id": "9c372eb9",
   "metadata": {},
   "outputs": [],
   "source": [
    "# Get the tokeniser\n",
    "# tokeniser object\n",
    "tokeniser = get_tokenizer('basic_english')\n",
    "\n",
    "def yield_tokens(data):\n",
    "    for _, text in data:\n",
    "        yield tokeniser(text)"
   ]
  },
  {
   "cell_type": "code",
   "execution_count": 6,
   "id": "794d0375",
   "metadata": {},
   "outputs": [],
   "source": [
    "# Build the vocabulary\n",
    "vocab = build_vocab_from_iterator(yield_tokens(train_dataset), specials=[\"<unk>\"])\n",
    "#set unknown token at position 0\n",
    "vocab.set_default_index(vocab[\"<unk>\"])"
   ]
  },
  {
   "cell_type": "code",
   "execution_count": 7,
   "id": "b48268d4",
   "metadata": {},
   "outputs": [
    {
     "name": "stdout",
     "output_type": "stream",
     "text": [
      "['welcome', 'to', 'te3007'] [3314, 4, 0]\n"
     ]
    }
   ],
   "source": [
    "#test tokens\n",
    "tokens = tokeniser('Welcome to TE3007')\n",
    "print(tokens, vocab(tokens))"
   ]
  },
  {
   "cell_type": "code",
   "execution_count": 8,
   "id": "c8c8f6a6",
   "metadata": {},
   "outputs": [],
   "source": [
    "NUM_TRAIN = int(len(train_dataset)*0.9)\n",
    "NUM_VAL = len(train_dataset) - NUM_TRAIN"
   ]
  },
  {
   "cell_type": "code",
   "execution_count": 9,
   "id": "8290895e",
   "metadata": {},
   "outputs": [],
   "source": [
    "train_dataset, val_dataset = random_split(train_dataset, [NUM_TRAIN, NUM_VAL])"
   ]
  },
  {
   "cell_type": "code",
   "execution_count": 10,
   "id": "cbc75b54",
   "metadata": {},
   "outputs": [
    {
     "name": "stdout",
     "output_type": "stream",
     "text": [
      "108000 12000 7600\n"
     ]
    }
   ],
   "source": [
    "print(len(train_dataset), len(val_dataset), len(test_dataset))"
   ]
  },
  {
   "cell_type": "code",
   "execution_count": 11,
   "id": "ffdbf077",
   "metadata": {},
   "outputs": [],
   "source": [
    "# function passed to the DataLoader to process a batch of data as indicated\n",
    "def collate_batch(batch):\n",
    "    # Get label and text\n",
    "    y, x = list(zip(*batch))\n",
    "    \n",
    "    # Create list with indices from tokeniser\n",
    "    x = [vocab(tokeniser(text)) for text in x]\n",
    "    x = [t + ([0]*(max_tokens - len(t))) if len(t) < max_tokens else t[:max_tokens] for t in x]\n",
    "\n",
    "    # Prepare the labels, by subtracting 1 to get them in the range 0-3\n",
    "    return torch.tensor(x, dtype=torch.int32), torch.tensor(y, dtype=torch.int32) - 1"
   ]
  },
  {
   "cell_type": "code",
   "execution_count": 12,
   "id": "5eb459c7",
   "metadata": {},
   "outputs": [],
   "source": [
    "labels =  [\"World\", \"Sports\", \"Business\", \"Sci/Tech\"]\n",
    "max_tokens = 50\n",
    "BATCH_SIZE = 256"
   ]
  },
  {
   "cell_type": "code",
   "execution_count": 13,
   "id": "0a55e6ee",
   "metadata": {},
   "outputs": [],
   "source": [
    "train_loader = DataLoader(train_dataset, batch_size=BATCH_SIZE, collate_fn=collate_batch, shuffle = True)\n",
    "val_loader = DataLoader(val_dataset, batch_size=BATCH_SIZE, collate_fn=collate_batch, shuffle = True)\n",
    "test_loader = DataLoader(test_dataset, batch_size=BATCH_SIZE, collate_fn=collate_batch, shuffle = True)"
   ]
  },
  {
   "cell_type": "markdown",
   "id": "47b98898",
   "metadata": {},
   "source": [
    "### Let us build our RNN model"
   ]
  },
  {
   "cell_type": "code",
   "execution_count": 14,
   "id": "50f20793",
   "metadata": {},
   "outputs": [],
   "source": [
    "EMBEDDING_SIZE = 50 # Transform to a 50-dimensional vector to capture, decided to make same as max_tokens\n",
    "NEURONS = 32\n",
    "LAYERS = 2\n",
    "NUM_CLASSES = len(labels) # Should be 4"
   ]
  },
  {
   "cell_type": "markdown",
   "id": "7e7bb669-7d28-4042-9a99-33ac82da4007",
   "metadata": {},
   "source": [
    "#### RNN Model class"
   ]
  },
  {
   "cell_type": "code",
   "execution_count": 15,
   "id": "bba72a03-df3c-4562-a7c0-074929067371",
   "metadata": {},
   "outputs": [],
   "source": [
    "class RNN_Model_1(nn.Module):\n",
    "    def __init__(self, embed_size, hidden, layers, num_classes):\n",
    "        super().__init__()\n",
    "        self.embedding_layer = nn.Embedding(num_embeddings=len(vocab),\n",
    "                                            embedding_dim=embed_size)\n",
    "\n",
    "        # Chosen LSTM that is ideal for sequential data as text data\n",
    "        self.rnn = nn.LSTM(embed_size, hidden, layers, batch_first = True) \n",
    "        self.fc = nn.Linear(hidden, NUM_CLASSES) \n",
    "        self.relu = nn.ReLU()\n",
    "        \n",
    "    def forward(self, x):\n",
    "        # Apply the embedding layer that turns word indexes into embeddings\n",
    "        x = self.embedding_layer(x.long())\n",
    "        \n",
    "        # Forward propagate the LSTM\n",
    "        out, (hn, cn) = self.rnn(x)\n",
    "        \n",
    "        # Take the output of the last sequence step for each sample\n",
    "        out = out[:, -1, :]\n",
    "        \n",
    "        # Apply the fully connected layer and return the output\n",
    "        out = self.fc(out)\n",
    "        \n",
    "        return out"
   ]
  },
  {
   "cell_type": "markdown",
   "id": "46171bf4-56a8-4a65-8b55-aa43ef7d61fe",
   "metadata": {},
   "source": [
    "#### Accuracy Function"
   ]
  },
  {
   "cell_type": "code",
   "execution_count": 16,
   "id": "9709ed19-95e3-44b4-b0ba-17796062c1fb",
   "metadata": {},
   "outputs": [],
   "source": [
    "def accuracy(model, loader):\n",
    "    num_correct = 0 # correct predictions\n",
    "    num_total = 0 # total number of examples\n",
    "\n",
    "    # No need to track gradients for validation, hence no_grad context\n",
    "    with torch.no_grad():\n",
    "        for x_i, y_i in loader:\n",
    "            # Move tensors to the correct device\n",
    "            x_i, y_i = x_i.to(device, dtype=torch.float32), y_i.to(device, dtype=torch.long)\n",
    "            scores = model(x_i)\n",
    "            _, predictions = scores.max(dim=1)\n",
    "            num_correct += (predictions == y_i).sum().item()\n",
    "            num_total += y_i.size(0)\n",
    "\n",
    "    # Compute the accuracy\n",
    "    accuracy = num_correct / num_total\n",
    "    \n",
    "    return accuracy"
   ]
  },
  {
   "cell_type": "markdown",
   "id": "053052fc-3814-45bb-9dff-7727f0cd207b",
   "metadata": {},
   "source": [
    "#### Train Function"
   ]
  },
  {
   "cell_type": "code",
   "execution_count": 17,
   "id": "5e843e1f",
   "metadata": {
    "code_folding": []
   },
   "outputs": [],
   "source": [
    "def train(model, optimiser, epochs=100):\n",
    "    # Assign model to current processing device\n",
    "    model = model.to(device=device)\n",
    "\n",
    "    # Epoch loop\n",
    "    for epoch in range(epochs):\n",
    "\n",
    "        # Loop for training the model on each of the minibatches created\n",
    "        for i, (x_i, y_i) in enumerate(train_loader):\n",
    "\n",
    "            # Put model on training mode (enable gradients and dropouts)\n",
    "            model.train()\n",
    "\n",
    "            # Assign current batch of data to the assigned processing unit with correct data type\n",
    "            x_i = x_i.to(device=device, dtype=torch.float32)\n",
    "            y_i = y_i.to(device=device, dtype=torch.long)\n",
    "\n",
    "            # Calculate prediction scores\n",
    "            scores = model(x_i)\n",
    "\n",
    "            # Calculate the cost\n",
    "            cost = F.cross_entropy(input= scores, target=y_i)\n",
    "\n",
    "            # Reset gradients\n",
    "            optimiser.zero_grad()\n",
    "\n",
    "            # Calculate gradients\n",
    "            cost.backward()\n",
    "\n",
    "            # Update training parameters\n",
    "            optimiser.step()\n",
    "\n",
    "        # Calculate accuracy on the validation partition\n",
    "        acc_train = accuracy(model, val_loader)\n",
    "        acc_val = accuracy(model, train_loader)\n",
    "\n",
    "        # Return results\n",
    "        print(f'Epoch: {epoch}, cost: {cost.item()}, accuracy_train: {acc_train}, accuracy_val: {acc_val}')"
   ]
  },
  {
   "cell_type": "markdown",
   "id": "2954c2e4-bf19-44fa-93d5-f2ce59b3c489",
   "metadata": {},
   "source": [
    "### Training RNN"
   ]
  },
  {
   "cell_type": "code",
   "execution_count": 18,
   "id": "87775b29",
   "metadata": {},
   "outputs": [],
   "source": [
    "epochs = 20 \n",
    "lr = 0.005 \n",
    "rnn_model = RNN_Model_1(EMBEDDING_SIZE, NEURONS, LAYERS, NUM_CLASSES)\n",
    "optimiser = torch.optim.Adam(rnn_model.parameters(), lr=lr)"
   ]
  },
  {
   "cell_type": "code",
   "execution_count": 19,
   "id": "aec12a1b",
   "metadata": {
    "scrolled": true
   },
   "outputs": [
    {
     "name": "stdout",
     "output_type": "stream",
     "text": [
      "Epoch: 0, cost: 0.2985561490058899, accuracy_train: 0.8708333333333333, accuracy_val: 0.8948055555555555\n",
      "Epoch: 1, cost: 0.2750178575515747, accuracy_train: 0.9035833333333333, accuracy_val: 0.9404074074074074\n",
      "Epoch: 2, cost: 0.20195627212524414, accuracy_train: 0.909, accuracy_val: 0.9587962962962963\n",
      "Epoch: 3, cost: 0.0976366475224495, accuracy_train: 0.9065833333333333, accuracy_val: 0.9707407407407408\n",
      "Epoch: 4, cost: 0.11110001057386398, accuracy_train: 0.90375, accuracy_val: 0.9798425925925925\n",
      "Epoch: 5, cost: 0.08897141367197037, accuracy_train: 0.9016666666666666, accuracy_val: 0.9866111111111111\n",
      "Epoch: 6, cost: 0.07694470882415771, accuracy_train: 0.8949166666666667, accuracy_val: 0.9863240740740741\n",
      "Epoch: 7, cost: 0.031342193484306335, accuracy_train: 0.9014166666666666, accuracy_val: 0.9920277777777777\n",
      "Epoch: 8, cost: 0.028996065258979797, accuracy_train: 0.9010833333333333, accuracy_val: 0.9930092592592593\n",
      "Epoch: 9, cost: 0.027846548706293106, accuracy_train: 0.8981666666666667, accuracy_val: 0.9945185185185185\n",
      "Epoch: 10, cost: 0.014716731384396553, accuracy_train: 0.8961666666666667, accuracy_val: 0.9957962962962963\n",
      "Epoch: 11, cost: 0.026997745037078857, accuracy_train: 0.8985833333333333, accuracy_val: 0.9963425925925926\n",
      "Epoch: 12, cost: 0.038879185914993286, accuracy_train: 0.8996666666666666, accuracy_val: 0.9963333333333333\n",
      "Epoch: 13, cost: 0.013957601971924305, accuracy_train: 0.8993333333333333, accuracy_val: 0.9968703703703704\n",
      "Epoch: 14, cost: 0.0322987399995327, accuracy_train: 0.8928333333333334, accuracy_val: 0.996175925925926\n",
      "Epoch: 15, cost: 0.019869599491357803, accuracy_train: 0.89375, accuracy_val: 0.9974259259259259\n",
      "Epoch: 16, cost: 0.034197960048913956, accuracy_train: 0.8958333333333334, accuracy_val: 0.9981203703703704\n",
      "Epoch: 17, cost: 0.04487081244587898, accuracy_train: 0.89575, accuracy_val: 0.9965092592592593\n",
      "Epoch: 18, cost: 0.0051552532240748405, accuracy_train: 0.8976666666666666, accuracy_val: 0.9979537037037037\n",
      "Epoch: 19, cost: 0.0013058704789727926, accuracy_train: 0.8999166666666667, accuracy_val: 0.9983148148148148\n"
     ]
    }
   ],
   "source": [
    "train(rnn_model, optimiser=optimiser,  epochs=epochs)"
   ]
  },
  {
   "cell_type": "code",
   "execution_count": 20,
   "id": "7a3ef175",
   "metadata": {},
   "outputs": [
    {
     "name": "stdout",
     "output_type": "stream",
     "text": [
      "0.9009\n"
     ]
    }
   ],
   "source": [
    "print(f'{accuracy(rnn_model, test_loader):.4f}')"
   ]
  },
  {
   "cell_type": "markdown",
   "id": "7eea3ce7-aed4-486d-94ee-e74ca85c6055",
   "metadata": {},
   "source": [
    "### Test Model and Evaluation"
   ]
  },
  {
   "cell_type": "markdown",
   "id": "22e3f827-a039-492e-ada9-a8aa0830e5b6",
   "metadata": {},
   "source": [
    "#### Sampling Function"
   ]
  },
  {
   "cell_type": "code",
   "execution_count": 21,
   "id": "ed30693d",
   "metadata": {},
   "outputs": [],
   "source": [
    "def sample_text(model, loader):\n",
    "    # Randomly sample an index from the dataset\n",
    "    idx = np.random.randint(len(loader.dataset))\n",
    "    y_label, text = loader.dataset[idx]\n",
    "\n",
    "    # Print the text of the document\n",
    "    print('Text from document:\\n\\n{}'.format(text))\n",
    "    \n",
    "    # Ensure the model is in evaluation mode\n",
    "    model.eval()\n",
    "    \n",
    "    # Tokenize and preprocess the input text\n",
    "    processed_text = tokeniser(text) \n",
    "    processed_text_ids = vocab(processed_text)\n",
    "    text_tensor = torch.tensor([processed_text_ids], dtype=torch.long).to(device)\n",
    "\n",
    "    # Disable gradient calculations for inference\n",
    "    with torch.no_grad():\n",
    "        # Forward pass, get model predictions\n",
    "        outputs = model(text_tensor)\n",
    "\n",
    "    # Assuming the output is logits, get the highest scoring class\n",
    "    _, predicted_idx = torch.max(outputs, 1)\n",
    "\n",
    "    # Map the predicted index to the corresponding label\n",
    "    predicted_label = labels[predicted_idx.item()]\n",
    "\n",
    "    # Print the real and predicted labels\n",
    "    print('\\nReal Label: {}'.format(labels[y_label-1]))\n",
    "    print('\\nPredicted Label: {}'.format(predicted_label))\n",
    "\n",
    "    # return predicted_label, y_label"
   ]
  },
  {
   "cell_type": "code",
   "execution_count": 22,
   "id": "534f0220",
   "metadata": {},
   "outputs": [
    {
     "name": "stdout",
     "output_type": "stream",
     "text": [
      "Text from document:\n",
      "\n",
      "Hard Drive: SP Your XP, RSN Don #39;t have Windows XP? Listen up anyway, because there #39;s a lesson to learn, not to mention sly put downs you can use to annoy your Windows-XP-using-friends so they #39;ll finally break down and admit \n",
      "\n",
      "Real Label: Sci/Tech\n",
      "\n",
      "Predicted Label: Sci/Tech\n"
     ]
    }
   ],
   "source": [
    "sample_text(rnn_model, test_loader)"
   ]
  },
  {
   "cell_type": "markdown",
   "id": "7d5627bc-cd70-4af7-b8eb-75f1f64d42e4",
   "metadata": {},
   "source": [
    "#### Confusion Matrix"
   ]
  },
  {
   "cell_type": "code",
   "execution_count": 23,
   "id": "80b1d215-4a72-44d3-9b72-1e7809a2a8de",
   "metadata": {},
   "outputs": [],
   "source": [
    "def calculate_confusion_matrix(model, loader, device):\n",
    "    # Set the model to evaluation mode to deactivate dropout layers, etc.\n",
    "    model.eval()\n",
    "\n",
    "    # Transfer the model to the specified device (CPU or GPU)\n",
    "    model.to(device)\n",
    "\n",
    "    # Initialize lists to hold predicted and true labels\n",
    "    all_preds = []\n",
    "    all_labels = []\n",
    "\n",
    "    # Disable gradient calculations as they aren't needed for evaluation\n",
    "    with torch.no_grad():\n",
    "        \n",
    "        # Iterate over the data loader\n",
    "        for inputs, labels in loader:\n",
    "            \n",
    "            # Transfer inputs and labels to the specified device\n",
    "            inputs = inputs.to(device)\n",
    "            labels = labels.to(device)\n",
    "\n",
    "            # Get model predictions for the current batch\n",
    "            outputs = model(inputs)\n",
    "            \n",
    "            # Find the index of the maximum logit score to get the predicted label\n",
    "            _, preds = torch.max(outputs, 1)\n",
    "            \n",
    "            # Append the predictions and labels to the lists, converting them to CPU and numpy for later processing\n",
    "            all_preds.append(preds.cpu().numpy())\n",
    "            all_labels.append(labels.cpu().numpy())\n",
    "\n",
    "    # Concatenate the lists of preds and labels to form a single array for each\n",
    "    all_preds = np.concatenate(all_preds)\n",
    "    all_labels = np.concatenate(all_labels)\n",
    "\n",
    "    # Compute the confusion matrix using true labels and predictions\n",
    "    cm = confusion_matrix(all_labels, all_preds)\n",
    "\n",
    "    # Return the confusion matrix\n",
    "    return cm"
   ]
  },
  {
   "cell_type": "code",
   "execution_count": 24,
   "id": "85f3c354-0ef5-457b-a574-bc0a2f2642d2",
   "metadata": {},
   "outputs": [],
   "source": [
    "def plot_confusion_matrix(cm, class_names):\n",
    "    plt.figure(figsize=(12, 10))\n",
    "    sns.heatmap(cm, annot=True, fmt='g', cmap='Purples', xticklabels=class_names, yticklabels=class_names, cbar=False) \n",
    "    plt.ylabel('Actual')\n",
    "    plt.xlabel('Predicted')\n",
    "    plt.tight_layout()\n",
    "    plt.show()"
   ]
  },
  {
   "cell_type": "code",
   "execution_count": 25,
   "id": "bb38e093",
   "metadata": {},
   "outputs": [
    {
     "data": {
      "image/png": "[encoded data removed]",
      "text/plain": [
       "<Figure size 1200x1000 with 1 Axes>"
      ]
     },
     "metadata": {},
     "output_type": "display_data"
    }
   ],
   "source": [
    "cm = calculate_confusion_matrix(rnn_model, test_loader, device)\n",
    "plot_confusion_matrix(cm, labels)"
   ]
  },
  {
   "cell_type": "code",
   "execution_count": null,
   "id": "f47f357d-4f7c-4668-9e73-c498e30d4d87",
   "metadata": {},
   "outputs": [],
   "source": []
  }
 ],
 "metadata": {
  "kernelspec": {
   "display_name": "Python 3 (ipykernel)",
   "language": "python",
   "name": "python3"
  },
  "language_info": {
   "codemirror_mode": {
    "name": "ipython",
    "version": 3
   },
   "file_extension": ".py",
   "mimetype": "text/x-python",
   "name": "python",
   "nbconvert_exporter": "python",
   "pygments_lexer": "ipython3",
   "version": "3.11.5"
  },
  "varInspector": {
   "cols": {
    "lenName": 16,
    "lenType": 16,
    "lenVar": 40
   },
   "kernels_config": {
    "python": {
     "delete_cmd_postfix": "",
     "delete_cmd_prefix": "del ",
     "library": "var_list.py",
     "varRefreshCmd": "print(var_dic_list())"
    },
    "r": {
     "delete_cmd_postfix": ") ",
     "delete_cmd_prefix": "rm(",
     "library": "var_list.r",
     "varRefreshCmd": "cat(var_dic_list()) "
    }
   },
   "types_to_exclude": [
    "module",
    "function",
    "builtin_function_or_method",
    "instance",
    "_Feature"
   ],
   "window_display": false
  }
 },
 "nbformat": 4,
 "nbformat_minor": 5
}
