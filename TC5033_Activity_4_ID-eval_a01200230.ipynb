{
 "cells": [
  {
   "attachments": {
    "0d303da7-6904-4aff-a429-726f84f2580a.png": {
     "image/png": "[encoded data removed]"
    }
   },
   "cell_type": "markdown",
   "id": "a827d977-8453-43c5-bc54-067480c97dd0",
   "metadata": {},
   "source": [
    "![LogoTec.png](attachment:0d303da7-6904-4aff-a429-726f84f2580a.png)"
   ]
  },
  {
   "cell_type": "markdown",
   "id": "037e89c8",
   "metadata": {},
   "source": [
    "## TC 5033\n",
    "### Text Generation\n",
    "#### Team Members:\n",
    "- A01200230 - Armando Bringas Corpus\n",
    "\n",
    "<br>\n",
    "\n",
    "## Activity 4: Building a Simple LSTM Text Generator using WikiText-2\n",
    "<br>\n",
    "\n",
    "- Objective:\n",
    "    - Gain a fundamental understanding of Long Short-Term Memory (LSTM) networks.\n",
    "    - Develop hands-on experience with sequence data processing and text generation in PyTorch. Given the simplicity of the model, amount of data, and computer resources, the text you generate will not replace ChatGPT, and results must likely will not make a lot of sense. Its only purpose is academic and to understand the text generation using RNNs.\n",
    "    - Enhance code comprehension and documentation skills by commenting on provided starter code.\n",
    "    \n",
    "<br>\n",
    "\n",
    "- Instructions:\n",
    "    - Code Understanding: Begin by thoroughly reading and understanding the code. Comment each section/block of the provided code to demonstrate your understanding. For this, you are encouraged to add cells with experiments to improve your understanding\n",
    "\n",
    "    - Model Overview: The starter code includes an LSTM model setup for sequence data processing. Familiarize yourself with the model architecture and its components. Once you are familiar with the provided model, feel free to change the model to experiment.\n",
    "\n",
    "    - Training Function: Implement a function to train the LSTM model on the WikiText-2 dataset. This function should feed the training data into the model and perform backpropagation. \n",
    "\n",
    "    - Text Generation Function: Create a function that accepts starting text (seed text) and a specified total number of words to generate. The function should use the trained model to generate a continuation of the input text.\n",
    "\n",
    "    - Code Commenting: Ensure that all the provided starter code is well-commented. Explain the purpose and functionality of each section, indicating your understanding.\n",
    "\n",
    "    - Submission: Submit your Jupyter Notebook with all sections completed and commented. Include a markdown cell with the full names of all contributing team members at the beginning of the notebook.\n",
    "    \n",
    "<br>\n",
    "\n",
    "- Evaluation Criteria:\n",
    "    - Code Commenting (60%): The clarity, accuracy, and thoroughness of comments explaining the provided code. You are suggested to use markdown cells for your explanations.\n",
    "\n",
    "    - Training Function Implementation (20%): The correct implementation of the training function, which should effectively train the model.\n",
    "\n",
    "    - Text Generation Functionality (10%): A working function is provided in comments. You are free to use it as long as you make sure to uderstand it, you may as well improve it as you see fit. The minimum expected is to provide comments for the given function. \n",
    "\n",
    "    - Conclusions (10%): Provide some final remarks specifying the differences you notice between this model and the one used  for classification tasks. Also comment on changes you made to the model, hyperparameters, and any other information you consider relevant. Also, please provide 3 examples of generated texts.\n",
    "\n"
   ]
  },
  {
   "cell_type": "markdown",
   "id": "d471fe96-28d5-4d23-b2c1-1ef203c2b750",
   "metadata": {},
   "source": [
    "### Import libraries"
   ]
  },
  {
   "cell_type": "code",
   "execution_count": 1,
   "id": "3eb4b117",
   "metadata": {
    "tags": []
   },
   "outputs": [],
   "source": [
    "import numpy as np\n",
    "#PyTorch libraries\n",
    "import torch\n",
    "import torchtext\n",
    "from torchtext.datasets import WikiText2\n",
    "# Dataloader library\n",
    "from torch.utils.data import DataLoader, TensorDataset\n",
    "from torch.utils.data.dataset import random_split\n",
    "# Libraries to prepare the data\n",
    "from torchtext.data.utils import get_tokenizer\n",
    "from torchtext.vocab import build_vocab_from_iterator\n",
    "from torchtext.data.functional import to_map_style_dataset\n",
    "# neural layers\n",
    "from torch import nn\n",
    "from torch.nn import functional as F\n",
    "import torch.optim as optim\n",
    "from tqdm import tqdm\n",
    "\n",
    "import random\n",
    "\n",
    "# Added libraries\n",
    "import math\n",
    "import time"
   ]
  },
  {
   "cell_type": "code",
   "execution_count": 2,
   "id": "3e09c2a9-3780-43fd-8328-c148aece9476",
   "metadata": {
    "tags": []
   },
   "outputs": [
    {
     "data": {
      "text/plain": [
       "'2.1.0'"
      ]
     },
     "execution_count": 2,
     "metadata": {},
     "output_type": "execute_result"
    }
   ],
   "source": [
    "# Check torch version\n",
    "torch.__version__"
   ]
  },
  {
   "cell_type": "code",
   "execution_count": 3,
   "id": "6d8ff971",
   "metadata": {
    "tags": []
   },
   "outputs": [
    {
     "name": "stdout",
     "output_type": "stream",
     "text": [
      "cuda\n"
     ]
    }
   ],
   "source": [
    "# Use GPU if available\n",
    "device = torch.device(\"cuda\" if torch.cuda.is_available() else \"cpu\")\n",
    "print(device)"
   ]
  },
  {
   "cell_type": "code",
   "execution_count": 4,
   "id": "e573a20b-8558-4e43-b57b-55c3e94c6ea7",
   "metadata": {
    "tags": []
   },
   "outputs": [
    {
     "name": "stdout",
     "output_type": "stream",
     "text": [
      "NVIDIA GeForce GTX 1650\n",
      "(7, 5)\n",
      "_CudaDeviceProperties(name='NVIDIA GeForce GTX 1650', major=7, minor=5, total_memory=4095MB, multi_processor_count=14)\n"
     ]
    }
   ],
   "source": [
    "if torch.cuda.is_available():\n",
    "    print(torch.cuda.get_device_name(0))\n",
    "    print(torch.cuda.get_device_capability(0))\n",
    "    print(torch.cuda.get_device_properties(0))\n",
    "else:\n",
    "    print(\"No GPU available\")"
   ]
  },
  {
   "cell_type": "markdown",
   "id": "4d439e59-a71f-46fd-a2cd-bdf4e8ccaa8b",
   "metadata": {},
   "source": [
    "### Get the train and the test datasets and dataloaders"
   ]
  },
  {
   "cell_type": "code",
   "execution_count": 5,
   "id": "6764ae41-178c-4ac9-a338-c65627350859",
   "metadata": {},
   "outputs": [],
   "source": [
    "train_dataset, val_dataset, test_dataset = WikiText2()"
   ]
  },
  {
   "cell_type": "code",
   "execution_count": 6,
   "id": "fc4c7dbd",
   "metadata": {
    "tags": []
   },
   "outputs": [],
   "source": [
    "tokeniser = get_tokenizer('basic_english')\n",
    "def yield_tokens(data):\n",
    "    for text in data:\n",
    "        yield tokeniser(text)"
   ]
  },
  {
   "cell_type": "code",
   "execution_count": 7,
   "id": "2c2cb068",
   "metadata": {
    "tags": []
   },
   "outputs": [],
   "source": [
    "# Build the vocabulary\n",
    "vocab = build_vocab_from_iterator(yield_tokens(train_dataset), specials=[\"<unk>\", \"<pad>\", \"<bos>\", \"<eos>\"])\n",
    "#set unknown token at position 0\n",
    "vocab.set_default_index(vocab[\"<unk>\"])"
   ]
  },
  {
   "cell_type": "code",
   "execution_count": 8,
   "id": "134b832b",
   "metadata": {
    "tags": []
   },
   "outputs": [],
   "source": [
    "seq_length = 50\n",
    "def data_process(raw_text_iter, seq_length = 50):\n",
    "    data = [torch.tensor(vocab(tokeniser(item)), dtype=torch.long) for item in raw_text_iter]\n",
    "    data = torch.cat(tuple(filter(lambda t: t.numel() > 0, data))) #remove empty tensors\n",
    "#     target_data = torch.cat(d)\n",
    "    return (data[:-(data.size(0)%seq_length)].view(-1, seq_length), \n",
    "            data[1:-(data.size(0)%seq_length-1)].view(-1, seq_length))  \n",
    "\n",
    "# # Create tensors for the training set\n",
    "x_train, y_train = data_process(train_dataset, seq_length)\n",
    "x_val, y_val = data_process(val_dataset, seq_length)\n",
    "x_test, y_test = data_process(test_dataset, seq_length)"
   ]
  },
  {
   "cell_type": "code",
   "execution_count": 9,
   "id": "4b54c04d",
   "metadata": {
    "tags": []
   },
   "outputs": [],
   "source": [
    "train_dataset = TensorDataset(x_train, y_train)\n",
    "val_dataset = TensorDataset(x_val, y_val)\n",
    "test_dataset = TensorDataset(x_test, y_test)"
   ]
  },
  {
   "cell_type": "code",
   "execution_count": 10,
   "id": "f4d400fb",
   "metadata": {
    "tags": []
   },
   "outputs": [],
   "source": [
    "batch_size = 128  # choose a batch size that fits your computation resources\n",
    "train_loader = DataLoader(train_dataset, batch_size=batch_size, shuffle=True, drop_last=True)\n",
    "val_loader = DataLoader(val_dataset, batch_size=batch_size, shuffle=True, drop_last=True)\n",
    "test_loader = DataLoader(test_dataset, batch_size=batch_size, shuffle=True, drop_last=True)"
   ]
  },
  {
   "cell_type": "markdown",
   "id": "0ac9c5af-99cb-4196-b1a3-5f7da9583139",
   "metadata": {
    "tags": []
   },
   "source": [
    "### LSTM Model definition"
   ]
  },
  {
   "cell_type": "markdown",
   "id": "2898b4c4-2566-484c-9023-46ed0cf3014a",
   "metadata": {},
   "source": [
    "#### LSTM class"
   ]
  },
  {
   "cell_type": "markdown",
   "id": "6ff236c1-a3ff-4e9a-b7fd-7466d7f86990",
   "metadata": {},
   "source": [
    "This LSTM-based model is an architecture for handle various sequence processing tasks in NLP. It has a combination of embedding layers, LSTM cells, dropout, and fully connected layers, along with weight initialization. This LSTM-based model is suitable for text generation tasks.\n",
    "\n",
    "In this case we added some initialization for the weights, we check through the PyTorch documentation for the type on initializators: https://pytorch.org/docs/stable/nn.init.html "
   ]
  },
  {
   "cell_type": "code",
   "execution_count": 11,
   "id": "59c63b01",
   "metadata": {
    "tags": []
   },
   "outputs": [],
   "source": [
    "# Define the LSTM model\n",
    "# Feel free to experiment\n",
    "class LSTMModel(nn.Module):\n",
    "    def __init__(self, vocab_size, embed_size, hidden_size, num_layers, dropout_rate):\n",
    "        super(LSTMModel, self).__init__()\n",
    "        self.embeddings = nn.Embedding(vocab_size, embed_size)\n",
    "        self.embedding_size = embed_size\n",
    "        self.hidden_size = hidden_size\n",
    "        self.num_layers = num_layers\n",
    "        # As regularization added dropout in LSTM and after as a layer\n",
    "        self.lstm = nn.LSTM(embed_size, hidden_size, num_layers, dropout=dropout_rate, batch_first=True)\n",
    "        self.dropout = nn.Dropout(dropout_rate)\n",
    "        self.fc = nn.Linear(hidden_size, vocab_size)\n",
    "        self.init_weights() # Added weight layer\n",
    "\n",
    "    def forward(self, text, hidden=None):\n",
    "        embeddings = self.embeddings(text)\n",
    "        output, hidden = self.lstm(embeddings, hidden)\n",
    "        # As regularization added droput in the output\n",
    "        output = self.dropout(output)\n",
    "        decoded = self.fc(output)\n",
    "        return decoded, hidden\n",
    "\n",
    "    def init_hidden(self, batch_size):\n",
    "        return (torch.zeros(self.num_layers, batch_size, self.hidden_size).to(device),\n",
    "                torch.zeros(self.num_layers, batch_size, self.hidden_size).to(device))\n",
    "\n",
    "    # Added initiallization weights\n",
    "    def init_weights(self):\n",
    "        initrange = 0.1\n",
    "        # Initialize embeddings\n",
    "        self.embeddings.weight.data.uniform_(-initrange, initrange)\n",
    "        # Initialize the linear layer\n",
    "        self.fc.bias.data.zero_()\n",
    "        self.fc.weight.data.uniform_(-initrange, initrange)\n",
    "        # Initialization schemes for LSTM: https://pytorch.org/docs/stable/nn.init.html\n",
    "        for name, param in self.lstm.named_parameters():\n",
    "            if 'weight_ih' in name:\n",
    "                # Glorot - input-hidden weights \n",
    "                nn.init.xavier_uniform_(param.data)\n",
    "            elif 'weight_hh' in name:\n",
    "                # Orthogonal - hidden-hidden weights\n",
    "                nn.init.orthogonal_(param.data)\n",
    "            elif 'bias' in name:\n",
    "                # Bias \n",
    "                param.data.fill_(0)"
   ]
  },
  {
   "cell_type": "markdown",
   "id": "991876f6-d6b9-4616-b767-c69478b3d853",
   "metadata": {},
   "source": [
    "#### Training function"
   ]
  },
  {
   "cell_type": "code",
   "execution_count": 12,
   "id": "d924ac65-01e9-4733-a111-1fd2f2af7e58",
   "metadata": {},
   "outputs": [],
   "source": [
    "def train(model, epochs, optimiser):\n",
    "    '''\n",
    "    The following are possible instructions you may want to conside for this function.\n",
    "    This is only a guide and you may change add or remove whatever you consider appropriate\n",
    "    as long as you train your model correctly.\n",
    "        - loop through specified epochs [ok]\n",
    "        - loop through dataloader [ok]\n",
    "        - don't forget to zero grad! [ok]\n",
    "        - place data (both input and target) in device [ok]\n",
    "        - init hidden states e.g. hidden = model.init_hidden(batch_size) [ok]\n",
    "        - run the model [ok]\n",
    "        - compute the cost or loss [ok]\n",
    "        - backpropagation [ok]\n",
    "        - Update paratemers [ok]\n",
    "        - Include print all the information you consider helpful\n",
    "    \n",
    "    '''\n",
    "    # Assign model to current processing device\n",
    "    model = model.to(device=device)\n",
    "    \n",
    "    # Start counting total training time\n",
    "    total_start_time = time.time()\n",
    "    \n",
    "    # Iterate through epochs\n",
    "    for epoch in range(epochs):\n",
    "        # Start epoch timing\n",
    "        start_time = time.time()\n",
    "        \n",
    "        # Put model on training mode\n",
    "        model.train()\n",
    "        \n",
    "        total_loss = 0\n",
    "        for i, (data, targets) in enumerate(train_loader):\n",
    "            # Assign data to the correct device\n",
    "            data = data.to(device=device, dtype=torch.int64)\n",
    "            targets = targets.to(device=device, dtype=torch.int64)\n",
    "            \n",
    "            # Initialize hidden states\n",
    "            batch_size = data.size(0)\n",
    "            hidden = model.init_hidden(batch_size)\n",
    "            hidden = tuple([each.data for each in hidden])\n",
    "            \n",
    "            # Calculate prediction scores, forward pass\n",
    "            scores, hidden = model(data, hidden)\n",
    "            \n",
    "            # Calculate the loss\n",
    "            scores = scores.view(-1, vocab_size)\n",
    "            targets = targets.view(-1)\n",
    "            loss = F.cross_entropy(scores, targets)\n",
    "            total_loss += loss.item()\n",
    "            \n",
    "            # Perform backward pass and optimize\n",
    "            optimiser.zero_grad()\n",
    "            loss.backward()\n",
    "            optimiser.step()\n",
    "            \n",
    "            # Print batch loss\n",
    "            if i % 100 == 0:  # print every 100 batches\n",
    "                print(f'Epoch {epoch}, Batch {i}, Loss {loss.item()}')\n",
    "        \n",
    "        # Calculate average loss and elapsed time for the epoch\n",
    "        avg_loss = total_loss / len(train_loader)\n",
    "        elapsed_time = time.time() - start_time\n",
    "        \n",
    "        # Print epoch loss and time\n",
    "        print('\\n' + '-' * 60)\n",
    "        print(f'Epoch {epoch} completed with average loss {avg_loss:.4f} in {elapsed_time:.2f}s')\n",
    "        print('-' * 60 + '\\n')\n",
    "    \n",
    "    # Print total elapsed time for training\n",
    "    total_elapsed_time = time.time() - total_start_time\n",
    "    hours = total_elapsed_time // 3600\n",
    "    minutes = (total_elapsed_time % 3600) // 60\n",
    "    seconds = (total_elapsed_time % 3600) % 60\n",
    "    \n",
    "    # Print total time with hours, minutes and seconds\n",
    "    print(f'Total training time: {int(hours)}h {int(minutes)}m {int(seconds)}s')"
   ]
  },
  {
   "cell_type": "markdown",
   "id": "12e7c2d1-cb98-4616-af28-d6b8cfa7c505",
   "metadata": {},
   "source": [
    "### Training LSTM"
   ]
  },
  {
   "cell_type": "markdown",
   "id": "ac6c9be3-2ec2-4b86-bf50-f07d260bb53b",
   "metadata": {},
   "source": [
    "#### Hyperparameters definition."
   ]
  },
  {
   "cell_type": "code",
   "execution_count": 13,
   "id": "6d618261-6f1c-43f9-8964-66fa7a664d88",
   "metadata": {},
   "outputs": [],
   "source": [
    "vocab_size = len(vocab) # vocabulary size\n",
    "emb_size = 800 # embedding size\n",
    "neurons = 512 # the dimension of the feedforward network model, i.e. # of neurons \n",
    "num_layers = 2 # the number of nn.LSTM layers\n",
    "dropout_rate = 0.65 # the regularization factor\n",
    "\n",
    "loss_function = nn.CrossEntropyLoss() # loss function\n",
    "lr = 0.001 # learning rate\n",
    "epochs = 50 # epochs"
   ]
  },
  {
   "cell_type": "markdown",
   "id": "58a84a28-ab29-4070-8748-49a80543dd29",
   "metadata": {},
   "source": [
    "#### Optimizer, Model definition & training"
   ]
  },
  {
   "cell_type": "code",
   "execution_count": 14,
   "id": "aa9c84ce",
   "metadata": {
    "tags": []
   },
   "outputs": [
    {
     "name": "stdout",
     "output_type": "stream",
     "text": [
      "Epoch 0, Batch 0, Loss 10.267952919006348\n",
      "Epoch 0, Batch 100, Loss 6.834283828735352\n",
      "Epoch 0, Batch 200, Loss 6.512574672698975\n",
      "Epoch 0, Batch 300, Loss 6.296056747436523\n",
      "\n",
      "------------------------------------------------------------\n",
      "Epoch 0 completed with average loss 6.7500 in 838.35s\n",
      "------------------------------------------------------------\n",
      "\n",
      "Epoch 1, Batch 0, Loss 6.237114906311035\n",
      "Epoch 1, Batch 100, Loss 6.113154411315918\n",
      "Epoch 1, Batch 200, Loss 5.999763011932373\n",
      "Epoch 1, Batch 300, Loss 5.8418450355529785\n",
      "\n",
      "------------------------------------------------------------\n",
      "Epoch 1 completed with average loss 6.0200 in 842.76s\n",
      "------------------------------------------------------------\n",
      "\n",
      "Epoch 2, Batch 0, Loss 5.816137790679932\n",
      "Epoch 2, Batch 100, Loss 5.7320122718811035\n",
      "Epoch 2, Batch 200, Loss 5.7492876052856445\n",
      "Epoch 2, Batch 300, Loss 5.564638137817383\n",
      "\n",
      "------------------------------------------------------------\n",
      "Epoch 2 completed with average loss 5.7374 in 862.74s\n",
      "------------------------------------------------------------\n",
      "\n",
      "Epoch 3, Batch 0, Loss 5.581632137298584\n",
      "Epoch 3, Batch 100, Loss 5.557146072387695\n",
      "Epoch 3, Batch 200, Loss 5.477694511413574\n",
      "Epoch 3, Batch 300, Loss 5.489266395568848\n",
      "\n",
      "------------------------------------------------------------\n",
      "Epoch 3 completed with average loss 5.5353 in 820.89s\n",
      "------------------------------------------------------------\n",
      "\n",
      "Epoch 4, Batch 0, Loss 5.338476657867432\n",
      "Epoch 4, Batch 100, Loss 5.383350372314453\n",
      "Epoch 4, Batch 200, Loss 5.384471416473389\n",
      "Epoch 4, Batch 300, Loss 5.3710174560546875\n",
      "\n",
      "------------------------------------------------------------\n",
      "Epoch 4 completed with average loss 5.3741 in 806.76s\n",
      "------------------------------------------------------------\n",
      "\n",
      "Epoch 5, Batch 0, Loss 5.262752056121826\n",
      "Epoch 5, Batch 100, Loss 5.25981330871582\n",
      "Epoch 5, Batch 200, Loss 5.179980278015137\n",
      "Epoch 5, Batch 300, Loss 5.1806793212890625\n",
      "\n",
      "------------------------------------------------------------\n",
      "Epoch 5 completed with average loss 5.2423 in 802.60s\n",
      "------------------------------------------------------------\n",
      "\n",
      "Epoch 6, Batch 0, Loss 5.161752700805664\n",
      "Epoch 6, Batch 100, Loss 5.0628252029418945\n",
      "Epoch 6, Batch 200, Loss 5.113908290863037\n",
      "Epoch 6, Batch 300, Loss 5.107614040374756\n",
      "\n",
      "------------------------------------------------------------\n",
      "Epoch 6 completed with average loss 5.1287 in 801.80s\n",
      "------------------------------------------------------------\n",
      "\n",
      "Epoch 7, Batch 0, Loss 4.99995231628418\n",
      "Epoch 7, Batch 100, Loss 5.022647380828857\n",
      "Epoch 7, Batch 200, Loss 4.963942050933838\n",
      "Epoch 7, Batch 300, Loss 5.053882122039795\n",
      "\n",
      "------------------------------------------------------------\n",
      "Epoch 7 completed with average loss 5.0306 in 802.12s\n",
      "------------------------------------------------------------\n",
      "\n",
      "Epoch 8, Batch 0, Loss 4.9972405433654785\n",
      "Epoch 8, Batch 100, Loss 4.8533101081848145\n",
      "Epoch 8, Batch 200, Loss 5.002138614654541\n",
      "Epoch 8, Batch 300, Loss 4.90820837020874\n",
      "\n",
      "------------------------------------------------------------\n",
      "Epoch 8 completed with average loss 4.9443 in 806.23s\n",
      "------------------------------------------------------------\n",
      "\n",
      "Epoch 9, Batch 0, Loss 4.737703800201416\n",
      "Epoch 9, Batch 100, Loss 4.832128524780273\n",
      "Epoch 9, Batch 200, Loss 4.884164333343506\n",
      "Epoch 9, Batch 300, Loss 4.805817127227783\n",
      "\n",
      "------------------------------------------------------------\n",
      "Epoch 9 completed with average loss 4.8652 in 801.65s\n",
      "------------------------------------------------------------\n",
      "\n",
      "Epoch 10, Batch 0, Loss 4.735334873199463\n",
      "Epoch 10, Batch 100, Loss 4.825525283813477\n",
      "Epoch 10, Batch 200, Loss 4.815614223480225\n",
      "Epoch 10, Batch 300, Loss 4.752321243286133\n",
      "\n",
      "------------------------------------------------------------\n",
      "Epoch 10 completed with average loss 4.7948 in 801.77s\n",
      "------------------------------------------------------------\n",
      "\n",
      "Epoch 11, Batch 0, Loss 4.685385227203369\n",
      "Epoch 11, Batch 100, Loss 4.592047214508057\n",
      "Epoch 11, Batch 200, Loss 4.7573018074035645\n",
      "Epoch 11, Batch 300, Loss 4.764608383178711\n",
      "\n",
      "------------------------------------------------------------\n",
      "Epoch 11 completed with average loss 4.7268 in 802.43s\n",
      "------------------------------------------------------------\n",
      "\n",
      "Epoch 12, Batch 0, Loss 4.690743923187256\n",
      "Epoch 12, Batch 100, Loss 4.6815996170043945\n",
      "Epoch 12, Batch 200, Loss 4.666337490081787\n",
      "Epoch 12, Batch 300, Loss 4.731950283050537\n",
      "\n",
      "------------------------------------------------------------\n",
      "Epoch 12 completed with average loss 4.6649 in 801.68s\n",
      "------------------------------------------------------------\n",
      "\n",
      "Epoch 13, Batch 0, Loss 4.582937717437744\n",
      "Epoch 13, Batch 100, Loss 4.565176010131836\n",
      "Epoch 13, Batch 200, Loss 4.633476734161377\n",
      "Epoch 13, Batch 300, Loss 4.648616790771484\n",
      "\n",
      "------------------------------------------------------------\n",
      "Epoch 13 completed with average loss 4.6074 in 801.88s\n",
      "------------------------------------------------------------\n",
      "\n",
      "Epoch 14, Batch 0, Loss 4.569495677947998\n",
      "Epoch 14, Batch 100, Loss 4.514218807220459\n",
      "Epoch 14, Batch 200, Loss 4.593440532684326\n",
      "Epoch 14, Batch 300, Loss 4.619258880615234\n",
      "\n",
      "------------------------------------------------------------\n",
      "Epoch 14 completed with average loss 4.5501 in 801.76s\n",
      "------------------------------------------------------------\n",
      "\n",
      "Epoch 15, Batch 0, Loss 4.426522731781006\n",
      "Epoch 15, Batch 100, Loss 4.542745113372803\n",
      "Epoch 15, Batch 200, Loss 4.467591762542725\n",
      "Epoch 15, Batch 300, Loss 4.468790054321289\n",
      "\n",
      "------------------------------------------------------------\n",
      "Epoch 15 completed with average loss 4.4978 in 801.54s\n",
      "------------------------------------------------------------\n",
      "\n",
      "Epoch 16, Batch 0, Loss 4.39603853225708\n",
      "Epoch 16, Batch 100, Loss 4.459595203399658\n",
      "Epoch 16, Batch 200, Loss 4.434098720550537\n",
      "Epoch 16, Batch 300, Loss 4.41222620010376\n",
      "\n",
      "------------------------------------------------------------\n",
      "Epoch 16 completed with average loss 4.4467 in 803.02s\n",
      "------------------------------------------------------------\n",
      "\n",
      "Epoch 17, Batch 0, Loss 4.277978420257568\n",
      "Epoch 17, Batch 100, Loss 4.381706714630127\n",
      "Epoch 17, Batch 200, Loss 4.446342945098877\n",
      "Epoch 17, Batch 300, Loss 4.519172191619873\n",
      "\n",
      "------------------------------------------------------------\n",
      "Epoch 17 completed with average loss 4.3969 in 801.29s\n",
      "------------------------------------------------------------\n",
      "\n",
      "Epoch 18, Batch 0, Loss 4.328232765197754\n",
      "Epoch 18, Batch 100, Loss 4.3408732414245605\n",
      "Epoch 18, Batch 200, Loss 4.308963298797607\n",
      "Epoch 18, Batch 300, Loss 4.388861656188965\n",
      "\n",
      "------------------------------------------------------------\n",
      "Epoch 18 completed with average loss 4.3506 in 802.73s\n",
      "------------------------------------------------------------\n",
      "\n",
      "Epoch 19, Batch 0, Loss 4.2198686599731445\n",
      "Epoch 19, Batch 100, Loss 4.278253078460693\n",
      "Epoch 19, Batch 200, Loss 4.325565338134766\n",
      "Epoch 19, Batch 300, Loss 4.434560298919678\n",
      "\n",
      "------------------------------------------------------------\n",
      "Epoch 19 completed with average loss 4.3052 in 801.49s\n",
      "------------------------------------------------------------\n",
      "\n",
      "Epoch 20, Batch 0, Loss 4.153954029083252\n",
      "Epoch 20, Batch 100, Loss 4.1899333000183105\n",
      "Epoch 20, Batch 200, Loss 4.23619270324707\n",
      "Epoch 20, Batch 300, Loss 4.235925674438477\n",
      "\n",
      "------------------------------------------------------------\n",
      "Epoch 20 completed with average loss 4.2602 in 801.93s\n",
      "------------------------------------------------------------\n",
      "\n",
      "Epoch 21, Batch 0, Loss 4.25771951675415\n",
      "Epoch 21, Batch 100, Loss 4.229190826416016\n",
      "Epoch 21, Batch 200, Loss 4.166518688201904\n",
      "Epoch 21, Batch 300, Loss 4.2935404777526855\n",
      "\n",
      "------------------------------------------------------------\n",
      "Epoch 21 completed with average loss 4.2173 in 802.73s\n",
      "------------------------------------------------------------\n",
      "\n",
      "Epoch 22, Batch 0, Loss 4.101994037628174\n",
      "Epoch 22, Batch 100, Loss 4.192526340484619\n",
      "Epoch 22, Batch 200, Loss 4.2172346115112305\n",
      "Epoch 22, Batch 300, Loss 4.196609973907471\n",
      "\n",
      "------------------------------------------------------------\n",
      "Epoch 22 completed with average loss 4.1762 in 801.80s\n",
      "------------------------------------------------------------\n",
      "\n",
      "Epoch 23, Batch 0, Loss 4.022215366363525\n",
      "Epoch 23, Batch 100, Loss 4.1735615730285645\n",
      "Epoch 23, Batch 200, Loss 4.181331157684326\n",
      "Epoch 23, Batch 300, Loss 4.131230354309082\n",
      "\n",
      "------------------------------------------------------------\n",
      "Epoch 23 completed with average loss 4.1342 in 801.96s\n",
      "------------------------------------------------------------\n",
      "\n",
      "Epoch 24, Batch 0, Loss 3.9640164375305176\n",
      "Epoch 24, Batch 100, Loss 4.088408946990967\n",
      "Epoch 24, Batch 200, Loss 4.200056076049805\n",
      "Epoch 24, Batch 300, Loss 4.156118392944336\n",
      "\n",
      "------------------------------------------------------------\n",
      "Epoch 24 completed with average loss 4.0960 in 801.26s\n",
      "------------------------------------------------------------\n",
      "\n",
      "Epoch 25, Batch 0, Loss 3.9424755573272705\n",
      "Epoch 25, Batch 100, Loss 4.053533554077148\n",
      "Epoch 25, Batch 200, Loss 4.033069133758545\n",
      "Epoch 25, Batch 300, Loss 4.1308674812316895\n",
      "\n",
      "------------------------------------------------------------\n",
      "Epoch 25 completed with average loss 4.0578 in 802.33s\n",
      "------------------------------------------------------------\n",
      "\n",
      "Epoch 26, Batch 0, Loss 3.940448522567749\n",
      "Epoch 26, Batch 100, Loss 3.9569079875946045\n",
      "Epoch 26, Batch 200, Loss 3.9917783737182617\n",
      "Epoch 26, Batch 300, Loss 4.041839122772217\n",
      "\n",
      "------------------------------------------------------------\n",
      "Epoch 26 completed with average loss 4.0212 in 802.05s\n",
      "------------------------------------------------------------\n",
      "\n",
      "Epoch 27, Batch 0, Loss 4.009219169616699\n",
      "Epoch 27, Batch 100, Loss 4.043494701385498\n",
      "Epoch 27, Batch 200, Loss 3.9369277954101562\n",
      "Epoch 27, Batch 300, Loss 4.0703020095825195\n",
      "\n",
      "------------------------------------------------------------\n",
      "Epoch 27 completed with average loss 3.9848 in 802.79s\n",
      "------------------------------------------------------------\n",
      "\n",
      "Epoch 28, Batch 0, Loss 3.8649916648864746\n",
      "Epoch 28, Batch 100, Loss 3.8571088314056396\n",
      "Epoch 28, Batch 200, Loss 3.889878511428833\n",
      "Epoch 28, Batch 300, Loss 3.91973876953125\n",
      "\n",
      "------------------------------------------------------------\n",
      "Epoch 28 completed with average loss 3.9503 in 802.23s\n",
      "------------------------------------------------------------\n",
      "\n",
      "Epoch 29, Batch 0, Loss 3.8586084842681885\n",
      "Epoch 29, Batch 100, Loss 3.934353828430176\n",
      "Epoch 29, Batch 200, Loss 4.0065836906433105\n",
      "Epoch 29, Batch 300, Loss 4.006514072418213\n",
      "\n",
      "------------------------------------------------------------\n",
      "Epoch 29 completed with average loss 3.9176 in 802.35s\n",
      "------------------------------------------------------------\n",
      "\n",
      "Epoch 30, Batch 0, Loss 3.889730215072632\n",
      "Epoch 30, Batch 100, Loss 3.903712749481201\n",
      "Epoch 30, Batch 200, Loss 3.9084503650665283\n",
      "Epoch 30, Batch 300, Loss 3.945368766784668\n",
      "\n",
      "------------------------------------------------------------\n",
      "Epoch 30 completed with average loss 3.8861 in 802.39s\n",
      "------------------------------------------------------------\n",
      "\n",
      "Epoch 31, Batch 0, Loss 3.796024799346924\n",
      "Epoch 31, Batch 100, Loss 3.879132032394409\n",
      "Epoch 31, Batch 200, Loss 3.9028306007385254\n",
      "Epoch 31, Batch 300, Loss 3.911132574081421\n",
      "\n",
      "------------------------------------------------------------\n",
      "Epoch 31 completed with average loss 3.8536 in 801.32s\n",
      "------------------------------------------------------------\n",
      "\n",
      "Epoch 32, Batch 0, Loss 3.7424488067626953\n",
      "Epoch 32, Batch 100, Loss 3.8054208755493164\n",
      "Epoch 32, Batch 200, Loss 3.8263790607452393\n",
      "Epoch 32, Batch 300, Loss 3.845512628555298\n",
      "\n",
      "------------------------------------------------------------\n",
      "Epoch 32 completed with average loss 3.8217 in 801.93s\n",
      "------------------------------------------------------------\n",
      "\n",
      "Epoch 33, Batch 0, Loss 3.7514727115631104\n",
      "Epoch 33, Batch 100, Loss 3.8061022758483887\n",
      "Epoch 33, Batch 200, Loss 3.736781597137451\n",
      "Epoch 33, Batch 300, Loss 3.8150887489318848\n",
      "\n",
      "------------------------------------------------------------\n",
      "Epoch 33 completed with average loss 3.7936 in 801.93s\n",
      "------------------------------------------------------------\n",
      "\n",
      "Epoch 34, Batch 0, Loss 3.6780450344085693\n",
      "Epoch 34, Batch 100, Loss 3.703847646713257\n",
      "Epoch 34, Batch 200, Loss 3.759312629699707\n",
      "Epoch 34, Batch 300, Loss 3.7719740867614746\n",
      "\n",
      "------------------------------------------------------------\n",
      "Epoch 34 completed with average loss 3.7634 in 801.23s\n",
      "------------------------------------------------------------\n",
      "\n",
      "Epoch 35, Batch 0, Loss 3.658438205718994\n",
      "Epoch 35, Batch 100, Loss 3.703782081604004\n",
      "Epoch 35, Batch 200, Loss 3.670518159866333\n",
      "Epoch 35, Batch 300, Loss 3.7931385040283203\n",
      "\n",
      "------------------------------------------------------------\n",
      "Epoch 35 completed with average loss 3.7355 in 824.86s\n",
      "------------------------------------------------------------\n",
      "\n",
      "Epoch 36, Batch 0, Loss 3.649303913116455\n",
      "Epoch 36, Batch 100, Loss 3.639050006866455\n",
      "Epoch 36, Batch 200, Loss 3.754610538482666\n",
      "Epoch 36, Batch 300, Loss 3.7921905517578125\n",
      "\n",
      "------------------------------------------------------------\n",
      "Epoch 36 completed with average loss 3.7087 in 874.41s\n",
      "------------------------------------------------------------\n",
      "\n",
      "Epoch 37, Batch 0, Loss 3.5893630981445312\n",
      "Epoch 37, Batch 100, Loss 3.687694787979126\n",
      "Epoch 37, Batch 200, Loss 3.6619317531585693\n",
      "Epoch 37, Batch 300, Loss 3.6857733726501465\n",
      "\n",
      "------------------------------------------------------------\n",
      "Epoch 37 completed with average loss 3.6824 in 872.09s\n",
      "------------------------------------------------------------\n",
      "\n",
      "Epoch 38, Batch 0, Loss 3.641207695007324\n",
      "Epoch 38, Batch 100, Loss 3.6234164237976074\n",
      "Epoch 38, Batch 200, Loss 3.728297233581543\n",
      "Epoch 38, Batch 300, Loss 3.6995999813079834\n",
      "\n",
      "------------------------------------------------------------\n",
      "Epoch 38 completed with average loss 3.6551 in 871.82s\n",
      "------------------------------------------------------------\n",
      "\n",
      "Epoch 39, Batch 0, Loss 3.584510087966919\n",
      "Epoch 39, Batch 100, Loss 3.7361221313476562\n",
      "Epoch 39, Batch 200, Loss 3.6356899738311768\n",
      "Epoch 39, Batch 300, Loss 3.6664485931396484\n",
      "\n",
      "------------------------------------------------------------\n",
      "Epoch 39 completed with average loss 3.6325 in 4642.96s\n",
      "------------------------------------------------------------\n",
      "\n",
      "Epoch 40, Batch 0, Loss 3.5742011070251465\n",
      "Epoch 40, Batch 100, Loss 3.570418119430542\n",
      "Epoch 40, Batch 200, Loss 3.6597607135772705\n",
      "Epoch 40, Batch 300, Loss 3.684755563735962\n",
      "\n",
      "------------------------------------------------------------\n",
      "Epoch 40 completed with average loss 3.6058 in 863.65s\n",
      "------------------------------------------------------------\n",
      "\n",
      "Epoch 41, Batch 0, Loss 3.4757680892944336\n",
      "Epoch 41, Batch 100, Loss 3.449211359024048\n",
      "Epoch 41, Batch 200, Loss 3.6067256927490234\n",
      "Epoch 41, Batch 300, Loss 3.69199275970459\n",
      "\n",
      "------------------------------------------------------------\n",
      "Epoch 41 completed with average loss 3.5829 in 863.91s\n",
      "------------------------------------------------------------\n",
      "\n",
      "Epoch 42, Batch 0, Loss 3.4456000328063965\n",
      "Epoch 42, Batch 100, Loss 3.5996456146240234\n",
      "Epoch 42, Batch 200, Loss 3.6827785968780518\n",
      "Epoch 42, Batch 300, Loss 3.5827133655548096\n",
      "\n",
      "------------------------------------------------------------\n",
      "Epoch 42 completed with average loss 3.5613 in 865.51s\n",
      "------------------------------------------------------------\n",
      "\n",
      "Epoch 43, Batch 0, Loss 3.4760053157806396\n",
      "Epoch 43, Batch 100, Loss 3.490980625152588\n",
      "Epoch 43, Batch 200, Loss 3.5125222206115723\n",
      "Epoch 43, Batch 300, Loss 3.633470058441162\n",
      "\n",
      "------------------------------------------------------------\n",
      "Epoch 43 completed with average loss 3.5395 in 864.27s\n",
      "------------------------------------------------------------\n",
      "\n",
      "Epoch 44, Batch 0, Loss 3.424654245376587\n",
      "Epoch 44, Batch 100, Loss 3.464897394180298\n",
      "Epoch 44, Batch 200, Loss 3.5410289764404297\n",
      "Epoch 44, Batch 300, Loss 3.525073289871216\n",
      "\n",
      "------------------------------------------------------------\n",
      "Epoch 44 completed with average loss 3.5151 in 864.28s\n",
      "------------------------------------------------------------\n",
      "\n",
      "Epoch 45, Batch 0, Loss 3.4438858032226562\n",
      "Epoch 45, Batch 100, Loss 3.488055944442749\n",
      "Epoch 45, Batch 200, Loss 3.5350828170776367\n",
      "Epoch 45, Batch 300, Loss 3.5552256107330322\n",
      "\n",
      "------------------------------------------------------------\n",
      "Epoch 45 completed with average loss 3.4941 in 864.46s\n",
      "------------------------------------------------------------\n",
      "\n",
      "Epoch 46, Batch 0, Loss 3.396148920059204\n",
      "Epoch 46, Batch 100, Loss 3.5242137908935547\n",
      "Epoch 46, Batch 200, Loss 3.421900987625122\n",
      "Epoch 46, Batch 300, Loss 3.4529242515563965\n",
      "\n",
      "------------------------------------------------------------\n",
      "Epoch 46 completed with average loss 3.4750 in 867.65s\n",
      "------------------------------------------------------------\n",
      "\n",
      "Epoch 47, Batch 0, Loss 3.391603469848633\n",
      "Epoch 47, Batch 100, Loss 3.4138152599334717\n",
      "Epoch 47, Batch 200, Loss 3.4773247241973877\n",
      "Epoch 47, Batch 300, Loss 3.473972797393799\n",
      "\n",
      "------------------------------------------------------------\n",
      "Epoch 47 completed with average loss 3.4530 in 863.89s\n",
      "------------------------------------------------------------\n",
      "\n",
      "Epoch 48, Batch 0, Loss 3.3335628509521484\n",
      "Epoch 48, Batch 100, Loss 3.4155097007751465\n",
      "Epoch 48, Batch 200, Loss 3.4925928115844727\n",
      "Epoch 48, Batch 300, Loss 3.56992244720459\n",
      "\n",
      "------------------------------------------------------------\n",
      "Epoch 48 completed with average loss 3.4345 in 865.67s\n",
      "------------------------------------------------------------\n",
      "\n",
      "Epoch 49, Batch 0, Loss 3.2505855560302734\n",
      "Epoch 49, Batch 100, Loss 3.366615056991577\n",
      "Epoch 49, Batch 200, Loss 3.3907852172851562\n",
      "Epoch 49, Batch 300, Loss 3.4022743701934814\n",
      "\n",
      "------------------------------------------------------------\n",
      "Epoch 49 completed with average loss 3.4144 in 864.08s\n",
      "------------------------------------------------------------\n",
      "\n",
      "Total training time: 12h 29m 29s\n"
     ]
    }
   ],
   "source": [
    "# Call the train function\n",
    "model = LSTMModel(vocab_size, emb_size, neurons, num_layers, dropout_rate)\n",
    "optimiser = optim.Adam(model.parameters(), lr=lr)\n",
    "train(model, epochs, optimiser)"
   ]
  },
  {
   "cell_type": "markdown",
   "id": "cb10be23-f5f3-4630-bab4-65943bd89c69",
   "metadata": {},
   "source": [
    "### Text Generation"
   ]
  },
  {
   "cell_type": "code",
   "execution_count": 15,
   "id": "c8667411",
   "metadata": {},
   "outputs": [],
   "source": [
    "def generate_text(model, start_text, num_words, temperature=1.0):\n",
    "    model.eval()\n",
    "    \n",
    "    # Tokenize the starting text and initialize the hidden state\n",
    "    words = tokeniser(start_text)\n",
    "    hidden = model.init_hidden(1)\n",
    "    \n",
    "    # Generate words one by one\n",
    "    for _ in range(num_words):\n",
    "        # Input tensor preparation\n",
    "        input_indices = [vocab[word] for word in words[-1:]]  # get indices for the last word only\n",
    "        x = torch.tensor([input_indices], dtype=torch.long, device=device)\n",
    "        \n",
    "        # Get predictions from model\n",
    "        y_pred, hidden = model(x, hidden)\n",
    "        \n",
    "        # Vector of raw prediction score (logit), apply softmax with temperature\n",
    "        last_word_logits = y_pred[0][-1]\n",
    "        probabilities = F.softmax(last_word_logits / temperature, dim=0).detach().cpu().numpy()\n",
    "        \n",
    "        # Sample a word index from the probability distribution, append the generated word to the words list\n",
    "        word_index = np.random.choice(len(vocab), p=probabilities)\n",
    "        words.append(vocab.lookup_token(word_index))\n",
    "\n",
    "    return ' '.join(words)"
   ]
  },
  {
   "cell_type": "markdown",
   "id": "136187c3-38b4-4d4f-8bc7-6a4c7a4c0f6c",
   "metadata": {},
   "source": [
    "#### Text generations samples"
   ]
  },
  {
   "cell_type": "markdown",
   "id": "53def139-9a2e-426c-b90d-dbc740f145f4",
   "metadata": {},
   "source": [
    "##### Example 1"
   ]
  },
  {
   "cell_type": "code",
   "execution_count": 16,
   "id": "d2884543",
   "metadata": {},
   "outputs": [
    {
     "name": "stdout",
     "output_type": "stream",
     "text": [
      "i like lemon – 76 in birmingham . in the 1950s , thomas observed billy the new demon called <unk> and <unk> love america ' s final direction for best story , to celebrate the devin townsend album , when i moved back on dangerously in love in the symphony for fame . the manga ' s album video performances = = = god of war iii film revolution ( father @-@ green , love ) and john ( author william ii [ god ] having a major <unk> ) to be regarded as the seventh to cultural influences . in the\n"
     ]
    }
   ],
   "source": [
    "print(generate_text(model, start_text=\"I like\", num_words=100))"
   ]
  },
  {
   "cell_type": "markdown",
   "id": "e0a010d3-cd6b-43fa-9457-4ef6695ba0c7",
   "metadata": {},
   "source": [
    "##### Example 2"
   ]
  },
  {
   "cell_type": "code",
   "execution_count": 17,
   "id": "78eabe9e",
   "metadata": {},
   "outputs": [
    {
     "name": "stdout",
     "output_type": "stream",
     "text": [
      "a cat in the midst of a buddhist shadow , with much meat and desired to direct seeing whatever this offensive is in the history of king ' s war . this she was forced to operate in that world . he said that the king was serious on creating my own rivals ( when he made the developing way ) , <unk> it was more careful to this concert rosebery believes to become the person ' s challenging . despite eva perón ' s own tenure , a believe of a criminal family that renewed our imprisonment de <unk> <unk> his things to build within a formula . edmund claims that applewhite and nettles consciously learn , , the humans , said , and substance (\n"
     ]
    }
   ],
   "source": [
    "print(generate_text(model, start_text=\"A cat\", num_words=125))"
   ]
  },
  {
   "cell_type": "markdown",
   "id": "881ae580-f8a8-4c10-8048-7e7ab13505e1",
   "metadata": {},
   "source": [
    "##### Example 3"
   ]
  },
  {
   "cell_type": "code",
   "execution_count": 18,
   "id": "1cb126a2",
   "metadata": {},
   "outputs": [
    {
     "name": "stdout",
     "output_type": "stream",
     "text": [
      "she loves you because the wing ' s pattern were handled . a large tertiary vessel was discovered by group japanese commanders in the united states , where the\n"
     ]
    }
   ],
   "source": [
    "print(generate_text(model, start_text=\"She loves you because\", num_words=25))"
   ]
  },
  {
   "cell_type": "markdown",
   "id": "33ed5e0d-3bd4-4add-9617-8483185ca4b2",
   "metadata": {},
   "source": [
    "##### Additional examples making some variations with starting text and numer of words"
   ]
  },
  {
   "cell_type": "code",
   "execution_count": 19,
   "id": "6de373d8",
   "metadata": {
    "tags": []
   },
   "outputs": [
    {
     "name": "stdout",
     "output_type": "stream",
     "text": [
      "i hope , marking the first time to do there . he and <unk> did not figured on odaenathus ' s name while calvert did not <unk> . <unk> in <unk> , the supreme court of spain did ' s in keeping him as the 22nd century when they began to pursue\n"
     ]
    }
   ],
   "source": [
    "print(generate_text(model, start_text=\"I hope\", num_words=50))"
   ]
  },
  {
   "cell_type": "code",
   "execution_count": 20,
   "id": "3be96ae3-0322-4e33-a9c9-d4d610b8a675",
   "metadata": {},
   "outputs": [
    {
     "name": "stdout",
     "output_type": "stream",
     "text": [
      "the beatles are able to obtain <unk> as complementary items have been increased . the same list for such <unk> <unk> has not been described as give little social <unk> , this may have been <unk> between the help of a medium and nearest scientific figure . while by inari ii under conservation , latin @-@ americans had a group of different manifestation of it from blood @-@ material if <unk> . after finding more long @-@ derived reactions that specific objects that done in the path , goddesses believed that amun was the most regions of his lives , and the reason of the eighteenth jain @-@ speaking processes . the gods lived in other parts of the history of djedkare and isis , especially in such children , was only an important family of their issues . these objects were found in <unk> , combined with many other piedras phenomena , mostly or visitors to adapted for their myths . the eshmun statue was different , and they emerged in the most stone shiva on toniná . the sculpture begins by osiris , from <unk> , and a south section of an ancient temple held at the manor of maharashtra , a tiger , shows this a long mark to pure a <unk> <unk> . colonel <unk> <unk> a <unk> , which equated with shiva by north @-@ eastern kings with the animal , supported by the wives ' s and personal deities . in magical texts , their only mastery\n"
     ]
    }
   ],
   "source": [
    "print(generate_text(model, start_text=\"The Beatles are\", num_words=250))"
   ]
  },
  {
   "cell_type": "code",
   "execution_count": 21,
   "id": "c86240a2-b616-41ee-9ed3-89fbbb7f0387",
   "metadata": {},
   "outputs": [
    {
     "name": "stdout",
     "output_type": "stream",
     "text": [
      "super mario is given the cap of the court around two @-@ thirds of shiva and his left men in this desert . the shape of the facade is given the added walls in the town , which is called <unk> ( the right <unk> ) and and the <unk> @-@ long ( two @-@ square layer ) , at the inscription ( <unk> ) <unk> and the mosque , which contains a plantain meaning being ordered by the capitals . as the mirror is formed around the sculpture of one <unk> , the piers supported the inscription at bath as a small lady holds entrance to the east . each tower has parallel the window for the sky in the caves , which are built over the aisle . fig . 9 is number 66 . <unk> in australia contain surrounded by two short @-@ style organs while simple classic . in addition to each tower ( fig . 16 ) , m @-@ 44 meant the immediately original structure of the <unk> ' building road .\n"
     ]
    }
   ],
   "source": [
    "print(generate_text(model, start_text=\"Super Mario is\", num_words=175))"
   ]
  },
  {
   "cell_type": "markdown",
   "id": "7d6487c8-7554-4b73-9cd0-982916a9e3ed",
   "metadata": {},
   "source": [
    "## Conclusion"
   ]
  },
  {
   "cell_type": "markdown",
   "id": "1855844d-9b8d-40bd-921d-6084fcc15abc",
   "metadata": {},
   "source": [
    "In the initial LSTM class, we incorporated weight initialization to accelerate the model's convergence during training and to potentially enhance overall performance. The following methods were implemented:\n",
    "\n",
    "- Xavier/Glorot initialization for input-hidden weights.\n",
    "- Orthogonal initialization for LSTM hidden-hidden weights.\n",
    "- Zero initialization for biases.\n",
    "\n",
    "When comparing this LSTM, designed for Text Generation, with an RNN used for classification tasks, we observed notable differences. The RNN has a simpler structure focused primarily on prediction, where its performance is evaluated based on accuracy using a cross-entropy loss function. On the other hand, the LSTM, a specialized type of RNN architecture, is more complex. It features memory cells that regulate the flow of information. Unlike the RNN, LSTMs are trained to predict the next token in a sequence based on previous tokens, necessitating the maintenance of information over many time steps. In this case, we computed the cross-entropy loss function. However, for a more accurate evaluation of model performance, it would be appropriate to calculate perplexity.\n",
    "\n",
    "We found this interesting page that very didactically explain the perplexity concept: https://lukesalamone.github.io/posts/perplexity/\n",
    "\n",
    "$$\n",
    "\\text{perplexity} = e^{z}\n",
    "$$\n",
    "\n",
    "where\n",
    "\n",
    "$$\n",
    "z = -\\frac{1}{N} \\sum_{i=0}^{N} \\ln(P_{n})\n",
    "$$\n",
    "\n",
    "Hopefully in the future we can implement an improved model in which we can calculate perplexity. \n",
    "\n",
    "About the temperature, we asked to our dear professor in the class and looks like it is effectively related with Softmax adding a variable theta that affects the softmax distribution, as professor mentioned it can be interpreted of how much entropy or noise you want to have to the output, the more it ism the more \"creative\", we have now the next question, does this parameter could affect the hallucination of the model?\n",
    "\n",
    "$$\n",
    "\\sigma(z_i) = \\frac{e^{z_i \\theta}}{\\sum_{j=0}^{N} e^{z_j \\theta}}\n",
    "$$\n",
    "\n",
    "https://lukesalamone.github.io/posts/what-is-temperature/\n",
    "\n",
    "\n",
    "For the weight initialization and hyperparameters selection we based as well on this Medium article: https://towardsdatascience.com/language-modeling-with-lstms-in-pytorch-381a26badcbf, for weight initialization they recommend to checked out this paper that has some studies to select different learning rates for regularization and optimization of LSTM models: https://arxiv.org/abs/1708.02182.\n",
    "\n",
    "About the results of the generated text we tried to improve the hyperparameters by increasing the embedding size, neurons and epochs. In the first trial took us like 3 hours to have the model training but in the lasta attempt where we increase the embedding size the computing time creases by four and we didn't noticed relevant chances in the generated texts, we think that is due that this model is quite simple comparing with LLMs like GPT or BERT that incorporate transformers and attention mechanisms to deal with the context. As well, we trained with a very basic and modest setup and a relatively small dataset, the other models are trained with a huge quantity of data that used more demanding computational power. This excersice was very didactic, even we though a little bit dissapointing that we couln't improve over model quality of text generation was a good excersise to start getting familiarized with text generation and LLM models."
   ]
  },
  {
   "cell_type": "markdown",
   "id": "0da3264b-19de-45ce-ae6e-fa0df97bf753",
   "metadata": {},
   "source": []
  }
 ],
 "metadata": {
  "kernelspec": {
   "display_name": "Python 3 (ipykernel)",
   "language": "python",
   "name": "python3"
  },
  "language_info": {
   "codemirror_mode": {
    "name": "ipython",
    "version": 3
   },
   "file_extension": ".py",
   "mimetype": "text/x-python",
   "name": "python",
   "nbconvert_exporter": "python",
   "pygments_lexer": "ipython3",
   "version": "3.11.5"
  },
  "varInspector": {
   "cols": {
    "lenName": 16,
    "lenType": 16,
    "lenVar": 40
   },
   "kernels_config": {
    "python": {
     "delete_cmd_postfix": "",
     "delete_cmd_prefix": "del ",
     "library": "var_list.py",
     "varRefreshCmd": "print(var_dic_list())"
    },
    "r": {
     "delete_cmd_postfix": ") ",
     "delete_cmd_prefix": "rm(",
     "library": "var_list.r",
     "varRefreshCmd": "cat(var_dic_list()) "
    }
   },
   "types_to_exclude": [
    "module",
    "function",
    "builtin_function_or_method",
    "instance",
    "_Feature"
   ],
   "window_display": false
  }
 },
 "nbformat": 4,
 "nbformat_minor": 5
}
