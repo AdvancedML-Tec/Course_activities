{
 "cells": [
  {
   "cell_type": "code",
   "execution_count": 1,
   "metadata": {},
   "outputs": [],
   "source": [
    "import numpy as np\n",
    "import matplotlib.pyplot as plt\n",
    "%matplotlib inline"
   ]
  },
  {
   "cell_type": "markdown",
   "metadata": {},
   "source": [
    "# PyTorch"
   ]
  },
  {
   "cell_type": "markdown",
   "metadata": {},
   "source": [
    "## Importar librerías"
   ]
  },
  {
   "cell_type": "code",
   "execution_count": 2,
   "metadata": {},
   "outputs": [],
   "source": [
    "import numpy as np\n",
    "import matplotlib.pyplot as plt\n",
    "\n",
    "# pyTorch\n",
    "import torch\n",
    "import torch.nn as nn\n",
    "import torch.nn.functional as F"
   ]
  },
  {
   "cell_type": "markdown",
   "metadata": {},
   "source": [
    "## Importar imágenes"
   ]
  },
  {
   "cell_type": "code",
   "execution_count": 3,
   "metadata": {},
   "outputs": [],
   "source": [
    "from get_images import get_images"
   ]
  },
  {
   "cell_type": "code",
   "execution_count": 4,
   "metadata": {},
   "outputs": [],
   "source": [
    "# MNIST path\n",
    "mnist_path = 'mnist_raw/' #'./mnist_raw/'\n",
    "x_train_num, y_train_num, x_test_num, y_test_num = get_images(mnist_path)\n",
    "\n",
    "x_train = x_train_num[:50000].reshape(50000, -1).astype(float)\n",
    "y_train = y_train_num[:50000].reshape(50000, 1)\n",
    "\n",
    "x_val = x_train_num[50000:].reshape(10000, -1).astype(float)\n",
    "y_val = y_train_num[50000:].reshape(10000, 1)\n",
    "\n",
    "x_test = x_test_num.copy().reshape(10000, -1).astype(float)\n",
    "y_test = y_test_num.copy().reshape(10000, 1)"
   ]
  },
  {
   "cell_type": "markdown",
   "metadata": {},
   "source": [
    "## Normalizado de imágenes"
   ]
  },
  {
   "cell_type": "code",
   "execution_count": 5,
   "metadata": {},
   "outputs": [],
   "source": [
    "def normalise(x_mean, x_std, x_data):\n",
    "    return (x_data - x_mean) / x_std"
   ]
  },
  {
   "cell_type": "code",
   "execution_count": 6,
   "metadata": {},
   "outputs": [],
   "source": [
    "x_mean = x_train.mean()\n",
    "x_std = x_train.std()\n",
    "\n",
    "x_train = normalise(x_mean, x_std, x_train)\n",
    "x_val = normalise(x_mean, x_std, x_val)\n",
    "x_test = normalise(x_mean, x_std, x_test)"
   ]
  },
  {
   "cell_type": "markdown",
   "metadata": {},
   "source": [
    "## Mostrar imágenes"
   ]
  },
  {
   "cell_type": "code",
   "execution_count": 7,
   "metadata": {},
   "outputs": [
    {
     "data": {
      "text/plain": [
       "(10000, 784)"
      ]
     },
     "execution_count": 7,
     "metadata": {},
     "output_type": "execute_result"
    }
   ],
   "source": [
    "x_test.shape"
   ]
  },
  {
   "cell_type": "code",
   "execution_count": 8,
   "metadata": {},
   "outputs": [
    {
     "data": {
      "text/plain": [
       "(50000, 1)"
      ]
     },
     "execution_count": 8,
     "metadata": {},
     "output_type": "execute_result"
    }
   ],
   "source": [
    "y_train.shape"
   ]
  },
  {
   "cell_type": "code",
   "execution_count": 9,
   "metadata": {},
   "outputs": [],
   "source": [
    "def plot_number(image):\n",
    "    plt.figure(figsize=(5,5))\n",
    "    plt.imshow(image.squeeze(), cmap=plt.get_cmap('gray'))\n",
    "    plt.axis('off')\n",
    "    plt.show()"
   ]
  },
  {
   "cell_type": "code",
   "execution_count": 10,
   "metadata": {},
   "outputs": [
    {
     "name": "stdout",
     "output_type": "stream",
     "text": [
      "La imagen muestreada representa un: 8\n"
     ]
    },
    {
     "data": {
      "image/png": "[encoded data removed]",
      "text/plain": [
       "<Figure size 500x500 with 1 Axes>"
      ]
     },
     "metadata": {},
     "output_type": "display_data"
    }
   ],
   "source": [
    "rnd_idx = np.random.randint(len(y_test))\n",
    "print(f'La imagen muestreada representa un: {y_test[rnd_idx, 0]}')\n",
    "plot_number(x_test_num[rnd_idx])"
   ]
  },
  {
   "cell_type": "markdown",
   "metadata": {},
   "source": [
    "## Crear minibatches"
   ]
  },
  {
   "cell_type": "code",
   "execution_count": 11,
   "metadata": {},
   "outputs": [],
   "source": [
    "def create_minibatches(x, y, mb_size, shuffle = True):\n",
    "    '''\n",
    "    x  #muestras, 784\n",
    "    y #muestras, 1\n",
    "    '''\n",
    "    assert x.shape[0] == y.shape[0], 'Error en cantidad de muestras'\n",
    "    total_data = x.shape[0]\n",
    "    if shuffle: \n",
    "        idxs = np.arange(total_data)\n",
    "        np.random.shuffle(idxs)\n",
    "        x = x[idxs]\n",
    "        y = y[idxs]  \n",
    "    return ((x[i:i+mb_size], y[i:i+mb_size]) for i in range(0, total_data, mb_size))"
   ]
  },
  {
   "cell_type": "markdown",
   "metadata": {},
   "source": [
    "## Convertir Numpy arrays a PyTorch tensors"
   ]
  },
  {
   "cell_type": "code",
   "execution_count": 12,
   "metadata": {},
   "outputs": [],
   "source": [
    "x_train_tensor = torch.tensor(x_train.copy())\n",
    "y_train_tensor = torch.tensor(y_train.copy())\n",
    "\n",
    "x_val_tensor = torch.tensor(x_val.copy())\n",
    "y_val_tensor = torch.tensor(y_val.copy())\n",
    "\n",
    "x_test_tensor = torch.tensor(x_test.copy())\n",
    "y_test_tensor = torch.tensor(y_test.copy())"
   ]
  },
  {
   "cell_type": "markdown",
   "metadata": {},
   "source": [
    "## Revisar disponibilidad de GPU"
   ]
  },
  {
   "cell_type": "code",
   "execution_count": 13,
   "metadata": {},
   "outputs": [
    {
     "name": "stdout",
     "output_type": "stream",
     "text": [
      "Estamos usando: cuda\n"
     ]
    }
   ],
   "source": [
    "if torch.cuda.is_available():\n",
    "    device = torch.device('cuda')\n",
    "else:\n",
    "    device = torch.device('cpu')\n",
    "\n",
    "print(f'Estamos usando: {device}')"
   ]
  },
  {
   "cell_type": "markdown",
   "metadata": {},
   "source": [
    "## Computar la precisión"
   ]
  },
  {
   "cell_type": "code",
   "execution_count": 14,
   "metadata": {},
   "outputs": [],
   "source": [
    "def accuracy(model, x, y, mb_size):\n",
    "    num_correct = 0\n",
    "    num_total = 0\n",
    "    model.eval()\n",
    "    model = model.to(device=device)\n",
    "    with torch.no_grad():\n",
    "        for (xi, yi) in create_minibatches(x, y, mb_size):\n",
    "            xi = xi.to(device=device, dtype = torch.float32)\n",
    "            yi = yi.to(device=device, dtype = torch.long)\n",
    "            scores = model(xi) # mb_size, 10\n",
    "            _, pred = scores.max(dim=1) #pred shape (mb_size )\n",
    "            num_correct += (pred == yi.squeeze()).sum() # pred shape (mb_size), yi shape (mb_size, 1)\n",
    "            num_total += pred.size(0)\n",
    "\n",
    "            return float(num_correct)/num_total     "
   ]
  },
  {
   "cell_type": "markdown",
   "metadata": {},
   "source": [
    "## Loop de entrenamiento"
   ]
  },
  {
   "cell_type": "code",
   "execution_count": 15,
   "metadata": {},
   "outputs": [],
   "source": [
    "def train(model, optimiser, mb_size, epochs=100):\n",
    "    model = model.to(device=device)\n",
    "    for epoch in range(epochs):\n",
    "        for (xi, yi) in create_minibatches(x_train_tensor, y_train_tensor, mb_size):\n",
    "            model.train()\n",
    "            xi = xi.to(device=device, dtype=torch.float32)\n",
    "            yi = yi.to(device=device, dtype=torch.long)\n",
    "            scores = model(xi)\n",
    "            cost = F.cross_entropy(input= scores, target=yi.squeeze())\n",
    "            optimiser.zero_grad()\n",
    "            cost.backward()\n",
    "            optimiser.step()\n",
    "            \n",
    "        print(f'Epoch: {epoch}, costo: {cost.item()}, accuracy: {accuracy(model, x_val_tensor, y_val_tensor, mb_size)}')"
   ]
  },
  {
   "cell_type": "markdown",
   "metadata": {},
   "source": [
    "## Modelo usando 'Sequencial'"
   ]
  },
  {
   "cell_type": "code",
   "execution_count": 16,
   "metadata": {},
   "outputs": [
    {
     "name": "stdout",
     "output_type": "stream",
     "text": [
      "Epoch: 0, costo: 1.9149928092956543, accuracy: 0.730712890625\n",
      "Epoch: 1, costo: 1.2819607257843018, accuracy: 0.807861328125\n",
      "Epoch: 2, costo: 0.8459310531616211, accuracy: 0.85009765625\n",
      "Epoch: 3, costo: 0.677603006362915, accuracy: 0.87060546875\n",
      "Epoch: 4, costo: 0.6045154929161072, accuracy: 0.881103515625\n",
      "Epoch: 5, costo: 0.49256980419158936, accuracy: 0.894287109375\n",
      "Epoch: 6, costo: 0.4631848633289337, accuracy: 0.89697265625\n",
      "Epoch: 7, costo: 0.4298175275325775, accuracy: 0.903564453125\n",
      "Epoch: 8, costo: 0.41661667823791504, accuracy: 0.89697265625\n",
      "Epoch: 9, costo: 0.33819425106048584, accuracy: 0.906494140625\n",
      "Epoch: 10, costo: 0.3006083369255066, accuracy: 0.90869140625\n",
      "Epoch: 11, costo: 0.3286011815071106, accuracy: 0.911865234375\n",
      "Epoch: 12, costo: 0.35502952337265015, accuracy: 0.91259765625\n",
      "Epoch: 13, costo: 0.3767651915550232, accuracy: 0.9189453125\n",
      "Epoch: 14, costo: 0.27897921204566956, accuracy: 0.92578125\n",
      "Epoch: 15, costo: 0.30271580815315247, accuracy: 0.92333984375\n",
      "Epoch: 16, costo: 0.2565518915653229, accuracy: 0.920654296875\n",
      "Epoch: 17, costo: 0.2837279736995697, accuracy: 0.9248046875\n",
      "Epoch: 18, costo: 0.2794913351535797, accuracy: 0.925537109375\n",
      "Epoch: 19, costo: 0.3036034405231476, accuracy: 0.920654296875\n",
      "Epoch: 20, costo: 0.300624281167984, accuracy: 0.918212890625\n",
      "Epoch: 21, costo: 0.2521476149559021, accuracy: 0.92529296875\n",
      "Epoch: 22, costo: 0.2518567144870758, accuracy: 0.92822265625\n",
      "Epoch: 23, costo: 0.22461527585983276, accuracy: 0.925537109375\n",
      "Epoch: 24, costo: 0.2603082060813904, accuracy: 0.928466796875\n",
      "Epoch: 25, costo: 0.2588830888271332, accuracy: 0.929931640625\n",
      "Epoch: 26, costo: 0.26618823409080505, accuracy: 0.930908203125\n",
      "Epoch: 27, costo: 0.2699946165084839, accuracy: 0.93505859375\n",
      "Epoch: 28, costo: 0.26297762989997864, accuracy: 0.93408203125\n",
      "Epoch: 29, costo: 0.24581465125083923, accuracy: 0.93701171875\n",
      "Epoch: 30, costo: 0.2647036015987396, accuracy: 0.934814453125\n",
      "Epoch: 31, costo: 0.21406643092632294, accuracy: 0.9384765625\n",
      "Epoch: 32, costo: 0.2163662612438202, accuracy: 0.9404296875\n",
      "Epoch: 33, costo: 0.30729153752326965, accuracy: 0.93310546875\n",
      "Epoch: 34, costo: 0.2048334926366806, accuracy: 0.9404296875\n",
      "Epoch: 35, costo: 0.23702938854694366, accuracy: 0.939697265625\n",
      "Epoch: 36, costo: 0.21263520419597626, accuracy: 0.938720703125\n",
      "Epoch: 37, costo: 0.18500439822673798, accuracy: 0.9404296875\n",
      "Epoch: 38, costo: 0.21008899807929993, accuracy: 0.94287109375\n",
      "Epoch: 39, costo: 0.19255343079566956, accuracy: 0.94189453125\n",
      "Epoch: 40, costo: 0.2024247944355011, accuracy: 0.94384765625\n",
      "Epoch: 41, costo: 0.20513543486595154, accuracy: 0.9453125\n",
      "Epoch: 42, costo: 0.17804524302482605, accuracy: 0.94970703125\n",
      "Epoch: 43, costo: 0.2344198226928711, accuracy: 0.944580078125\n",
      "Epoch: 44, costo: 0.16062378883361816, accuracy: 0.952392578125\n",
      "Epoch: 45, costo: 0.20286206901073456, accuracy: 0.952392578125\n",
      "Epoch: 46, costo: 0.17403429746627808, accuracy: 0.950439453125\n",
      "Epoch: 47, costo: 0.18668702244758606, accuracy: 0.949462890625\n",
      "Epoch: 48, costo: 0.1761455237865448, accuracy: 0.953125\n",
      "Epoch: 49, costo: 0.19796937704086304, accuracy: 0.952392578125\n",
      "Epoch: 50, costo: 0.17539569735527039, accuracy: 0.953857421875\n",
      "Epoch: 51, costo: 0.18840840458869934, accuracy: 0.951171875\n",
      "Epoch: 52, costo: 0.15869490802288055, accuracy: 0.95703125\n",
      "Epoch: 53, costo: 0.1828073114156723, accuracy: 0.95458984375\n",
      "Epoch: 54, costo: 0.18677367269992828, accuracy: 0.960205078125\n",
      "Epoch: 55, costo: 0.20639565587043762, accuracy: 0.953369140625\n",
      "Epoch: 56, costo: 0.1702701598405838, accuracy: 0.953369140625\n",
      "Epoch: 57, costo: 0.1730625331401825, accuracy: 0.959716796875\n",
      "Epoch: 58, costo: 0.14662931859493256, accuracy: 0.95751953125\n",
      "Epoch: 59, costo: 0.1800057590007782, accuracy: 0.95849609375\n",
      "Epoch: 60, costo: 0.13657952845096588, accuracy: 0.9580078125\n",
      "Epoch: 61, costo: 0.1913028508424759, accuracy: 0.9580078125\n",
      "Epoch: 62, costo: 0.13559173047542572, accuracy: 0.958740234375\n",
      "Epoch: 63, costo: 0.17470601201057434, accuracy: 0.95947265625\n",
      "Epoch: 64, costo: 0.15460185706615448, accuracy: 0.959716796875\n",
      "Epoch: 65, costo: 0.17942266166210175, accuracy: 0.962158203125\n",
      "Epoch: 66, costo: 0.11110454797744751, accuracy: 0.960205078125\n",
      "Epoch: 67, costo: 0.13117408752441406, accuracy: 0.957275390625\n",
      "Epoch: 68, costo: 0.14080148935317993, accuracy: 0.957763671875\n",
      "Epoch: 69, costo: 0.16650846600532532, accuracy: 0.964111328125\n",
      "Epoch: 70, costo: 0.129232257604599, accuracy: 0.9599609375\n",
      "Epoch: 71, costo: 0.14013995230197906, accuracy: 0.961181640625\n",
      "Epoch: 72, costo: 0.14569497108459473, accuracy: 0.960693359375\n",
      "Epoch: 73, costo: 0.1128968596458435, accuracy: 0.962646484375\n",
      "Epoch: 74, costo: 0.13867102563381195, accuracy: 0.96044921875\n",
      "Epoch: 75, costo: 0.1266554594039917, accuracy: 0.96630859375\n",
      "Epoch: 76, costo: 0.11297687143087387, accuracy: 0.9638671875\n",
      "Epoch: 77, costo: 0.16563664376735687, accuracy: 0.9599609375\n",
      "Epoch: 78, costo: 0.12069374322891235, accuracy: 0.96240234375\n",
      "Epoch: 79, costo: 0.13198545575141907, accuracy: 0.96044921875\n",
      "Epoch: 80, costo: 0.11397337168455124, accuracy: 0.96337890625\n",
      "Epoch: 81, costo: 0.13308373093605042, accuracy: 0.968505859375\n",
      "Epoch: 82, costo: 0.11015792191028595, accuracy: 0.97119140625\n",
      "Epoch: 83, costo: 0.12116870284080505, accuracy: 0.96337890625\n",
      "Epoch: 84, costo: 0.15241001546382904, accuracy: 0.965576171875\n",
      "Epoch: 85, costo: 0.12324728816747665, accuracy: 0.964111328125\n",
      "Epoch: 86, costo: 0.13204029202461243, accuracy: 0.966064453125\n",
      "Epoch: 87, costo: 0.12115877866744995, accuracy: 0.96337890625\n",
      "Epoch: 88, costo: 0.12312429398298264, accuracy: 0.96484375\n",
      "Epoch: 89, costo: 0.10183053463697433, accuracy: 0.968994140625\n",
      "Epoch: 90, costo: 0.13187259435653687, accuracy: 0.96435546875\n",
      "Epoch: 91, costo: 0.08808600902557373, accuracy: 0.965087890625\n",
      "Epoch: 92, costo: 0.13538053631782532, accuracy: 0.970703125\n",
      "Epoch: 93, costo: 0.11558929830789566, accuracy: 0.968994140625\n",
      "Epoch: 94, costo: 0.14960671961307526, accuracy: 0.96630859375\n",
      "Epoch: 95, costo: 0.10206735134124756, accuracy: 0.965087890625\n",
      "Epoch: 96, costo: 0.1225755587220192, accuracy: 0.965576171875\n",
      "Epoch: 97, costo: 0.11512559652328491, accuracy: 0.96826171875\n",
      "Epoch: 98, costo: 0.11128244549036026, accuracy: 0.96923828125\n",
      "Epoch: 99, costo: 0.11494604498147964, accuracy: 0.96826171875\n",
      "Epoch: 100, costo: 0.13834524154663086, accuracy: 0.9619140625\n",
      "Epoch: 101, costo: 0.0842001810669899, accuracy: 0.9677734375\n",
      "Epoch: 102, costo: 0.11837121099233627, accuracy: 0.971923828125\n",
      "Epoch: 103, costo: 0.07595100998878479, accuracy: 0.966064453125\n",
      "Epoch: 104, costo: 0.10988479852676392, accuracy: 0.969482421875\n",
      "Epoch: 105, costo: 0.10899260640144348, accuracy: 0.966552734375\n",
      "Epoch: 106, costo: 0.11346382647752762, accuracy: 0.96875\n",
      "Epoch: 107, costo: 0.10970916599035263, accuracy: 0.97412109375\n",
      "Epoch: 108, costo: 0.1183413714170456, accuracy: 0.970458984375\n",
      "Epoch: 109, costo: 0.08234908431768417, accuracy: 0.967529296875\n",
      "Epoch: 110, costo: 0.09011849761009216, accuracy: 0.969970703125\n",
      "Epoch: 111, costo: 0.09399521350860596, accuracy: 0.96875\n",
      "Epoch: 112, costo: 0.12488918751478195, accuracy: 0.970703125\n",
      "Epoch: 113, costo: 0.09224016219377518, accuracy: 0.96728515625\n",
      "Epoch: 114, costo: 0.0950356051325798, accuracy: 0.972412109375\n",
      "Epoch: 115, costo: 0.09747471660375595, accuracy: 0.9736328125\n",
      "Epoch: 116, costo: 0.09625551104545593, accuracy: 0.967041015625\n",
      "Epoch: 117, costo: 0.08112899214029312, accuracy: 0.969970703125\n",
      "Epoch: 118, costo: 0.07644340395927429, accuracy: 0.971923828125\n",
      "Epoch: 119, costo: 0.08956147730350494, accuracy: 0.973876953125\n",
      "Epoch: 120, costo: 0.1219000369310379, accuracy: 0.9697265625\n",
      "Epoch: 121, costo: 0.08509127050638199, accuracy: 0.96923828125\n",
      "Epoch: 122, costo: 0.1018422320485115, accuracy: 0.96923828125\n",
      "Epoch: 123, costo: 0.11511347442865372, accuracy: 0.97314453125\n",
      "Epoch: 124, costo: 0.10130726546049118, accuracy: 0.96875\n",
      "Epoch: 125, costo: 0.06778702884912491, accuracy: 0.973876953125\n",
      "Epoch: 126, costo: 0.0965496152639389, accuracy: 0.9716796875\n",
      "Epoch: 127, costo: 0.07249609380960464, accuracy: 0.97021484375\n",
      "Epoch: 128, costo: 0.07196053117513657, accuracy: 0.97265625\n",
      "Epoch: 129, costo: 0.11180269718170166, accuracy: 0.970458984375\n",
      "Epoch: 130, costo: 0.09136875718832016, accuracy: 0.976318359375\n",
      "Epoch: 131, costo: 0.08219479024410248, accuracy: 0.97265625\n",
      "Epoch: 132, costo: 0.07404536753892899, accuracy: 0.9677734375\n",
      "Epoch: 133, costo: 0.08116088807582855, accuracy: 0.968994140625\n",
      "Epoch: 134, costo: 0.09041272103786469, accuracy: 0.972900390625\n",
      "Epoch: 135, costo: 0.07953652739524841, accuracy: 0.96826171875\n",
      "Epoch: 136, costo: 0.09039439260959625, accuracy: 0.968505859375\n",
      "Epoch: 137, costo: 0.07304063439369202, accuracy: 0.970947265625\n",
      "Epoch: 138, costo: 0.07424791902303696, accuracy: 0.97705078125\n",
      "Epoch: 139, costo: 0.07759552448987961, accuracy: 0.970947265625\n",
      "Epoch: 140, costo: 0.07125595957040787, accuracy: 0.972900390625\n",
      "Epoch: 141, costo: 0.0744110494852066, accuracy: 0.9736328125\n",
      "Epoch: 142, costo: 0.09006835520267487, accuracy: 0.970703125\n",
      "Epoch: 143, costo: 0.07035193592309952, accuracy: 0.97412109375\n",
      "Epoch: 144, costo: 0.07225078344345093, accuracy: 0.97265625\n",
      "Epoch: 145, costo: 0.0960400179028511, accuracy: 0.9736328125\n",
      "Epoch: 146, costo: 0.07160232961177826, accuracy: 0.97216796875\n",
      "Epoch: 147, costo: 0.08852331340312958, accuracy: 0.972412109375\n",
      "Epoch: 148, costo: 0.08571340143680573, accuracy: 0.973876953125\n",
      "Epoch: 149, costo: 0.09126818180084229, accuracy: 0.9775390625\n",
      "Epoch: 150, costo: 0.06015366315841675, accuracy: 0.972412109375\n",
      "Epoch: 151, costo: 0.06675251573324203, accuracy: 0.973876953125\n",
      "Epoch: 152, costo: 0.06331567466259003, accuracy: 0.978759765625\n",
      "Epoch: 153, costo: 0.06712092459201813, accuracy: 0.9736328125\n",
      "Epoch: 154, costo: 0.09900631010532379, accuracy: 0.9736328125\n",
      "Epoch: 155, costo: 0.06126093864440918, accuracy: 0.9755859375\n",
      "Epoch: 156, costo: 0.06588005274534225, accuracy: 0.976318359375\n",
      "Epoch: 157, costo: 0.06768548488616943, accuracy: 0.972412109375\n",
      "Epoch: 158, costo: 0.05068852752447128, accuracy: 0.973388671875\n",
      "Epoch: 159, costo: 0.0676594004034996, accuracy: 0.97314453125\n",
      "Epoch: 160, costo: 0.10115459561347961, accuracy: 0.9755859375\n",
      "Epoch: 161, costo: 0.0622592456638813, accuracy: 0.97412109375\n",
      "Epoch: 162, costo: 0.0700611099600792, accuracy: 0.97119140625\n",
      "Epoch: 163, costo: 0.06142188981175423, accuracy: 0.973388671875\n",
      "Epoch: 164, costo: 0.05993396043777466, accuracy: 0.971923828125\n",
      "Epoch: 165, costo: 0.04941024258732796, accuracy: 0.979736328125\n",
      "Epoch: 166, costo: 0.06615661829710007, accuracy: 0.974853515625\n",
      "Epoch: 167, costo: 0.0675281435251236, accuracy: 0.977294921875\n",
      "Epoch: 168, costo: 0.06299804896116257, accuracy: 0.972412109375\n",
      "Epoch: 169, costo: 0.058844976127147675, accuracy: 0.973876953125\n",
      "Epoch: 170, costo: 0.06814276427030563, accuracy: 0.975341796875\n",
      "Epoch: 171, costo: 0.07735056430101395, accuracy: 0.976318359375\n",
      "Epoch: 172, costo: 0.06607074290513992, accuracy: 0.974853515625\n",
      "Epoch: 173, costo: 0.06554443389177322, accuracy: 0.9755859375\n",
      "Epoch: 174, costo: 0.06634455919265747, accuracy: 0.97216796875\n",
      "Epoch: 175, costo: 0.060582485049963, accuracy: 0.974609375\n",
      "Epoch: 176, costo: 0.058318719267845154, accuracy: 0.97705078125\n",
      "Epoch: 177, costo: 0.058422911912202835, accuracy: 0.974365234375\n",
      "Epoch: 178, costo: 0.07271686941385269, accuracy: 0.9765625\n",
      "Epoch: 179, costo: 0.06700215488672256, accuracy: 0.97314453125\n",
      "Epoch: 180, costo: 0.07173699885606766, accuracy: 0.973388671875\n",
      "Epoch: 181, costo: 0.07689275592565536, accuracy: 0.974365234375\n",
      "Epoch: 182, costo: 0.034402914345264435, accuracy: 0.971923828125\n",
      "Epoch: 183, costo: 0.04223443567752838, accuracy: 0.97314453125\n",
      "Epoch: 184, costo: 0.054715778678655624, accuracy: 0.9697265625\n",
      "Epoch: 185, costo: 0.06676521897315979, accuracy: 0.97509765625\n",
      "Epoch: 186, costo: 0.04699820280075073, accuracy: 0.97216796875\n",
      "Epoch: 187, costo: 0.04020712524652481, accuracy: 0.974609375\n",
      "Epoch: 188, costo: 0.045236822217702866, accuracy: 0.974365234375\n",
      "Epoch: 189, costo: 0.05190711095929146, accuracy: 0.974365234375\n",
      "Epoch: 190, costo: 0.06005801633000374, accuracy: 0.978515625\n",
      "Epoch: 191, costo: 0.056902188807725906, accuracy: 0.9775390625\n",
      "Epoch: 192, costo: 0.05346833914518356, accuracy: 0.974609375\n",
      "Epoch: 193, costo: 0.05013788491487503, accuracy: 0.97314453125\n",
      "Epoch: 194, costo: 0.06540143489837646, accuracy: 0.97802734375\n",
      "Epoch: 195, costo: 0.038511596620082855, accuracy: 0.973388671875\n",
      "Epoch: 196, costo: 0.04003460332751274, accuracy: 0.976318359375\n",
      "Epoch: 197, costo: 0.06588670611381531, accuracy: 0.97412109375\n",
      "Epoch: 198, costo: 0.04721279814839363, accuracy: 0.97802734375\n",
      "Epoch: 199, costo: 0.047142013907432556, accuracy: 0.973876953125\n"
     ]
    }
   ],
   "source": [
    "hidden1 = 1000 \n",
    "hidden = 1000\n",
    "lr = 5e-2\n",
    "epochs = 200\n",
    "mb_size = 4096\n",
    "model1 = nn.Sequential(nn.Linear(in_features=784, out_features=hidden1), nn.ReLU(),\n",
    "                       nn.Linear(in_features=hidden1, out_features=hidden), nn.ReLU(),\n",
    "                       nn.Linear(in_features=hidden, out_features=10))\n",
    "optimiser = torch.optim.SGD(model1.parameters(), lr=lr)\n",
    "\n",
    "train(model1, optimiser, mb_size, epochs)"
   ]
  },
  {
   "cell_type": "code",
   "execution_count": 18,
   "metadata": {},
   "outputs": [
    {
     "data": {
      "text/plain": [
       "0.979248046875"
      ]
     },
     "execution_count": 18,
     "metadata": {},
     "output_type": "execute_result"
    }
   ],
   "source": [
    "accuracy(model1, x_test_tensor,  y_test_tensor, mb_size)"
   ]
  },
  {
   "cell_type": "code",
   "execution_count": null,
   "metadata": {},
   "outputs": [],
   "source": []
  },
  {
   "cell_type": "code",
   "execution_count": null,
   "metadata": {},
   "outputs": [],
   "source": []
  },
  {
   "cell_type": "code",
   "execution_count": null,
   "metadata": {},
   "outputs": [],
   "source": []
  },
  {
   "cell_type": "code",
   "execution_count": null,
   "metadata": {},
   "outputs": [],
   "source": []
  },
  {
   "cell_type": "code",
   "execution_count": null,
   "metadata": {},
   "outputs": [],
   "source": []
  },
  {
   "cell_type": "code",
   "execution_count": null,
   "metadata": {},
   "outputs": [],
   "source": []
  },
  {
   "cell_type": "code",
   "execution_count": null,
   "metadata": {},
   "outputs": [],
   "source": []
  },
  {
   "cell_type": "code",
   "execution_count": null,
   "metadata": {},
   "outputs": [],
   "source": []
  },
  {
   "cell_type": "code",
   "execution_count": null,
   "metadata": {},
   "outputs": [],
   "source": []
  },
  {
   "cell_type": "code",
   "execution_count": null,
   "metadata": {},
   "outputs": [],
   "source": []
  }
 ],
 "metadata": {
  "kernelspec": {
   "display_name": "Python 3 (ipykernel)",
   "language": "python",
   "name": "python3"
  },
  "language_info": {
   "codemirror_mode": {
    "name": "ipython",
    "version": 3
   },
   "file_extension": ".py",
   "mimetype": "text/x-python",
   "name": "python",
   "nbconvert_exporter": "python",
   "pygments_lexer": "ipython3",
   "version": "3.11.4"
  },
  "toc": {
   "base_numbering": 1,
   "nav_menu": {},
   "number_sections": true,
   "sideBar": true,
   "skip_h1_title": false,
   "title_cell": "Table of Contents",
   "title_sidebar": "Contents",
   "toc_cell": false,
   "toc_position": {},
   "toc_section_display": true,
   "toc_window_display": false
  },
  "varInspector": {
   "cols": {
    "lenName": 16,
    "lenType": 16,
    "lenVar": 40
   },
   "kernels_config": {
    "python": {
     "delete_cmd_postfix": "",
     "delete_cmd_prefix": "del ",
     "library": "var_list.py",
     "varRefreshCmd": "print(var_dic_list())"
    },
    "r": {
     "delete_cmd_postfix": ") ",
     "delete_cmd_prefix": "rm(",
     "library": "var_list.r",
     "varRefreshCmd": "cat(var_dic_list()) "
    }
   },
   "types_to_exclude": [
    "module",
    "function",
    "builtin_function_or_method",
    "instance",
    "_Feature"
   ],
   "window_display": false
  }
 },
 "nbformat": 4,
 "nbformat_minor": 4
}
