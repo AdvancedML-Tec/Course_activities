{
 "cells": [
  {
   "attachments": {
    "638ee97d-a9d5-4e95-aa9f-1ea2bb006236.png": {
     "image/png": "[encoded data removed]"
    }
   },
   "cell_type": "markdown",
   "metadata": {},
   "source": [
    "![LogoTec.png](attachment:638ee97d-a9d5-4e95-aa9f-1ea2bb006236.png)"
   ]
  },
  {
   "cell_type": "markdown",
   "metadata": {},
   "source": [
    "# TC 5033\n",
    "## Deep Learning\n",
    "## Fully Connected Deep Neural Networks\n",
    "## José Antonio Cantoral Ceballos, Ph.D.\n",
    "## Team Members:\n",
    "- A01200230 - Armando Bringas Corpus\n",
    "\n",
    "#### Activity 1b: Implementing a Fully Connected Network for Kaggle ASL Dataset\n",
    "\n",
    "- Objective\n",
    "\n",
    "The aim of this part of the activity is to apply your understanding of Fully Connected Networks by implementing a multilayer network for the [Kaggle ASL (American Sign Language) dataset](https://www.kaggle.com/datasets/grassknoted/asl-alphabet). While you have been provided with a complete solution for a Fully Connected Network using Numpy for the MNIST dataset, you are encouraged to try to come up with the solution.\n",
    "\n",
    "- Instructions\n",
    "\n",
    "    This activity requires submission in teams of 3 or 4 members. Submissions from smaller or larger teams will not be accepted unless prior approval has been granted (only due to exceptional circumstances). While teamwork is encouraged, each member is expected to contribute individually to the assignment. The final submission should feature the best arguments and solutions from each team member. Only one person per team needs to submit the completed work, but it is imperative that the names of all team members are listed in a Markdown cell at the very beginning of the notebook (either the first or second cell). Failure to include all team member names will result in the grade being awarded solely to the individual who submitted the assignment, with zero points given to other team members (no exceptions will be made to this rule).\n",
    "\n",
    "    Load and Preprocess Data: You are provided a starter code to load the data. Be sure to understand the code.\n",
    "\n",
    "    Review MNIST Notebook (Optional): Before diving into this activity, you have the option to revisit the MNIST example to refresh your understanding of how to build a Fully Connected Network using Numpy.\n",
    "\n",
    "    Start Fresh: Although you can refer to the MNIST solution at any point, try to implement the network for the ASL dataset on your own. This will reinforce your learning and understanding of the architecture and mathematics involved.\n",
    "\n",
    "    Implement Forward and Backward Pass: Write the code to perform the forward and backward passes, keeping in mind the specific challenges and characteristics of the ASL dataset.\n",
    "    \n",
    "     Design the Network: Create the architecture of the Fully Connected Network tailored for the ASL dataset. Choose the number of hidden layers, neurons, and hyperparameters judiciously.\n",
    "\n",
    "    Train the Model: Execute the training loop, ensuring to track performance metrics such as loss and accuracy.\n",
    "\n",
    "    Analyze and Document: Use Markdown cells to document in detail the choices you made in terms of architecture and hyperparameters, you may use figures, equations, etc to aid in your explanations. Include any metrics that help justify these choices and discuss the model's performance.  \n",
    "\n",
    "- Evaluation Criteria\n",
    "\n",
    "    - Code Readability and Comments\n",
    "    - Appropriateness of chosen architecture and hyperparameters for the ASL dataset\n",
    "    - Performance of the model on the ASL dataset (at least 70% acc)\n",
    "    - Quality of Markdown documentation\n",
    "\n",
    "- Submission\n",
    "\n",
    "Submit this Jupyter Notebook in canvas with your complete solution, ensuring your code is well-commented and includes Markdown cells that explain your design choices, results, and any challenges you encountered.\n"
   ]
  },
  {
   "cell_type": "markdown",
   "metadata": {},
   "source": [
    "### Import Libraries"
   ]
  },
  {
   "cell_type": "code",
   "execution_count": 1,
   "metadata": {},
   "outputs": [],
   "source": [
    "import numpy as np\n",
    "import string\n",
    "import pandas as pd\n",
    "import matplotlib.pyplot as plt\n",
    "import cv2 as cv\n",
    "import os\n",
    "\n",
    "%load_ext autoreload\n",
    "%autoreload 2\n",
    "#################################\n",
    "%matplotlib inline\n"
   ]
  },
  {
   "cell_type": "code",
   "execution_count": 2,
   "metadata": {},
   "outputs": [],
   "source": [
    "# DATA_PATH = '/media/pepe/DataUbuntu/Databases/asl_data/'\n",
    "DATA_PATH = 'data/asl_data/'\n",
    "train_df = pd.read_csv(os.path.join(DATA_PATH, 'sign_mnist_train.csv'))\n",
    "valid_df = pd.read_csv(os.path.join(DATA_PATH, 'sign_mnist_valid.csv'))"
   ]
  },
  {
   "cell_type": "code",
   "execution_count": 3,
   "metadata": {},
   "outputs": [
    {
     "data": {
      "text/html": [
       "<div>\n",
       "<style scoped>\n",
       "    .dataframe tbody tr th:only-of-type {\n",
       "        vertical-align: middle;\n",
       "    }\n",
       "\n",
       "    .dataframe tbody tr th {\n",
       "        vertical-align: top;\n",
       "    }\n",
       "\n",
       "    .dataframe thead th {\n",
       "        text-align: right;\n",
       "    }\n",
       "</style>\n",
       "<table border=\"1\" class=\"dataframe\">\n",
       "  <thead>\n",
       "    <tr style=\"text-align: right;\">\n",
       "      <th></th>\n",
       "      <th>label</th>\n",
       "      <th>pixel1</th>\n",
       "      <th>pixel2</th>\n",
       "      <th>pixel3</th>\n",
       "      <th>pixel4</th>\n",
       "      <th>pixel5</th>\n",
       "      <th>pixel6</th>\n",
       "      <th>pixel7</th>\n",
       "      <th>pixel8</th>\n",
       "      <th>pixel9</th>\n",
       "      <th>...</th>\n",
       "      <th>pixel775</th>\n",
       "      <th>pixel776</th>\n",
       "      <th>pixel777</th>\n",
       "      <th>pixel778</th>\n",
       "      <th>pixel779</th>\n",
       "      <th>pixel780</th>\n",
       "      <th>pixel781</th>\n",
       "      <th>pixel782</th>\n",
       "      <th>pixel783</th>\n",
       "      <th>pixel784</th>\n",
       "    </tr>\n",
       "  </thead>\n",
       "  <tbody>\n",
       "    <tr>\n",
       "      <th>0</th>\n",
       "      <td>3</td>\n",
       "      <td>107</td>\n",
       "      <td>118</td>\n",
       "      <td>127</td>\n",
       "      <td>134</td>\n",
       "      <td>139</td>\n",
       "      <td>143</td>\n",
       "      <td>146</td>\n",
       "      <td>150</td>\n",
       "      <td>153</td>\n",
       "      <td>...</td>\n",
       "      <td>207</td>\n",
       "      <td>207</td>\n",
       "      <td>207</td>\n",
       "      <td>207</td>\n",
       "      <td>206</td>\n",
       "      <td>206</td>\n",
       "      <td>206</td>\n",
       "      <td>204</td>\n",
       "      <td>203</td>\n",
       "      <td>202</td>\n",
       "    </tr>\n",
       "    <tr>\n",
       "      <th>1</th>\n",
       "      <td>6</td>\n",
       "      <td>155</td>\n",
       "      <td>157</td>\n",
       "      <td>156</td>\n",
       "      <td>156</td>\n",
       "      <td>156</td>\n",
       "      <td>157</td>\n",
       "      <td>156</td>\n",
       "      <td>158</td>\n",
       "      <td>158</td>\n",
       "      <td>...</td>\n",
       "      <td>69</td>\n",
       "      <td>149</td>\n",
       "      <td>128</td>\n",
       "      <td>87</td>\n",
       "      <td>94</td>\n",
       "      <td>163</td>\n",
       "      <td>175</td>\n",
       "      <td>103</td>\n",
       "      <td>135</td>\n",
       "      <td>149</td>\n",
       "    </tr>\n",
       "    <tr>\n",
       "      <th>2</th>\n",
       "      <td>2</td>\n",
       "      <td>187</td>\n",
       "      <td>188</td>\n",
       "      <td>188</td>\n",
       "      <td>187</td>\n",
       "      <td>187</td>\n",
       "      <td>186</td>\n",
       "      <td>187</td>\n",
       "      <td>188</td>\n",
       "      <td>187</td>\n",
       "      <td>...</td>\n",
       "      <td>202</td>\n",
       "      <td>201</td>\n",
       "      <td>200</td>\n",
       "      <td>199</td>\n",
       "      <td>198</td>\n",
       "      <td>199</td>\n",
       "      <td>198</td>\n",
       "      <td>195</td>\n",
       "      <td>194</td>\n",
       "      <td>195</td>\n",
       "    </tr>\n",
       "    <tr>\n",
       "      <th>3</th>\n",
       "      <td>2</td>\n",
       "      <td>211</td>\n",
       "      <td>211</td>\n",
       "      <td>212</td>\n",
       "      <td>212</td>\n",
       "      <td>211</td>\n",
       "      <td>210</td>\n",
       "      <td>211</td>\n",
       "      <td>210</td>\n",
       "      <td>210</td>\n",
       "      <td>...</td>\n",
       "      <td>235</td>\n",
       "      <td>234</td>\n",
       "      <td>233</td>\n",
       "      <td>231</td>\n",
       "      <td>230</td>\n",
       "      <td>226</td>\n",
       "      <td>225</td>\n",
       "      <td>222</td>\n",
       "      <td>229</td>\n",
       "      <td>163</td>\n",
       "    </tr>\n",
       "    <tr>\n",
       "      <th>4</th>\n",
       "      <td>12</td>\n",
       "      <td>164</td>\n",
       "      <td>167</td>\n",
       "      <td>170</td>\n",
       "      <td>172</td>\n",
       "      <td>176</td>\n",
       "      <td>179</td>\n",
       "      <td>180</td>\n",
       "      <td>184</td>\n",
       "      <td>185</td>\n",
       "      <td>...</td>\n",
       "      <td>92</td>\n",
       "      <td>105</td>\n",
       "      <td>105</td>\n",
       "      <td>108</td>\n",
       "      <td>133</td>\n",
       "      <td>163</td>\n",
       "      <td>157</td>\n",
       "      <td>163</td>\n",
       "      <td>164</td>\n",
       "      <td>179</td>\n",
       "    </tr>\n",
       "  </tbody>\n",
       "</table>\n",
       "<p>5 rows × 785 columns</p>\n",
       "</div>"
      ],
      "text/plain": [
       "   label  pixel1  pixel2  pixel3  pixel4  pixel5  pixel6  pixel7  pixel8  \\\n",
       "0      3     107     118     127     134     139     143     146     150   \n",
       "1      6     155     157     156     156     156     157     156     158   \n",
       "2      2     187     188     188     187     187     186     187     188   \n",
       "3      2     211     211     212     212     211     210     211     210   \n",
       "4     12     164     167     170     172     176     179     180     184   \n",
       "\n",
       "   pixel9  ...  pixel775  pixel776  pixel777  pixel778  pixel779  pixel780  \\\n",
       "0     153  ...       207       207       207       207       206       206   \n",
       "1     158  ...        69       149       128        87        94       163   \n",
       "2     187  ...       202       201       200       199       198       199   \n",
       "3     210  ...       235       234       233       231       230       226   \n",
       "4     185  ...        92       105       105       108       133       163   \n",
       "\n",
       "   pixel781  pixel782  pixel783  pixel784  \n",
       "0       206       204       203       202  \n",
       "1       175       103       135       149  \n",
       "2       198       195       194       195  \n",
       "3       225       222       229       163  \n",
       "4       157       163       164       179  \n",
       "\n",
       "[5 rows x 785 columns]"
      ]
     },
     "execution_count": 3,
     "metadata": {},
     "output_type": "execute_result"
    }
   ],
   "source": [
    "train_df.head()"
   ]
  },
  {
   "cell_type": "markdown",
   "metadata": {},
   "source": [
    "### Load Data"
   ]
  },
  {
   "cell_type": "code",
   "execution_count": 4,
   "metadata": {},
   "outputs": [],
   "source": [
    "y_train = np.array(train_df['label'])\n",
    "y_val = np.array(valid_df['label'])\n",
    "del train_df['label']\n",
    "del valid_df['label']\n",
    "x_train = train_df.values.astype(np.float32)\n",
    "x_val = valid_df.values.astype(np.float32)"
   ]
  },
  {
   "cell_type": "markdown",
   "metadata": {},
   "source": [
    "### Train and validation data\n"
   ]
  },
  {
   "cell_type": "code",
   "execution_count": 5,
   "metadata": {
    "code_folding": []
   },
   "outputs": [],
   "source": [
    "def split_val_test(x, y, pct=0.5, shuffle=True):\n",
    "    '''\n",
    "    Create a function that will allow you to split the previously loaded validation set\n",
    "    into validation and test.\n",
    "    '''\n",
    "    # verify that x_val and y_val have the same length\n",
    "    assert len(x) == len(y)\n",
    "\n",
    "    # total of data\n",
    "    total_data = len(x)\n",
    "\n",
    "    # shuffle data if it is required\n",
    "    if shuffle:\n",
    "        indices = np.arange(len(x))\n",
    "        np.random.shuffle(indices)\n",
    "        x, y = map(lambda data: np.array([data[i] for i in indices]), [x, y])\n",
    "\n",
    "    # calculate split index\n",
    "    split_idx = int(pct * len(x))\n",
    "    \n",
    "    return x[:split_idx], y[:split_idx].reshape(-1,1), x[split_idx:], y[split_idx:].reshape(-1,1)"
   ]
  },
  {
   "cell_type": "code",
   "execution_count": 6,
   "metadata": {},
   "outputs": [],
   "source": [
    "x_val, y_val, x_test, y_test = split_val_test(x_val, y_val)"
   ]
  },
  {
   "cell_type": "markdown",
   "metadata": {},
   "source": [
    "Inspect shape of the splitted data"
   ]
  },
  {
   "cell_type": "code",
   "execution_count": 7,
   "metadata": {},
   "outputs": [
    {
     "name": "stdout",
     "output_type": "stream",
     "text": [
      "(27455, 784)\n",
      "(27455,)\n",
      "(3586, 784)\n",
      "(3586, 1)\n",
      "(3586, 784)\n",
      "(3586, 1)\n"
     ]
    }
   ],
   "source": [
    "print(x_train.shape)\n",
    "print(y_train.shape)\n",
    "\n",
    "print(x_val.shape)\n",
    "print(y_val.shape)\n",
    "\n",
    "print(x_test.shape)\n",
    "print(y_test.shape)\n"
   ]
  },
  {
   "cell_type": "code",
   "execution_count": 8,
   "metadata": {},
   "outputs": [
    {
     "name": "stdout",
     "output_type": "stream",
     "text": [
      "24\n"
     ]
    }
   ],
   "source": [
    "### The following\n",
    "\n",
    "alphabet=list(string.ascii_lowercase)\n",
    "alphabet.remove('j')\n",
    "alphabet.remove('z')\n",
    "print(len(alphabet))"
   ]
  },
  {
   "cell_type": "markdown",
   "metadata": {},
   "source": [
    "### Normalise"
   ]
  },
  {
   "cell_type": "markdown",
   "metadata": {},
   "source": [
    "Lambda function that applies feature scaling to the dataset x_data using the mean x_mean and standard deviation x_std. Feature scaling is a method used to standardize the range of independent variables or features of data."
   ]
  },
  {
   "cell_type": "code",
   "execution_count": 9,
   "metadata": {},
   "outputs": [],
   "source": [
    "normalise = lambda x_mean, x_std, x_data: (x_data - x_mean) / x_std\n",
    "\n",
    "x_mean = x_train.mean()\n",
    "x_std = x_train.std()\n",
    "\n",
    "x_train = normalise(x_mean, x_std, x_train)\n",
    "x_val = normalise(x_mean, x_std, x_val)\n",
    "x_test = normalise(x_mean, x_std, x_test)"
   ]
  },
  {
   "cell_type": "code",
   "execution_count": 10,
   "metadata": {},
   "outputs": [
    {
     "data": {
      "text/plain": [
       "(3.6268384e-06, 0.99999946)"
      ]
     },
     "execution_count": 10,
     "metadata": {},
     "output_type": "execute_result"
    }
   ],
   "source": [
    "x_train.mean(), x_train.std()"
   ]
  },
  {
   "cell_type": "markdown",
   "metadata": {},
   "source": [
    "### Plot Samples"
   ]
  },
  {
   "cell_type": "code",
   "execution_count": 11,
   "metadata": {},
   "outputs": [],
   "source": [
    "def plot_number(image):\n",
    "    plt.figure(figsize=(5,5))\n",
    "    plt.imshow(image.squeeze(), cmap=plt.get_cmap('gray'))\n",
    "    plt.axis('off')\n",
    "    plt.show()"
   ]
  },
  {
   "cell_type": "markdown",
   "metadata": {},
   "source": [
    "Plot a random sample"
   ]
  },
  {
   "cell_type": "code",
   "execution_count": 12,
   "metadata": {},
   "outputs": [
    {
     "data": {
      "image/png": "[encoded data removed]",
      "text/plain": [
       "<Figure size 500x500 with 1 Axes>"
      ]
     },
     "metadata": {},
     "output_type": "display_data"
    },
    {
     "name": "stdout",
     "output_type": "stream",
     "text": [
      "La imagen muestreada representa un: h\n"
     ]
    }
   ],
   "source": [
    "rnd_idx = np.random.randint(len(y_test))\n",
    "image_data = x_test[rnd_idx].reshape(28, 28)\n",
    "plot_number(image_data)\n",
    "\n",
    "print(f'La imagen muestreada representa un: {alphabet[y_test[rnd_idx][0]]}')"
   ]
  },
  {
   "cell_type": "markdown",
   "metadata": {},
   "source": [
    "### Ecuaciones para nuestro modelo\n",
    "\n",
    "\n",
    "$$z^1 = W^1 X + b^1$$\n",
    "\n",
    "$$a^1 = ReLU(z^1) $$\n",
    "\n",
    "$$z^2 = W^2 a^1 + b^2$$\n",
    "\n",
    "$$\\hat{y} = \\frac{e^{z^{2_k}}}{\\sum_j{e^{z_j}}}$$\n",
    "\n",
    "\n",
    "$$ \\mathcal{L}(\\hat{y}^{i}, y^{i}) =  - y^{i}  \\ln(\\hat{y}^{i}) = -\\ln(\\hat{y}^i)$$\n",
    "\n",
    "\n",
    "$$ \\mathcal{J}(w, b) =  \\frac{1}{num\\_samples} \\sum_{i=1}^{num\\_samples}-\\ln(\\hat{y}^{i})$$"
   ]
  },
  {
   "cell_type": "markdown",
   "metadata": {},
   "source": [
    "### Funciones adicionales"
   ]
  },
  {
   "cell_type": "markdown",
   "metadata": {},
   "source": [
    "#### Mini batches"
   ]
  },
  {
   "cell_type": "code",
   "execution_count": 13,
   "metadata": {},
   "outputs": [],
   "source": [
    "#Function to create training minibatches\n",
    "def create_minibatches(mb_size, x, y, shuffle = True):\n",
    "    assert x.shape[0] == y.shape[0], 'Error en cantidad de muestras'\n",
    "    total_data = x.shape[0]\n",
    "    # Shuffle the dataset if the shuffle parameter is True\n",
    "    if shuffle:\n",
    "        idxs = np.arange(total_data)\n",
    "        np.random.shuffle(idxs)\n",
    "        # Shuffled indices to reorder the input features and labels\n",
    "        x = x[idxs]\n",
    "        y = y[idxs]\n",
    "    # Generate minibatches\n",
    "    return ((x[i:i+mb_size], y[i:i+mb_size]) for i in range(0, total_data, mb_size))"
   ]
  },
  {
   "cell_type": "markdown",
   "metadata": {},
   "source": [
    "## Nuestra clase Linear, ReLU y Sequential"
   ]
  },
  {
   "cell_type": "code",
   "execution_count": 14,
   "metadata": {},
   "outputs": [],
   "source": [
    "class np_tensor(np.ndarray): pass"
   ]
  },
  {
   "cell_type": "markdown",
   "metadata": {},
   "source": [
    "###  Clase Linear"
   ]
  },
  {
   "cell_type": "code",
   "execution_count": 15,
   "metadata": {},
   "outputs": [],
   "source": [
    "class Linear():\n",
    "    def __init__(self, input_size, output_size):\n",
    "        '''\n",
    "        Init parameters utilizando Kaiming He\n",
    "        '''\n",
    "        # Initialize the weights using Kaiming He initialization for better performance with the ReLU activations\n",
    "        self.W = (np.random.randn(output_size, input_size) / np.sqrt(input_size/2)).view(np_tensor)\n",
    "        # Initialize biases with zeros\n",
    "        self.b = (np.zeros((output_size, 1))).view(np_tensor)\n",
    "    def __call__(self, X):\n",
    "        # Forward pass linear transformation\n",
    "        Z = self.W @ X + self.b\n",
    "        return Z\n",
    "    def backward(self, X, Z):\n",
    "        # Get the gradient with respect to the input\n",
    "        X.grad = self.W.T @ Z.grad\n",
    "        # Get the gradient with respect to the weights\n",
    "        self.W.grad = Z.grad @ X.T\n",
    "        # Get the gradient with respect to the biases\n",
    "        self.b.grad = np.sum(Z.grad, axis = 1, keepdims=True)    "
   ]
  },
  {
   "cell_type": "markdown",
   "metadata": {},
   "source": [
    "### Clase ReLU"
   ]
  },
  {
   "cell_type": "code",
   "execution_count": 16,
   "metadata": {},
   "outputs": [],
   "source": [
    "class ReLU():\n",
    "    def __call__(self, Z):\n",
    "        # ReLU activation that replaces negative values in Z with 0\n",
    "        return np.maximum(0, Z)\n",
    "    def backward(self, Z, A):\n",
    "        # Copy the gradient from the next layer\n",
    "        Z.grad = A.grad.copy()\n",
    "        # Zero the gradient where the function is not activated\n",
    "        Z.grad[Z <= 0] = 0\n",
    "        Z.grad[Z <= 0] = 0"
   ]
  },
  {
   "cell_type": "markdown",
   "metadata": {},
   "source": [
    "### Clase Sequential"
   ]
  },
  {
   "cell_type": "code",
   "execution_count": 17,
   "metadata": {},
   "outputs": [],
   "source": [
    "class Sequential_layers():\n",
    "    def __init__(self, layers):\n",
    "        '''\n",
    "        layers - lista que contiene objetos de tipo Linear, ReLU\n",
    "        '''\n",
    "        self.layers = layers\n",
    "        self.x = None\n",
    "        self.outputs = {}\n",
    "    def __call__(self, X):\n",
    "        self.x = X \n",
    "        self.outputs['l0'] = self.x\n",
    "        # Forward pass through each layer\n",
    "        for i, layer in enumerate(self.layers, 1):\n",
    "            self.x = layer(self.x)\n",
    "            self.outputs['l'+str(i)]=self.x\n",
    "        # Return the output for backpropagation\n",
    "        return self.x\n",
    "    def backward(self):\n",
    "        for i in reversed(range(len(self.layers))):\n",
    "            self.layers[i].backward(self.outputs['l'+str(i)], self.outputs['l'+str(i+1)])\n",
    "    def update(self, learning_rate = 1e-3):\n",
    "        for layer in self.layers:\n",
    "            if isinstance(layer, ReLU): continue\n",
    "            # Update weights and biases with gradient descent\n",
    "            layer.W = layer.W - learning_rate * layer.W.grad\n",
    "            layer.b = layer.b - learning_rate * layer.b.grad\n",
    "    def predict(self, X):\n",
    "        # Forward pass and return the index of the max value\n",
    "        return np.argmax(self.__call__(X)) "
   ]
  },
  {
   "cell_type": "markdown",
   "metadata": {},
   "source": [
    "### Cost Function"
   ]
  },
  {
   "cell_type": "code",
   "execution_count": 18,
   "metadata": {},
   "outputs": [],
   "source": [
    "def softmaxXEntropy(x, y):\n",
    "    batch_size = x.shape[1]\n",
    "    \n",
    "    # Compute the exponential scores for numerical stability in softmax\n",
    "    # Compute the probabilities for each class by normalizing the exponential scores\n",
    "    exp_scores = np.exp(x)\n",
    "    probs = exp_scores / exp_scores.sum(axis = 0)\n",
    "    preds = probs.copy()\n",
    "    \n",
    "    # Compute the cross-entropy cost\n",
    "    y_hat = probs[y.squeeze(), np.arange(batch_size)]\n",
    "    cost = np.sum(-np.log(y_hat)) / batch_size\n",
    "    \n",
    "    # Calculate gradients for backpropagation\n",
    "    probs[y.squeeze(), np.arange(batch_size)] -= 1 #dl/dx\n",
    "    x.grad = probs.copy()\n",
    "    \n",
    "    return preds, cost"
   ]
  },
  {
   "cell_type": "markdown",
   "metadata": {},
   "source": [
    "### Training Function"
   ]
  },
  {
   "cell_type": "code",
   "execution_count": 19,
   "metadata": {},
   "outputs": [],
   "source": [
    "#Function for training the model\n",
    "def train(model, epochs, mb_size=128, learning_rate = 1e-3):\n",
    "    # Iterate over each epoch\n",
    "    for epoch in range(epochs):\n",
    "        for i, (x, y) in enumerate(create_minibatches(mb_size, x_train, y_train)):\n",
    "            # Perform a forward pass and compute score\n",
    "            scores = model(x.T.view(np_tensor))\n",
    "            # Calculate the cost and gradients with respect score\n",
    "            _, cost = softmaxXEntropy(scores, y)\n",
    "            # Perform backward pass and then update learning rate\n",
    "            model.backward()\n",
    "            model.update(learning_rate)\n",
    "\n",
    "        print(f'epochs: {epoch+1}\\t cost: {cost:.4f} \\t accuracy: {accuracy(x_val, y_val, mb_size, model):.4f}')"
   ]
  },
  {
   "cell_type": "markdown",
   "metadata": {},
   "source": [
    "### Accuracy Function"
   ]
  },
  {
   "cell_type": "code",
   "execution_count": 20,
   "metadata": {},
   "outputs": [],
   "source": [
    "#Function to calculate the model accuracy\n",
    "def accuracy(x, y, mb_size, model):\n",
    "    correct = 0\n",
    "    total = 0\n",
    "    # Iterate over dataset in minibatches\n",
    "    for i, (x, y) in enumerate(create_minibatches(mb_size, x, y)):\n",
    "        # Perform forward pass to get predictions from the model\n",
    "        pred = model(x.T.view(np_tensor))\n",
    "        # Count how many predictions match with the true labels and get the total\n",
    "        correct += np.sum(np.argmax(pred, axis=0) == y.squeeze())\n",
    "        total += pred.shape[1]\n",
    "        \n",
    "    # Handle the case where total is zero to avoid division by zero\n",
    "    if total == 0:\n",
    "        return 0  # or return an appropriate value or message indicating no data was processed\n",
    "    \n",
    "    return correct/total"
   ]
  },
  {
   "cell_type": "markdown",
   "metadata": {},
   "source": [
    "### Create your model and train it"
   ]
  },
  {
   "cell_type": "markdown",
   "metadata": {},
   "source": [
    "Model Hyperparameters"
   ]
  },
  {
   "cell_type": "code",
   "execution_count": 21,
   "metadata": {},
   "outputs": [],
   "source": [
    "# Constants\n",
    "BATCH_SIZE = 512\n",
    "INPUT_DIM = x_train.shape[1]\n",
    "OUTPUT_DIM = len(alphabet)\n",
    "NEURONS = [300, 500, 700]\n",
    "LEARNING_RATES = [1e-3, 5e-4, 1e-4]\n",
    "EPOCHS = 20"
   ]
  },
  {
   "cell_type": "markdown",
   "metadata": {},
   "source": [
    "Neural Network Architecture:\n",
    "\n",
    "Input -> Linear -> ReLU -> Linear -> ReLU -> Linear -> ReLU -> Linear -> Output\n",
    "\n",
    "This type of architecture is common in feedforward neural networks, where the goal is to transform the input data through successive layers of computation to make a prediction. ReLU activation functions are used to help combat the vanishing gradient problem, which allows the network to learn faster and perform better on a variety of tasks.\n",
    "\n",
    "The intention is to test with different combinations of model hyperparameters to determine which performs best."
   ]
  },
  {
   "cell_type": "code",
   "execution_count": 22,
   "metadata": {},
   "outputs": [
    {
     "name": "stdout",
     "output_type": "stream",
     "text": [
      "\n",
      "------------------------------------------------------------\n",
      "Training with Neurons: 300, Learning Rate: 0.001\n",
      "------------------------------------------------------------\n",
      "epochs: 1\t cost: 0.2524 \t accuracy: 0.7390\n",
      "epochs: 2\t cost: 0.0117 \t accuracy: 0.7711\n",
      "epochs: 3\t cost: 0.0057 \t accuracy: 0.7777\n",
      "epochs: 4\t cost: 0.0029 \t accuracy: 0.7800\n",
      "epochs: 5\t cost: 0.0024 \t accuracy: 0.7836\n",
      "epochs: 6\t cost: 0.0014 \t accuracy: 0.7836\n",
      "epochs: 7\t cost: 0.0015 \t accuracy: 0.7850\n",
      "epochs: 8\t cost: 0.0013 \t accuracy: 0.7850\n",
      "epochs: 9\t cost: 0.0012 \t accuracy: 0.7858\n",
      "epochs: 10\t cost: 0.0009 \t accuracy: 0.7869\n",
      "epochs: 11\t cost: 0.0006 \t accuracy: 0.7881\n",
      "epochs: 12\t cost: 0.0006 \t accuracy: 0.7889\n",
      "epochs: 13\t cost: 0.0006 \t accuracy: 0.7883\n",
      "epochs: 14\t cost: 0.0006 \t accuracy: 0.7889\n",
      "epochs: 15\t cost: 0.0005 \t accuracy: 0.7900\n",
      "epochs: 16\t cost: 0.0005 \t accuracy: 0.7881\n",
      "epochs: 17\t cost: 0.0004 \t accuracy: 0.7895\n",
      "epochs: 18\t cost: 0.0004 \t accuracy: 0.7900\n",
      "epochs: 19\t cost: 0.0003 \t accuracy: 0.7892\n",
      "epochs: 20\t cost: 0.0004 \t accuracy: 0.7897\n",
      "\n",
      "Accuracy: 0.7897\n",
      "\n",
      "------------------------------------------------------------\n",
      "Training with Neurons: 500, Learning Rate: 0.001\n",
      "------------------------------------------------------------\n",
      "epochs: 1\t cost: 0.4263 \t accuracy: 0.7158\n",
      "epochs: 2\t cost: 0.0119 \t accuracy: 0.7953\n",
      "epochs: 3\t cost: 0.0054 \t accuracy: 0.7945\n",
      "epochs: 4\t cost: 0.0027 \t accuracy: 0.8015\n",
      "epochs: 5\t cost: 0.0026 \t accuracy: 0.7992\n",
      "epochs: 6\t cost: 0.0017 \t accuracy: 0.8001\n",
      "epochs: 7\t cost: 0.0014 \t accuracy: 0.8040\n",
      "epochs: 8\t cost: 0.0012 \t accuracy: 0.8020\n",
      "epochs: 9\t cost: 0.0009 \t accuracy: 0.8051\n",
      "epochs: 10\t cost: 0.0008 \t accuracy: 0.8079\n",
      "epochs: 11\t cost: 0.0007 \t accuracy: 0.8062\n",
      "epochs: 12\t cost: 0.0007 \t accuracy: 0.8070\n",
      "epochs: 13\t cost: 0.0005 \t accuracy: 0.8067\n",
      "epochs: 14\t cost: 0.0005 \t accuracy: 0.8070\n",
      "epochs: 15\t cost: 0.0005 \t accuracy: 0.8079\n",
      "epochs: 16\t cost: 0.0004 \t accuracy: 0.8087\n",
      "epochs: 17\t cost: 0.0004 \t accuracy: 0.8081\n",
      "epochs: 18\t cost: 0.0005 \t accuracy: 0.8076\n",
      "epochs: 19\t cost: 0.0004 \t accuracy: 0.8084\n",
      "epochs: 20\t cost: 0.0003 \t accuracy: 0.8084\n",
      "\n",
      "Accuracy: 0.8118\n",
      "\n",
      "------------------------------------------------------------\n",
      "Training with Neurons: 700, Learning Rate: 0.001\n",
      "------------------------------------------------------------\n",
      "epochs: 1\t cost: 0.2877 \t accuracy: 0.7245\n",
      "epochs: 2\t cost: 0.0104 \t accuracy: 0.7685\n",
      "epochs: 3\t cost: 0.0040 \t accuracy: 0.7758\n",
      "epochs: 4\t cost: 0.0030 \t accuracy: 0.7769\n",
      "epochs: 5\t cost: 0.0019 \t accuracy: 0.7800\n",
      "epochs: 6\t cost: 0.0015 \t accuracy: 0.7828\n",
      "epochs: 7\t cost: 0.0013 \t accuracy: 0.7844\n",
      "epochs: 8\t cost: 0.0011 \t accuracy: 0.7858\n",
      "epochs: 9\t cost: 0.0012 \t accuracy: 0.7861\n",
      "epochs: 10\t cost: 0.0008 \t accuracy: 0.7878\n",
      "epochs: 11\t cost: 0.0007 \t accuracy: 0.7872\n",
      "epochs: 12\t cost: 0.0006 \t accuracy: 0.7889\n",
      "epochs: 13\t cost: 0.0006 \t accuracy: 0.7881\n",
      "epochs: 14\t cost: 0.0005 \t accuracy: 0.7897\n",
      "epochs: 15\t cost: 0.0004 \t accuracy: 0.7895\n",
      "epochs: 16\t cost: 0.0004 \t accuracy: 0.7900\n",
      "epochs: 17\t cost: 0.0005 \t accuracy: 0.7895\n",
      "epochs: 18\t cost: 0.0003 \t accuracy: 0.7897\n",
      "epochs: 19\t cost: 0.0003 \t accuracy: 0.7897\n",
      "epochs: 20\t cost: 0.0003 \t accuracy: 0.7903\n",
      "\n",
      "Accuracy: 0.7981\n",
      "\n",
      "------------------------------------------------------------\n",
      "Training with Neurons: 300, Learning Rate: 0.0005\n",
      "------------------------------------------------------------\n",
      "epochs: 1\t cost: 0.4672 \t accuracy: 0.7540\n",
      "epochs: 2\t cost: 0.0232 \t accuracy: 0.8059\n",
      "epochs: 3\t cost: 0.0130 \t accuracy: 0.8109\n",
      "epochs: 4\t cost: 0.0072 \t accuracy: 0.8115\n",
      "epochs: 5\t cost: 0.0061 \t accuracy: 0.8162\n",
      "epochs: 6\t cost: 0.0037 \t accuracy: 0.8154\n",
      "epochs: 7\t cost: 0.0026 \t accuracy: 0.8168\n",
      "epochs: 8\t cost: 0.0027 \t accuracy: 0.8171\n",
      "epochs: 9\t cost: 0.0023 \t accuracy: 0.8157\n",
      "epochs: 10\t cost: 0.0022 \t accuracy: 0.8168\n",
      "epochs: 11\t cost: 0.0017 \t accuracy: 0.8173\n",
      "epochs: 12\t cost: 0.0015 \t accuracy: 0.8179\n",
      "epochs: 13\t cost: 0.0015 \t accuracy: 0.8187\n",
      "epochs: 14\t cost: 0.0015 \t accuracy: 0.8185\n",
      "epochs: 15\t cost: 0.0011 \t accuracy: 0.8185\n",
      "epochs: 16\t cost: 0.0010 \t accuracy: 0.8176\n",
      "epochs: 17\t cost: 0.0010 \t accuracy: 0.8173\n",
      "epochs: 18\t cost: 0.0010 \t accuracy: 0.8185\n",
      "epochs: 19\t cost: 0.0009 \t accuracy: 0.8179\n",
      "epochs: 20\t cost: 0.0008 \t accuracy: 0.8185\n",
      "\n",
      "Accuracy: 0.8204\n",
      "\n",
      "------------------------------------------------------------\n",
      "Training with Neurons: 500, Learning Rate: 0.0005\n",
      "------------------------------------------------------------\n",
      "epochs: 1\t cost: 0.1660 \t accuracy: 0.7658\n",
      "epochs: 2\t cost: 0.0206 \t accuracy: 0.7646\n",
      "epochs: 3\t cost: 0.0106 \t accuracy: 0.7811\n",
      "epochs: 4\t cost: 0.0055 \t accuracy: 0.7858\n",
      "epochs: 5\t cost: 0.0042 \t accuracy: 0.7850\n",
      "epochs: 6\t cost: 0.0035 \t accuracy: 0.7853\n",
      "epochs: 7\t cost: 0.0025 \t accuracy: 0.7839\n",
      "epochs: 8\t cost: 0.0027 \t accuracy: 0.7844\n",
      "epochs: 9\t cost: 0.0024 \t accuracy: 0.7864\n",
      "epochs: 10\t cost: 0.0020 \t accuracy: 0.7867\n",
      "epochs: 11\t cost: 0.0015 \t accuracy: 0.7867\n",
      "epochs: 12\t cost: 0.0017 \t accuracy: 0.7881\n",
      "epochs: 13\t cost: 0.0015 \t accuracy: 0.7872\n",
      "epochs: 14\t cost: 0.0011 \t accuracy: 0.7886\n",
      "epochs: 15\t cost: 0.0011 \t accuracy: 0.7875\n",
      "epochs: 16\t cost: 0.0010 \t accuracy: 0.7878\n",
      "epochs: 17\t cost: 0.0009 \t accuracy: 0.7889\n",
      "epochs: 18\t cost: 0.0008 \t accuracy: 0.7883\n",
      "epochs: 19\t cost: 0.0009 \t accuracy: 0.7867\n",
      "epochs: 20\t cost: 0.0009 \t accuracy: 0.7878\n",
      "\n",
      "Accuracy: 0.7931\n",
      "\n",
      "------------------------------------------------------------\n",
      "Training with Neurons: 700, Learning Rate: 0.0005\n",
      "------------------------------------------------------------\n",
      "epochs: 1\t cost: 0.2027 \t accuracy: 0.7409\n",
      "epochs: 2\t cost: 0.0210 \t accuracy: 0.7702\n",
      "epochs: 3\t cost: 0.0130 \t accuracy: 0.7777\n",
      "epochs: 4\t cost: 0.0080 \t accuracy: 0.7733\n",
      "epochs: 5\t cost: 0.0049 \t accuracy: 0.7819\n",
      "epochs: 6\t cost: 0.0040 \t accuracy: 0.7909\n",
      "epochs: 7\t cost: 0.0033 \t accuracy: 0.7900\n",
      "epochs: 8\t cost: 0.0023 \t accuracy: 0.7911\n",
      "epochs: 9\t cost: 0.0025 \t accuracy: 0.7942\n",
      "epochs: 10\t cost: 0.0018 \t accuracy: 0.7936\n",
      "epochs: 11\t cost: 0.0019 \t accuracy: 0.7956\n",
      "epochs: 12\t cost: 0.0015 \t accuracy: 0.7934\n",
      "epochs: 13\t cost: 0.0015 \t accuracy: 0.7953\n",
      "epochs: 14\t cost: 0.0011 \t accuracy: 0.7931\n",
      "epochs: 15\t cost: 0.0010 \t accuracy: 0.7939\n",
      "epochs: 16\t cost: 0.0009 \t accuracy: 0.7956\n",
      "epochs: 17\t cost: 0.0008 \t accuracy: 0.7959\n",
      "epochs: 18\t cost: 0.0011 \t accuracy: 0.7942\n",
      "epochs: 19\t cost: 0.0009 \t accuracy: 0.7948\n",
      "epochs: 20\t cost: 0.0009 \t accuracy: 0.7959\n",
      "\n",
      "Accuracy: 0.7987\n",
      "\n",
      "------------------------------------------------------------\n",
      "Training with Neurons: 300, Learning Rate: 0.0001\n",
      "------------------------------------------------------------\n",
      "epochs: 1\t cost: 0.9759 \t accuracy: 0.5817\n",
      "epochs: 2\t cost: 0.4079 \t accuracy: 0.6548\n",
      "epochs: 3\t cost: 0.1916 \t accuracy: 0.7144\n",
      "epochs: 4\t cost: 0.0964 \t accuracy: 0.7421\n",
      "epochs: 5\t cost: 0.0691 \t accuracy: 0.7409\n",
      "epochs: 6\t cost: 0.0534 \t accuracy: 0.7340\n",
      "epochs: 7\t cost: 0.0319 \t accuracy: 0.7499\n",
      "epochs: 8\t cost: 0.0262 \t accuracy: 0.7513\n",
      "epochs: 9\t cost: 0.0206 \t accuracy: 0.7513\n",
      "epochs: 10\t cost: 0.0170 \t accuracy: 0.7557\n",
      "epochs: 11\t cost: 0.0149 \t accuracy: 0.7540\n",
      "epochs: 12\t cost: 0.0122 \t accuracy: 0.7621\n",
      "epochs: 13\t cost: 0.0108 \t accuracy: 0.7579\n",
      "epochs: 14\t cost: 0.0089 \t accuracy: 0.7630\n",
      "epochs: 15\t cost: 0.0094 \t accuracy: 0.7635\n",
      "epochs: 16\t cost: 0.0087 \t accuracy: 0.7641\n",
      "epochs: 17\t cost: 0.0097 \t accuracy: 0.7660\n",
      "epochs: 18\t cost: 0.0061 \t accuracy: 0.7660\n",
      "epochs: 19\t cost: 0.0068 \t accuracy: 0.7680\n",
      "epochs: 20\t cost: 0.0065 \t accuracy: 0.7680\n",
      "\n",
      "Accuracy: 0.7638\n",
      "\n",
      "------------------------------------------------------------\n",
      "Training with Neurons: 500, Learning Rate: 0.0001\n",
      "------------------------------------------------------------\n",
      "epochs: 1\t cost: 0.7459 \t accuracy: 0.6478\n",
      "epochs: 2\t cost: 0.3024 \t accuracy: 0.7225\n",
      "epochs: 3\t cost: 0.1270 \t accuracy: 0.7540\n",
      "epochs: 4\t cost: 0.0705 \t accuracy: 0.7724\n",
      "epochs: 5\t cost: 0.0596 \t accuracy: 0.7803\n",
      "epochs: 6\t cost: 0.0357 \t accuracy: 0.7777\n",
      "epochs: 7\t cost: 0.0269 \t accuracy: 0.7761\n",
      "epochs: 8\t cost: 0.0239 \t accuracy: 0.7842\n",
      "epochs: 9\t cost: 0.0188 \t accuracy: 0.7833\n",
      "epochs: 10\t cost: 0.0139 \t accuracy: 0.7839\n",
      "epochs: 11\t cost: 0.0142 \t accuracy: 0.7822\n",
      "epochs: 12\t cost: 0.0121 \t accuracy: 0.7858\n",
      "epochs: 13\t cost: 0.0105 \t accuracy: 0.7836\n",
      "epochs: 14\t cost: 0.0108 \t accuracy: 0.7864\n",
      "epochs: 15\t cost: 0.0091 \t accuracy: 0.7875\n",
      "epochs: 16\t cost: 0.0078 \t accuracy: 0.7881\n",
      "epochs: 17\t cost: 0.0080 \t accuracy: 0.7886\n",
      "epochs: 18\t cost: 0.0073 \t accuracy: 0.7875\n",
      "epochs: 19\t cost: 0.0063 \t accuracy: 0.7878\n",
      "epochs: 20\t cost: 0.0054 \t accuracy: 0.7892\n",
      "\n",
      "Accuracy: 0.7842\n",
      "\n",
      "------------------------------------------------------------\n",
      "Training with Neurons: 700, Learning Rate: 0.0001\n",
      "------------------------------------------------------------\n",
      "epochs: 1\t cost: 0.6976 \t accuracy: 0.6523\n",
      "epochs: 2\t cost: 0.2490 \t accuracy: 0.7315\n",
      "epochs: 3\t cost: 0.1326 \t accuracy: 0.7538\n",
      "epochs: 4\t cost: 0.0699 \t accuracy: 0.7649\n",
      "epochs: 5\t cost: 0.0430 \t accuracy: 0.7691\n",
      "epochs: 6\t cost: 0.0332 \t accuracy: 0.7705\n",
      "epochs: 7\t cost: 0.0254 \t accuracy: 0.7755\n",
      "epochs: 8\t cost: 0.0203 \t accuracy: 0.7758\n",
      "epochs: 9\t cost: 0.0167 \t accuracy: 0.7819\n",
      "epochs: 10\t cost: 0.0155 \t accuracy: 0.7803\n",
      "epochs: 11\t cost: 0.0117 \t accuracy: 0.7842\n",
      "epochs: 12\t cost: 0.0098 \t accuracy: 0.7836\n",
      "epochs: 13\t cost: 0.0117 \t accuracy: 0.7839\n",
      "epochs: 14\t cost: 0.0087 \t accuracy: 0.7858\n",
      "epochs: 15\t cost: 0.0082 \t accuracy: 0.7872\n",
      "epochs: 16\t cost: 0.0075 \t accuracy: 0.7869\n",
      "epochs: 17\t cost: 0.0073 \t accuracy: 0.7892\n",
      "epochs: 18\t cost: 0.0068 \t accuracy: 0.7895\n",
      "epochs: 19\t cost: 0.0059 \t accuracy: 0.7906\n",
      "epochs: 20\t cost: 0.0058 \t accuracy: 0.7911\n",
      "\n",
      "Accuracy: 0.7925\n",
      "\n",
      "------------------------------------------------------------\n",
      "\n",
      "Best Model Accuracy: 0.8204\n"
     ]
    }
   ],
   "source": [
    "# Store models' accuracy for different configurations\n",
    "models_accuracy = {}\n",
    "\n",
    "# Initialize the best model and its accuracy\n",
    "best_model = None\n",
    "best_accuracy = 0\n",
    "\n",
    "# Train different model configurations\n",
    "for lr in LEARNING_RATES:\n",
    "    for neuron_count in NEURONS:\n",
    "        print('\\n' + '-' * 60)\n",
    "        print(f'Training with Neurons: {neuron_count}, Learning Rate: {lr}')\n",
    "        print('-' * 60)\n",
    "        \n",
    "        # Create the model\n",
    "        model = Sequential_layers([\n",
    "            Linear(INPUT_DIM, neuron_count), \n",
    "            ReLU(), \n",
    "            Linear(neuron_count, neuron_count),\n",
    "            ReLU(), \n",
    "            Linear(neuron_count, neuron_count),\n",
    "            ReLU(), \n",
    "            Linear(neuron_count, OUTPUT_DIM)\n",
    "        ])\n",
    "        \n",
    "        # Train the model\n",
    "        trained_model = train(model, EPOCHS, BATCH_SIZE, lr)\n",
    "        \n",
    "        # Calculate accuracy on the test set\n",
    "        test_acc = accuracy(x_test, y_test, BATCH_SIZE, model)\n",
    "        print(f'\\nAccuracy: {test_acc:.4f}')\n",
    "        \n",
    "        models_accuracy[(lr, neuron_count)] = test_acc\n",
    "        \n",
    "        # Update the best model if the current model is better\n",
    "        if test_acc > best_accuracy:\n",
    "            best_accuracy = test_acc\n",
    "            best_model = trained_model\n",
    "\n",
    "# Print the best model's accuracy\n",
    "print('\\n' + '-' * 60)\n",
    "print(f\"\\nBest Model Accuracy: {best_accuracy:.4f}\")"
   ]
  },
  {
   "cell_type": "markdown",
   "metadata": {},
   "source": [
    "### Test your model on Random data from your test set"
   ]
  },
  {
   "cell_type": "code",
   "execution_count": 23,
   "metadata": {},
   "outputs": [
    {
     "data": {
      "image/png": "[encoded data removed]",
      "text/plain": [
       "<Figure size 500x500 with 1 Axes>"
      ]
     },
     "metadata": {},
     "output_type": "display_data"
    },
    {
     "name": "stdout",
     "output_type": "stream",
     "text": [
      "el valor predicho es: b el valor real es:b\n"
     ]
    }
   ],
   "source": [
    "idx = np.random.randint(len(y_test))\n",
    "plot_number(x_test[idx].reshape(28,28))\n",
    "pred = model.predict(x_test[idx].reshape(-1, 1))\n",
    "\n",
    "print(f'el valor predicho es: {alphabet[pred]} el valor real es:{alphabet[y_test[idx][0]]}')"
   ]
  },
  {
   "cell_type": "code",
   "execution_count": null,
   "metadata": {},
   "outputs": [],
   "source": []
  },
  {
   "cell_type": "code",
   "execution_count": null,
   "metadata": {},
   "outputs": [],
   "source": []
  }
 ],
 "metadata": {
  "kernelspec": {
   "display_name": "Python 3 (ipykernel)",
   "language": "python",
   "name": "python3"
  },
  "language_info": {
   "codemirror_mode": {
    "name": "ipython",
    "version": 3
   },
   "file_extension": ".py",
   "mimetype": "text/x-python",
   "name": "python",
   "nbconvert_exporter": "python",
   "pygments_lexer": "ipython3",
   "version": "3.11.5"
  },
  "toc": {
   "base_numbering": 1,
   "nav_menu": {},
   "number_sections": true,
   "sideBar": true,
   "skip_h1_title": false,
   "title_cell": "Table of Contents",
   "title_sidebar": "Contents",
   "toc_cell": false,
   "toc_position": {},
   "toc_section_display": true,
   "toc_window_display": false
  },
  "varInspector": {
   "cols": {
    "lenName": 16,
    "lenType": 16,
    "lenVar": 40
   },
   "kernels_config": {
    "python": {
     "delete_cmd_postfix": "",
     "delete_cmd_prefix": "del ",
     "library": "var_list.py",
     "varRefreshCmd": "print(var_dic_list())"
    },
    "r": {
     "delete_cmd_postfix": ") ",
     "delete_cmd_prefix": "rm(",
     "library": "var_list.r",
     "varRefreshCmd": "cat(var_dic_list()) "
    }
   },
   "types_to_exclude": [
    "module",
    "function",
    "builtin_function_or_method",
    "instance",
    "_Feature"
   ],
   "window_display": false
  }
 },
 "nbformat": 4,
 "nbformat_minor": 4
}
