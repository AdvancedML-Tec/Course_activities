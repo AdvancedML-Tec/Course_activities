{
 "cells": [
  {
   "cell_type": "markdown",
   "metadata": {},
   "source": [
    "![LogoTec](img/logoTec.png)"
   ]
  },
  {
   "cell_type": "markdown",
   "metadata": {},
   "source": [
    "# TC 5033\n",
    "## Deep Learning\n",
    "## Fully Connected Deep Neural Networks\n",
    "## José Antonio Cantoral Ceballos, Ph.D.\n",
    "## Team Members:\n",
    "- A01200230 - Armando Bringas Corpus\n",
    "\n",
    "#### Activity 1b: Implementing a Fully Connected Network for Kaggle ASL Dataset\n",
    "\n",
    "- Objective\n",
    "\n",
    "The aim of this part of the activity is to apply your understanding of Fully Connected Networks by implementing a multilayer network for the [Kaggle ASL (American Sign Language) dataset](https://www.kaggle.com/datasets/grassknoted/asl-alphabet). While you have been provided with a complete solution for a Fully Connected Network using Numpy for the MNIST dataset, you are encouraged to try to come up with the solution.\n",
    "\n",
    "- Instructions\n",
    "\n",
    "    This activity requires submission in teams of 3 or 4 members. Submissions from smaller or larger teams will not be accepted unless prior approval has been granted (only due to exceptional circumstances). While teamwork is encouraged, each member is expected to contribute individually to the assignment. The final submission should feature the best arguments and solutions from each team member. Only one person per team needs to submit the completed work, but it is imperative that the names of all team members are listed in a Markdown cell at the very beginning of the notebook (either the first or second cell). Failure to include all team member names will result in the grade being awarded solely to the individual who submitted the assignment, with zero points given to other team members (no exceptions will be made to this rule).\n",
    "\n",
    "    Load and Preprocess Data: You are provided a starter code to load the data. Be sure to understand the code.\n",
    "\n",
    "    Review MNIST Notebook (Optional): Before diving into this activity, you have the option to revisit the MNIST example to refresh your understanding of how to build a Fully Connected Network using Numpy.\n",
    "\n",
    "    Start Fresh: Although you can refer to the MNIST solution at any point, try to implement the network for the ASL dataset on your own. This will reinforce your learning and understanding of the architecture and mathematics involved.\n",
    "\n",
    "    Implement Forward and Backward Pass: Write the code to perform the forward and backward passes, keeping in mind the specific challenges and characteristics of the ASL dataset.\n",
    "    \n",
    "     Design the Network: Create the architecture of the Fully Connected Network tailored for the ASL dataset. Choose the number of hidden layers, neurons, and hyperparameters judiciously.\n",
    "\n",
    "    Train the Model: Execute the training loop, ensuring to track performance metrics such as loss and accuracy.\n",
    "\n",
    "    Analyze and Document: Use Markdown cells to document in detail the choices you made in terms of architecture and hyperparameters, you may use figures, equations, etc to aid in your explanations. Include any metrics that help justify these choices and discuss the model's performance.  \n",
    "\n",
    "- Evaluation Criteria\n",
    "\n",
    "    - Code Readability and Comments\n",
    "    - Appropriateness of chosen architecture and hyperparameters for the ASL dataset\n",
    "    - Performance of the model on the ASL dataset (at least 70% acc)\n",
    "    - Quality of Markdown documentation\n",
    "\n",
    "- Submission\n",
    "\n",
    "Submit this Jupyter Notebook in canvas with your complete solution, ensuring your code is well-commented and includes Markdown cells that explain your design choices, results, and any challenges you encountered.\n"
   ]
  },
  {
   "cell_type": "code",
   "execution_count": 1,
   "metadata": {},
   "outputs": [],
   "source": [
    "import numpy as np\n",
    "import string\n",
    "import pandas as pd\n",
    "import matplotlib.pyplot as plt\n",
    "import cv2 as cv\n",
    "import os\n",
    "\n",
    "%load_ext autoreload\n",
    "%autoreload 2\n",
    "#################################\n",
    "%matplotlib inline\n"
   ]
  },
  {
   "cell_type": "code",
   "execution_count": 2,
   "metadata": {},
   "outputs": [],
   "source": [
    "# DATA_PATH = '/media/pepe/DataUbuntu/Databases/asl_data/'\n",
    "DATA_PATH = 'data/asl_data/'\n",
    "train_df = pd.read_csv(os.path.join(DATA_PATH, 'sign_mnist_train.csv'))\n",
    "valid_df = pd.read_csv(os.path.join(DATA_PATH, 'sign_mnist_valid.csv'))"
   ]
  },
  {
   "cell_type": "code",
   "execution_count": 3,
   "metadata": {},
   "outputs": [
    {
     "data": {
      "text/html": [
       "<div>\n",
       "<style scoped>\n",
       "    .dataframe tbody tr th:only-of-type {\n",
       "        vertical-align: middle;\n",
       "    }\n",
       "\n",
       "    .dataframe tbody tr th {\n",
       "        vertical-align: top;\n",
       "    }\n",
       "\n",
       "    .dataframe thead th {\n",
       "        text-align: right;\n",
       "    }\n",
       "</style>\n",
       "<table border=\"1\" class=\"dataframe\">\n",
       "  <thead>\n",
       "    <tr style=\"text-align: right;\">\n",
       "      <th></th>\n",
       "      <th>label</th>\n",
       "      <th>pixel1</th>\n",
       "      <th>pixel2</th>\n",
       "      <th>pixel3</th>\n",
       "      <th>pixel4</th>\n",
       "      <th>pixel5</th>\n",
       "      <th>pixel6</th>\n",
       "      <th>pixel7</th>\n",
       "      <th>pixel8</th>\n",
       "      <th>pixel9</th>\n",
       "      <th>...</th>\n",
       "      <th>pixel775</th>\n",
       "      <th>pixel776</th>\n",
       "      <th>pixel777</th>\n",
       "      <th>pixel778</th>\n",
       "      <th>pixel779</th>\n",
       "      <th>pixel780</th>\n",
       "      <th>pixel781</th>\n",
       "      <th>pixel782</th>\n",
       "      <th>pixel783</th>\n",
       "      <th>pixel784</th>\n",
       "    </tr>\n",
       "  </thead>\n",
       "  <tbody>\n",
       "    <tr>\n",
       "      <th>0</th>\n",
       "      <td>3</td>\n",
       "      <td>107</td>\n",
       "      <td>118</td>\n",
       "      <td>127</td>\n",
       "      <td>134</td>\n",
       "      <td>139</td>\n",
       "      <td>143</td>\n",
       "      <td>146</td>\n",
       "      <td>150</td>\n",
       "      <td>153</td>\n",
       "      <td>...</td>\n",
       "      <td>207</td>\n",
       "      <td>207</td>\n",
       "      <td>207</td>\n",
       "      <td>207</td>\n",
       "      <td>206</td>\n",
       "      <td>206</td>\n",
       "      <td>206</td>\n",
       "      <td>204</td>\n",
       "      <td>203</td>\n",
       "      <td>202</td>\n",
       "    </tr>\n",
       "    <tr>\n",
       "      <th>1</th>\n",
       "      <td>6</td>\n",
       "      <td>155</td>\n",
       "      <td>157</td>\n",
       "      <td>156</td>\n",
       "      <td>156</td>\n",
       "      <td>156</td>\n",
       "      <td>157</td>\n",
       "      <td>156</td>\n",
       "      <td>158</td>\n",
       "      <td>158</td>\n",
       "      <td>...</td>\n",
       "      <td>69</td>\n",
       "      <td>149</td>\n",
       "      <td>128</td>\n",
       "      <td>87</td>\n",
       "      <td>94</td>\n",
       "      <td>163</td>\n",
       "      <td>175</td>\n",
       "      <td>103</td>\n",
       "      <td>135</td>\n",
       "      <td>149</td>\n",
       "    </tr>\n",
       "    <tr>\n",
       "      <th>2</th>\n",
       "      <td>2</td>\n",
       "      <td>187</td>\n",
       "      <td>188</td>\n",
       "      <td>188</td>\n",
       "      <td>187</td>\n",
       "      <td>187</td>\n",
       "      <td>186</td>\n",
       "      <td>187</td>\n",
       "      <td>188</td>\n",
       "      <td>187</td>\n",
       "      <td>...</td>\n",
       "      <td>202</td>\n",
       "      <td>201</td>\n",
       "      <td>200</td>\n",
       "      <td>199</td>\n",
       "      <td>198</td>\n",
       "      <td>199</td>\n",
       "      <td>198</td>\n",
       "      <td>195</td>\n",
       "      <td>194</td>\n",
       "      <td>195</td>\n",
       "    </tr>\n",
       "    <tr>\n",
       "      <th>3</th>\n",
       "      <td>2</td>\n",
       "      <td>211</td>\n",
       "      <td>211</td>\n",
       "      <td>212</td>\n",
       "      <td>212</td>\n",
       "      <td>211</td>\n",
       "      <td>210</td>\n",
       "      <td>211</td>\n",
       "      <td>210</td>\n",
       "      <td>210</td>\n",
       "      <td>...</td>\n",
       "      <td>235</td>\n",
       "      <td>234</td>\n",
       "      <td>233</td>\n",
       "      <td>231</td>\n",
       "      <td>230</td>\n",
       "      <td>226</td>\n",
       "      <td>225</td>\n",
       "      <td>222</td>\n",
       "      <td>229</td>\n",
       "      <td>163</td>\n",
       "    </tr>\n",
       "    <tr>\n",
       "      <th>4</th>\n",
       "      <td>12</td>\n",
       "      <td>164</td>\n",
       "      <td>167</td>\n",
       "      <td>170</td>\n",
       "      <td>172</td>\n",
       "      <td>176</td>\n",
       "      <td>179</td>\n",
       "      <td>180</td>\n",
       "      <td>184</td>\n",
       "      <td>185</td>\n",
       "      <td>...</td>\n",
       "      <td>92</td>\n",
       "      <td>105</td>\n",
       "      <td>105</td>\n",
       "      <td>108</td>\n",
       "      <td>133</td>\n",
       "      <td>163</td>\n",
       "      <td>157</td>\n",
       "      <td>163</td>\n",
       "      <td>164</td>\n",
       "      <td>179</td>\n",
       "    </tr>\n",
       "  </tbody>\n",
       "</table>\n",
       "<p>5 rows × 785 columns</p>\n",
       "</div>"
      ],
      "text/plain": [
       "   label  pixel1  pixel2  pixel3  pixel4  pixel5  pixel6  pixel7  pixel8  \\\n",
       "0      3     107     118     127     134     139     143     146     150   \n",
       "1      6     155     157     156     156     156     157     156     158   \n",
       "2      2     187     188     188     187     187     186     187     188   \n",
       "3      2     211     211     212     212     211     210     211     210   \n",
       "4     12     164     167     170     172     176     179     180     184   \n",
       "\n",
       "   pixel9  ...  pixel775  pixel776  pixel777  pixel778  pixel779  pixel780  \\\n",
       "0     153  ...       207       207       207       207       206       206   \n",
       "1     158  ...        69       149       128        87        94       163   \n",
       "2     187  ...       202       201       200       199       198       199   \n",
       "3     210  ...       235       234       233       231       230       226   \n",
       "4     185  ...        92       105       105       108       133       163   \n",
       "\n",
       "   pixel781  pixel782  pixel783  pixel784  \n",
       "0       206       204       203       202  \n",
       "1       175       103       135       149  \n",
       "2       198       195       194       195  \n",
       "3       225       222       229       163  \n",
       "4       157       163       164       179  \n",
       "\n",
       "[5 rows x 785 columns]"
      ]
     },
     "execution_count": 3,
     "metadata": {},
     "output_type": "execute_result"
    }
   ],
   "source": [
    "train_df.head()"
   ]
  },
  {
   "cell_type": "markdown",
   "metadata": {},
   "source": [
    "### Importar Images"
   ]
  },
  {
   "cell_type": "code",
   "execution_count": 4,
   "metadata": {},
   "outputs": [],
   "source": [
    "y_train = np.array(train_df['label'])\n",
    "y_val = np.array(valid_df['label'])\n",
    "del train_df['label']\n",
    "del valid_df['label']\n",
    "x_train = train_df.values.astype(np.float32)\n",
    "x_val = valid_df.values.astype(np.float32)"
   ]
  },
  {
   "cell_type": "code",
   "execution_count": 5,
   "metadata": {},
   "outputs": [
    {
     "data": {
      "text/plain": [
       "(7172,)"
      ]
     },
     "execution_count": 5,
     "metadata": {},
     "output_type": "execute_result"
    }
   ],
   "source": [
    "y_val.shape"
   ]
  },
  {
   "cell_type": "code",
   "execution_count": 6,
   "metadata": {
    "code_folding": []
   },
   "outputs": [],
   "source": [
    "import numpy as np\n",
    "\n",
    "def split_val_test(x, y, pct=0.5, shuffle=True):\n",
    "    '''\n",
    "    Create a function that will allow you to split the previously loaded validation set\n",
    "    into validation and test.\n",
    "    '''\n",
    "    # verify that x_val and y_val have the same length\n",
    "    assert len(x) == len(y)\n",
    "\n",
    "    # total of data\n",
    "    total_data = len(x)\n",
    "\n",
    "    # shuffle data if it is required\n",
    "    if shuffle:\n",
    "        indices = np.arange(len(x))\n",
    "        np.random.shuffle(indices)\n",
    "        x, y = map(lambda data: np.array([data[i] for i in indices]), [x, y])\n",
    "\n",
    "    # calculate split index\n",
    "    split_idx = int(pct * len(x))\n",
    "    \n",
    "    return x[:split_idx], y[:split_idx].reshape(-1,1), x[split_idx:], y[split_idx:].reshape(-1,1)"
   ]
  },
  {
   "cell_type": "code",
   "execution_count": 7,
   "metadata": {},
   "outputs": [],
   "source": [
    "x_val, y_val, x_test, y_test = split_val_test(x_val, y_val)"
   ]
  },
  {
   "cell_type": "code",
   "execution_count": 8,
   "metadata": {},
   "outputs": [
    {
     "name": "stdout",
     "output_type": "stream",
     "text": [
      "(27455, 784)\n",
      "(27455,)\n",
      "(3586, 784)\n",
      "(3586, 1)\n",
      "(3586, 784)\n",
      "(3586, 1)\n"
     ]
    }
   ],
   "source": [
    "print(x_train.shape)\n",
    "print(y_train.shape)\n",
    "\n",
    "print(x_val.shape)\n",
    "print(y_val.shape)\n",
    "\n",
    "print(x_test.shape)\n",
    "print(y_test.shape)\n"
   ]
  },
  {
   "cell_type": "code",
   "execution_count": 9,
   "metadata": {},
   "outputs": [
    {
     "name": "stdout",
     "output_type": "stream",
     "text": [
      "24\n"
     ]
    }
   ],
   "source": [
    "### The following\n",
    "\n",
    "alphabet=list(string.ascii_lowercase)\n",
    "alphabet.remove('j')\n",
    "alphabet.remove('z')\n",
    "print(len(alphabet))"
   ]
  },
  {
   "cell_type": "markdown",
   "metadata": {},
   "source": [
    "### Normalise"
   ]
  },
  {
   "cell_type": "code",
   "execution_count": 10,
   "metadata": {},
   "outputs": [],
   "source": [
    "normalise = lambda x_mean, x_std, x_data: (x_data - x_mean) / x_std\n",
    "\n",
    "x_mean = x_train.mean()\n",
    "x_std = x_train.std()\n",
    "\n",
    "x_train = normalise(x_mean, x_std, x_train)\n",
    "x_val = normalise(x_mean, x_std, x_val)\n",
    "x_test = normalise(x_mean, x_std, x_test)"
   ]
  },
  {
   "cell_type": "code",
   "execution_count": 11,
   "metadata": {},
   "outputs": [
    {
     "data": {
      "text/plain": [
       "(3.6268384e-06, 0.99999946)"
      ]
     },
     "execution_count": 11,
     "metadata": {},
     "output_type": "execute_result"
    }
   ],
   "source": [
    "x_train.mean(), x_train.std()"
   ]
  },
  {
   "cell_type": "markdown",
   "metadata": {},
   "source": [
    "### Graficar muestras"
   ]
  },
  {
   "cell_type": "code",
   "execution_count": 12,
   "metadata": {},
   "outputs": [],
   "source": [
    "def plot_number(image):\n",
    "    plt.figure(figsize=(5,5))\n",
    "    plt.imshow(image.squeeze(), cmap=plt.get_cmap('gray'))\n",
    "    plt.axis('off')\n",
    "    plt.show()"
   ]
  },
  {
   "cell_type": "code",
   "execution_count": 13,
   "metadata": {},
   "outputs": [
    {
     "name": "stdout",
     "output_type": "stream",
     "text": [
      "La imagen muestreada representa un: [1]\n"
     ]
    },
    {
     "data": {
      "image/png": "[encoded data removed]",
      "text/plain": [
       "<Figure size 500x500 with 1 Axes>"
      ]
     },
     "metadata": {},
     "output_type": "display_data"
    }
   ],
   "source": [
    "rnd_idx = np.random.randint(len(y_test))\n",
    " \n",
    "print(f'La imagen muestreada representa un: {y_test[rnd_idx]}')\n",
    "\n",
    "image_data = x_test[rnd_idx].reshape(28, 28)\n",
    "plot_number(image_data)"
   ]
  },
  {
   "cell_type": "markdown",
   "metadata": {},
   "source": [
    "### Ecuaciones para nuestro modelo\n",
    "\n",
    "\n",
    "$$z^1 = W^1 X + b^1$$\n",
    "\n",
    "$$a^1 = ReLU(z^1) $$\n",
    "\n",
    "$$z^2 = W^2 a^1 + b^2$$\n",
    "\n",
    "$$\\hat{y} = \\frac{e^{z^{2_k}}}{\\sum_j{e^{z_j}}}$$\n",
    "\n",
    "\n",
    "$$ \\mathcal{L}(\\hat{y}^{i}, y^{i}) =  - y^{i}  \\ln(\\hat{y}^{i}) = -\\ln(\\hat{y}^i)$$\n",
    "\n",
    "\n",
    "$$ \\mathcal{J}(w, b) =  \\frac{1}{num\\_samples} \\sum_{i=1}^{num\\_samples}-\\ln(\\hat{y}^{i})$$"
   ]
  },
  {
   "cell_type": "markdown",
   "metadata": {},
   "source": [
    "### Funciones adicionales"
   ]
  },
  {
   "cell_type": "markdown",
   "metadata": {},
   "source": [
    "#### Mini batches"
   ]
  },
  {
   "cell_type": "code",
   "execution_count": 14,
   "metadata": {},
   "outputs": [],
   "source": [
    "#Function to create training minibatches\n",
    "def create_minibatches(mb_size, x, y, shuffle = True):\n",
    "    '''\n",
    "    x  #muestras, 784\n",
    "    y #muestras, 1\n",
    "    '''\n",
    "    assert x.shape[0] == y.shape[0], 'Error en cantidad de muestras'\n",
    "    total_data = x.shape[0]\n",
    "    if shuffle:\n",
    "        idxs = np.arange(total_data)\n",
    "        np.random.shuffle(idxs)\n",
    "        x = x[idxs]\n",
    "        y = y[idxs]\n",
    "    return ((x[i:i+mb_size], y[i:i+mb_size]) for i in range(0, total_data, mb_size))"
   ]
  },
  {
   "cell_type": "markdown",
   "metadata": {},
   "source": [
    "## Nuestra clase Linear, ReLU y Sequential"
   ]
  },
  {
   "cell_type": "code",
   "execution_count": 15,
   "metadata": {},
   "outputs": [],
   "source": [
    "class np_tensor(np.ndarray): pass"
   ]
  },
  {
   "cell_type": "markdown",
   "metadata": {},
   "source": [
    "###  Clase Linear"
   ]
  },
  {
   "cell_type": "code",
   "execution_count": 16,
   "metadata": {},
   "outputs": [],
   "source": [
    "class Linear():\n",
    "    def __init__(self, input_size, output_size):\n",
    "        '''\n",
    "        Init parameters utilizando Kaiming He\n",
    "        '''\n",
    "        self.W = (np.random.randn(output_size, input_size) / np.sqrt(input_size/2)).view(np_tensor)\n",
    "        self.b = (np.zeros((output_size, 1))).view(np_tensor)\n",
    "    def __call__(self, X): # esta el foward de la clase lineal\n",
    "        Z = self.W @ X + self.b\n",
    "        return Z\n",
    "    def backward(self, X, Z):\n",
    "        X.grad = self.W.T @ Z.grad\n",
    "        self.W.grad = Z.grad @ X.T\n",
    "        self.b.grad = np.sum(Z.grad, axis = 1, keepdims=True)    "
   ]
  },
  {
   "cell_type": "markdown",
   "metadata": {},
   "source": [
    "### Clase ReLU"
   ]
  },
  {
   "cell_type": "code",
   "execution_count": 17,
   "metadata": {},
   "outputs": [],
   "source": [
    "class ReLU():\n",
    "    def __call__(self, Z):\n",
    "        return np.maximum(0, Z)\n",
    "    def backward(self, Z, A):\n",
    "        Z.grad = A.grad.copy()\n",
    "        Z.grad[Z <= 0] = 0"
   ]
  },
  {
   "cell_type": "markdown",
   "metadata": {},
   "source": [
    "### Clase Sequential"
   ]
  },
  {
   "cell_type": "code",
   "execution_count": 18,
   "metadata": {},
   "outputs": [],
   "source": [
    "class Sequential_layers():\n",
    "    def __init__(self, layers):\n",
    "        '''\n",
    "        layers - lista que contiene objetos de tipo Linear, ReLU\n",
    "        '''\n",
    "        self.layers = layers\n",
    "        self.x = None\n",
    "        self.outputs = {}\n",
    "    def __call__(self, X):\n",
    "        self.x = X \n",
    "        self.outputs['l0'] = self.x\n",
    "        for i, layer in enumerate(self.layers, 1):\n",
    "            self.x = layer(self.x)\n",
    "            self.outputs['l'+str(i)]=self.x\n",
    "        return self.x\n",
    "    def backward(self):\n",
    "        for i in reversed(range(len(self.layers))):\n",
    "            self.layers[i].backward(self.outputs['l'+str(i)], self.outputs['l'+str(i+1)])\n",
    "    def update(self, learning_rate = 1e-3):\n",
    "        for layer in self.layers:\n",
    "            if isinstance(layer, ReLU): continue\n",
    "            layer.W = layer.W - learning_rate * layer.W.grad\n",
    "            layer.b = layer.b - learning_rate * layer.b.grad\n",
    "    def predict(self, X):\n",
    "        return np.argmax(self.__call__(X)) "
   ]
  },
  {
   "cell_type": "markdown",
   "metadata": {},
   "source": [
    "### Cost Function"
   ]
  },
  {
   "cell_type": "code",
   "execution_count": 19,
   "metadata": {},
   "outputs": [],
   "source": [
    "def softmaxXEntropy(x, y):\n",
    "    batch_size = x.shape[1]\n",
    "    exp_scores = np.exp(x)\n",
    "    probs = exp_scores / exp_scores.sum(axis = 0)\n",
    "    preds = probs.copy()\n",
    "    # Costo\n",
    "    y_hat = probs[y.squeeze(), np.arange(batch_size)]\n",
    "    cost = np.sum(-np.log(y_hat)) / batch_size\n",
    "    # Calcular gradientes\n",
    "    probs[y.squeeze(), np.arange(batch_size)] -= 1 #dl/dx\n",
    "    x.grad = probs.copy()\n",
    "    \n",
    "    return preds, cost"
   ]
  },
  {
   "cell_type": "markdown",
   "metadata": {},
   "source": [
    "### Loop de entrenamiento"
   ]
  },
  {
   "cell_type": "code",
   "execution_count": 20,
   "metadata": {},
   "outputs": [],
   "source": [
    "#Function for training the model\n",
    "def train(model, epochs, mb_size=128, learning_rate = 1e-3):\n",
    "    for epoch in range(epochs):\n",
    "        for i, (x, y) in enumerate(create_minibatches(mb_size, x_train, y_train)):\n",
    "            scores = model(x.T.view(np_tensor))\n",
    "            _, cost = softmaxXEntropy(scores, y)\n",
    "            model.backward()\n",
    "            model.update(learning_rate)\n",
    "\n",
    "            #train_losses.append(cost)\n",
    "            #val_losses.append(accuracy(x_val, y_val, mb_size))\n",
    "\n",
    "        print(f'epochs: {epoch+1} cost: {cost}, accuracy: {accuracy(x_val, y_val, mb_size, model)}')"
   ]
  },
  {
   "cell_type": "code",
   "execution_count": 21,
   "metadata": {},
   "outputs": [],
   "source": [
    "#Function to calculate the model accuracy\n",
    "def accuracy(x, y, mb_size, model):\n",
    "    correct = 0\n",
    "    total = 0\n",
    "    for i, (x, y) in enumerate(create_minibatches(mb_size, x, y)):\n",
    "        pred = model(x.T.view(np_tensor))\n",
    "        correct += np.sum(np.argmax(pred, axis=0) == y.squeeze())\n",
    "        total += pred.shape[1]\n",
    "    return correct/total"
   ]
  },
  {
   "cell_type": "markdown",
   "metadata": {},
   "source": [
    "### Create your model and train it"
   ]
  },
  {
   "cell_type": "code",
   "execution_count": 22,
   "metadata": {},
   "outputs": [
    {
     "name": "stdout",
     "output_type": "stream",
     "text": [
      "\n",
      "--- Test: 1/9 ----\n",
      "\n",
      "epochs: 1 cost: 0.17269952195559687, accuracy: 0.7573898494143892\n",
      "epochs: 2 cost: 0.010281035660653992, accuracy: 0.7908533184606804\n",
      "epochs: 3 cost: 0.004320591209196609, accuracy: 0.790574456218628\n",
      "epochs: 4 cost: 0.0033662087215640644, accuracy: 0.795872838817624\n",
      "epochs: 5 cost: 0.0022552122204974948, accuracy: 0.7955939765755716\n",
      "epochs: 6 cost: 0.0016856137798501208, accuracy: 0.7961517010596765\n",
      "epochs: 7 cost: 0.0012843322809555316, accuracy: 0.7967094255437813\n",
      "epochs: 8 cost: 0.0010089568461105992, accuracy: 0.7994980479643057\n",
      "epochs: 9 cost: 0.0008260111622944759, accuracy: 0.7964305633017289\n",
      "epochs: 10 cost: 0.0009267817615182078, accuracy: 0.7964305633017289\n",
      "epochs: 11 cost: 0.0008589133429816756, accuracy: 0.7964305633017289\n",
      "epochs: 12 cost: 0.0008073206277022148, accuracy: 0.797824874511991\n",
      "epochs: 13 cost: 0.0006793869520401425, accuracy: 0.7972671500278862\n",
      "epochs: 14 cost: 0.0005285311491583809, accuracy: 0.7992191857222533\n",
      "epochs: 15 cost: 0.0005613178941964825, accuracy: 0.7989403234802008\n",
      "epochs: 16 cost: 0.0004699858147028115, accuracy: 0.798382598996096\n",
      "epochs: 17 cost: 0.0005154759371889971, accuracy: 0.7986614612381484\n",
      "epochs: 18 cost: 0.0004377367688015071, accuracy: 0.7992191857222533\n",
      "epochs: 19 cost: 0.00036645501397503696, accuracy: 0.7989403234802008\n",
      "epochs: 20 cost: 0.00039473560150171395, accuracy: 0.7992191857222533\n",
      "Neurons: 300 | Learning Rate: 0.001 | Accuracy: 0.8011712214166202\n",
      "\n",
      "--- Test: 2/9 ----\n",
      "\n",
      "epochs: 1 cost: 0.9171189281035829, accuracy: 0.6349693251533742\n",
      "epochs: 2 cost: 0.016247273652751585, accuracy: 0.7847183491355271\n",
      "epochs: 3 cost: 0.004713224635955907, accuracy: 0.7883435582822086\n",
      "epochs: 4 cost: 0.0030168953682562323, accuracy: 0.7936419408812047\n",
      "epochs: 5 cost: 0.0025191121062206915, accuracy: 0.7919687674288901\n",
      "epochs: 6 cost: 0.001771846449391261, accuracy: 0.7933630786391522\n",
      "epochs: 7 cost: 0.001454973815477084, accuracy: 0.7947573898494144\n",
      "epochs: 8 cost: 0.000992142850132605, accuracy: 0.7933630786391522\n",
      "epochs: 9 cost: 0.0008741906557229404, accuracy: 0.7936419408812047\n",
      "epochs: 10 cost: 0.0007971659600327515, accuracy: 0.7936419408812047\n",
      "epochs: 11 cost: 0.0006802816023723769, accuracy: 0.7950362520914668\n",
      "epochs: 12 cost: 0.0008553045316382018, accuracy: 0.7941996653653095\n",
      "epochs: 13 cost: 0.0006391367851537527, accuracy: 0.7936419408812047\n",
      "epochs: 14 cost: 0.0006241046243864136, accuracy: 0.7944785276073619\n",
      "epochs: 15 cost: 0.0006742279694849962, accuracy: 0.7941996653653095\n",
      "epochs: 16 cost: 0.0004648975137386459, accuracy: 0.795872838817624\n",
      "epochs: 17 cost: 0.00037409591098443086, accuracy: 0.7955939765755716\n",
      "epochs: 18 cost: 0.00040090449997816753, accuracy: 0.7955939765755716\n",
      "epochs: 19 cost: 0.0003434110704990043, accuracy: 0.7953151143335192\n",
      "epochs: 20 cost: 0.0003166441034036801, accuracy: 0.7944785276073619\n",
      "Neurons: 500 | Learning Rate: 0.001 | Accuracy: 0.7944785276073619\n",
      "\n",
      "--- Test: 3/9 ----\n",
      "\n",
      "epochs: 1 cost: 0.32097201154471283, accuracy: 0.7216954824316788\n",
      "epochs: 2 cost: 0.014110661382861276, accuracy: 0.7841606246514222\n",
      "epochs: 3 cost: 0.006731944355053465, accuracy: 0.7944785276073619\n",
      "epochs: 4 cost: 0.0027471262924904294, accuracy: 0.7889012827663134\n",
      "epochs: 5 cost: 0.0024184567923069273, accuracy: 0.7891801450083659\n",
      "epochs: 6 cost: 0.0016993497591730564, accuracy: 0.7902955939765756\n",
      "epochs: 7 cost: 0.0015587268484406876, accuracy: 0.7911321807027328\n",
      "epochs: 8 cost: 0.0010825383144117493, accuracy: 0.7902955939765756\n",
      "epochs: 9 cost: 0.0010370444671726562, accuracy: 0.792526491912995\n",
      "epochs: 10 cost: 0.0009279650978899622, accuracy: 0.7916899051868377\n",
      "epochs: 11 cost: 0.0007927665949052095, accuracy: 0.7914110429447853\n",
      "epochs: 12 cost: 0.000773139431665271, accuracy: 0.792526491912995\n",
      "epochs: 13 cost: 0.0007010453618979164, accuracy: 0.7928053541550474\n",
      "epochs: 14 cost: 0.0005261902206997675, accuracy: 0.7930842163970998\n",
      "epochs: 15 cost: 0.0005750247168753109, accuracy: 0.792526491912995\n",
      "epochs: 16 cost: 0.00046305450366718165, accuracy: 0.7930842163970998\n",
      "epochs: 17 cost: 0.00045905258931540187, accuracy: 0.7928053541550474\n",
      "epochs: 18 cost: 0.0003941461575171147, accuracy: 0.7930842163970998\n",
      "epochs: 19 cost: 0.0004699448294404073, accuracy: 0.7922476296709425\n",
      "epochs: 20 cost: 0.0004737757822890821, accuracy: 0.7936419408812047\n",
      "Neurons: 700 | Learning Rate: 0.001 | Accuracy: 0.7972671500278862\n",
      "\n",
      "--- Test: 4/9 ----\n",
      "\n",
      "epochs: 1 cost: 0.16623934075925975, accuracy: 0.7579475738984941\n",
      "epochs: 2 cost: 0.02710435691169405, accuracy: 0.7626882320133854\n",
      "epochs: 3 cost: 0.01104242316482338, accuracy: 0.7677077523703291\n",
      "epochs: 4 cost: 0.0069746439278351394, accuracy: 0.7704963747908533\n",
      "epochs: 5 cost: 0.005089269650882046, accuracy: 0.7738427216954824\n",
      "epochs: 6 cost: 0.004381862682482931, accuracy: 0.7724484104852203\n",
      "epochs: 7 cost: 0.0023107054112684153, accuracy: 0.77356385945343\n",
      "epochs: 8 cost: 0.0030094954897980555, accuracy: 0.7763524818739542\n",
      "epochs: 9 cost: 0.0024180412199754464, accuracy: 0.7774679308421639\n",
      "epochs: 10 cost: 0.0017746540022282541, accuracy: 0.7785833798103736\n",
      "epochs: 11 cost: 0.001594310308354049, accuracy: 0.7805354155047407\n",
      "epochs: 12 cost: 0.0013024063060784806, accuracy: 0.7796988287785834\n",
      "epochs: 13 cost: 0.0014877439054273185, accuracy: 0.7802565532626883\n",
      "epochs: 14 cost: 0.001477023187216181, accuracy: 0.7796988287785834\n",
      "epochs: 15 cost: 0.0013884534302657044, accuracy: 0.7810931399888456\n",
      "epochs: 16 cost: 0.0009985859208060288, accuracy: 0.779419966536531\n",
      "epochs: 17 cost: 0.0009958368377998932, accuracy: 0.7796988287785834\n",
      "epochs: 18 cost: 0.0008882891639614038, accuracy: 0.7799776910206359\n",
      "epochs: 19 cost: 0.0008332310793564945, accuracy: 0.7808142777467931\n",
      "epochs: 20 cost: 0.0008862522843712581, accuracy: 0.7808142777467931\n",
      "Neurons: 300 | Learning Rate: 0.0005 | Accuracy: 0.7783045175683212\n",
      "\n",
      "--- Test: 5/9 ----\n",
      "\n",
      "epochs: 1 cost: 0.11573711686882444, accuracy: 0.7707752370329057\n",
      "epochs: 2 cost: 0.020906390062083845, accuracy: 0.7914110429447853\n",
      "epochs: 3 cost: 0.009604819361151243, accuracy: 0.7989403234802008\n",
      "epochs: 4 cost: 0.007651642922775799, accuracy: 0.7961517010596765\n",
      "epochs: 5 cost: 0.004748153314175741, accuracy: 0.7992191857222533\n",
      "epochs: 6 cost: 0.0036820648599641087, accuracy: 0.7972671500278862\n",
      "epochs: 7 cost: 0.00262299686193008, accuracy: 0.7994980479643057\n",
      "epochs: 8 cost: 0.0026863777285319745, accuracy: 0.7989403234802008\n",
      "epochs: 9 cost: 0.0023903044147891455, accuracy: 0.7997769102063581\n",
      "epochs: 10 cost: 0.002287226237268091, accuracy: 0.8017289459007251\n",
      "epochs: 11 cost: 0.001797282617130945, accuracy: 0.8006134969325154\n",
      "epochs: 12 cost: 0.0014140059266938695, accuracy: 0.7994980479643057\n",
      "epochs: 13 cost: 0.001492285646871676, accuracy: 0.8031232571109872\n",
      "epochs: 14 cost: 0.0012878025810022643, accuracy: 0.8031232571109872\n",
      "epochs: 15 cost: 0.0011568592791301713, accuracy: 0.8011712214166202\n",
      "epochs: 16 cost: 0.0010967629264484243, accuracy: 0.8017289459007251\n",
      "epochs: 17 cost: 0.0009915458358276527, accuracy: 0.8022866703848299\n",
      "epochs: 18 cost: 0.0008706530166803378, accuracy: 0.8014500836586727\n",
      "epochs: 19 cost: 0.0008593037025399894, accuracy: 0.8025655326268823\n",
      "epochs: 20 cost: 0.000828851678325653, accuracy: 0.8028443948689348\n",
      "Neurons: 500 | Learning Rate: 0.0005 | Accuracy: 0.7947573898494144\n",
      "\n",
      "--- Test: 6/9 ----\n",
      "\n",
      "epochs: 1 cost: 0.09693407967157978, accuracy: 0.7401003904071388\n",
      "epochs: 2 cost: 0.02414397565156665, accuracy: 0.7646402677077524\n",
      "epochs: 3 cost: 0.011841930267476727, accuracy: 0.7780256553262688\n",
      "epochs: 4 cost: 0.006155116770437024, accuracy: 0.7777467930842163\n",
      "epochs: 5 cost: 0.0043380285178570375, accuracy: 0.7783045175683212\n",
      "epochs: 6 cost: 0.0032942024444322787, accuracy: 0.7777467930842163\n",
      "epochs: 7 cost: 0.002995071067996968, accuracy: 0.7785833798103736\n",
      "epochs: 8 cost: 0.0023827406443508985, accuracy: 0.7788622420524262\n",
      "epochs: 9 cost: 0.0020737748719740915, accuracy: 0.7802565532626883\n",
      "epochs: 10 cost: 0.0018074185263853523, accuracy: 0.7824874511991077\n",
      "epochs: 11 cost: 0.0014489057873291445, accuracy: 0.7805354155047407\n",
      "epochs: 12 cost: 0.0016244006252156625, accuracy: 0.7810931399888456\n",
      "epochs: 13 cost: 0.0016568076009164507, accuracy: 0.7824874511991077\n",
      "epochs: 14 cost: 0.001099544317994202, accuracy: 0.7830451756832125\n",
      "epochs: 15 cost: 0.0011566850621966237, accuracy: 0.7824874511991077\n",
      "epochs: 16 cost: 0.0010787630105998293, accuracy: 0.7836029001673174\n",
      "epochs: 17 cost: 0.001100831346077902, accuracy: 0.7824874511991077\n",
      "epochs: 18 cost: 0.0008551902346867306, accuracy: 0.783324037925265\n",
      "epochs: 19 cost: 0.0010379472399159534, accuracy: 0.7819297267150028\n",
      "epochs: 20 cost: 0.000843317626313327, accuracy: 0.7830451756832125\n",
      "Neurons: 700 | Learning Rate: 0.0005 | Accuracy: 0.7771890686001115\n",
      "\n",
      "--- Test: 7/9 ----\n",
      "\n",
      "epochs: 1 cost: 0.7857055840753882, accuracy: 0.6240936977133296\n",
      "epochs: 2 cost: 0.32628602303097276, accuracy: 0.7063580591187953\n",
      "epochs: 3 cost: 0.16089253427384034, accuracy: 0.7169548243167875\n",
      "epochs: 4 cost: 0.08409399748653087, accuracy: 0.7398215281650864\n",
      "epochs: 5 cost: 0.05254128321832325, accuracy: 0.7484662576687117\n",
      "epochs: 6 cost: 0.043657638039888175, accuracy: 0.7554378137200223\n",
      "epochs: 7 cost: 0.02716546992018357, accuracy: 0.762409369771333\n",
      "epochs: 8 cost: 0.02272289913168992, accuracy: 0.7635248187395427\n",
      "epochs: 9 cost: 0.021597089480266483, accuracy: 0.7632459564974903\n",
      "epochs: 10 cost: 0.018088127506392784, accuracy: 0.7707752370329057\n",
      "epochs: 11 cost: 0.014661992894032552, accuracy: 0.7724484104852203\n",
      "epochs: 12 cost: 0.01211565052918119, accuracy: 0.7710540992749582\n",
      "epochs: 13 cost: 0.010618018314912556, accuracy: 0.7732849972113776\n",
      "epochs: 14 cost: 0.009979018781681684, accuracy: 0.7727272727272727\n",
      "epochs: 15 cost: 0.008863465281532232, accuracy: 0.7746793084216397\n",
      "epochs: 16 cost: 0.007247341200650122, accuracy: 0.7732849972113776\n",
      "epochs: 17 cost: 0.008331832956411036, accuracy: 0.7757947573898494\n",
      "epochs: 18 cost: 0.007753546458421294, accuracy: 0.775515895147797\n",
      "epochs: 19 cost: 0.007255660962487307, accuracy: 0.7766313441160066\n",
      "epochs: 20 cost: 0.005616024524598448, accuracy: 0.7763524818739542\n",
      "Neurons: 300 | Learning Rate: 0.0001 | Accuracy: 0.7713329615170106\n",
      "\n",
      "--- Test: 8/9 ----\n",
      "\n",
      "epochs: 1 cost: 0.6471984082206239, accuracy: 0.647239263803681\n",
      "epochs: 2 cost: 0.28591717771224695, accuracy: 0.7116564417177914\n",
      "epochs: 3 cost: 0.13527995119896818, accuracy: 0.7440044617958729\n",
      "epochs: 4 cost: 0.07877837265237492, accuracy: 0.7579475738984941\n",
      "epochs: 5 cost: 0.047387428005323445, accuracy: 0.7677077523703291\n",
      "epochs: 6 cost: 0.04014554342251483, accuracy: 0.7721695482431679\n",
      "epochs: 7 cost: 0.023260892886384235, accuracy: 0.779419966536531\n",
      "epochs: 8 cost: 0.024798191915530034, accuracy: 0.7824874511991077\n",
      "epochs: 9 cost: 0.018693123275579506, accuracy: 0.7819297267150028\n",
      "epochs: 10 cost: 0.013695468213409516, accuracy: 0.7827663134411601\n",
      "epochs: 11 cost: 0.018170567533674353, accuracy: 0.7847183491355271\n",
      "epochs: 12 cost: 0.011698473569264544, accuracy: 0.7847183491355271\n",
      "epochs: 13 cost: 0.011099970065975389, accuracy: 0.7883435582822086\n",
      "epochs: 14 cost: 0.010282966034036384, accuracy: 0.7889012827663134\n",
      "epochs: 15 cost: 0.007194347574438962, accuracy: 0.788622420524261\n",
      "epochs: 16 cost: 0.007372452860831517, accuracy: 0.7889012827663134\n",
      "epochs: 17 cost: 0.007221481957545148, accuracy: 0.7897378694924707\n",
      "epochs: 18 cost: 0.006529848695090712, accuracy: 0.7902955939765756\n",
      "epochs: 19 cost: 0.00652917997507356, accuracy: 0.790574456218628\n",
      "epochs: 20 cost: 0.005535814993849886, accuracy: 0.7897378694924707\n",
      "Neurons: 500 | Learning Rate: 0.0001 | Accuracy: 0.7875069715560513\n",
      "\n",
      "--- Test: 9/9 ----\n",
      "\n",
      "epochs: 1 cost: 0.6508870976496756, accuracy: 0.6455660903513665\n",
      "epochs: 2 cost: 0.23380148702791967, accuracy: 0.7194645844952593\n",
      "epochs: 3 cost: 0.10693918968386039, accuracy: 0.7529280535415505\n",
      "epochs: 4 cost: 0.06710290936192495, accuracy: 0.7657557166759621\n",
      "epochs: 5 cost: 0.04245219976548811, accuracy: 0.7632459564974903\n",
      "epochs: 6 cost: 0.035800074439444614, accuracy: 0.7629670942554378\n",
      "epochs: 7 cost: 0.025166138026839906, accuracy: 0.7663134411600669\n",
      "epochs: 8 cost: 0.02152029580365449, accuracy: 0.7651979921918572\n",
      "epochs: 9 cost: 0.016144909739282315, accuracy: 0.7685443390964863\n",
      "epochs: 10 cost: 0.015399383384038364, accuracy: 0.7721695482431679\n",
      "epochs: 11 cost: 0.014129191195199989, accuracy: 0.7732849972113776\n",
      "epochs: 12 cost: 0.011615097450180077, accuracy: 0.7685443390964863\n",
      "epochs: 13 cost: 0.009937937146007944, accuracy: 0.7727272727272727\n",
      "epochs: 14 cost: 0.011973609448951398, accuracy: 0.7744004461795873\n",
      "epochs: 15 cost: 0.007679224677007327, accuracy: 0.7738427216954824\n",
      "epochs: 16 cost: 0.007836517890742559, accuracy: 0.7752370329057445\n",
      "epochs: 17 cost: 0.006649959026989679, accuracy: 0.7738427216954824\n",
      "epochs: 18 cost: 0.006503802563558033, accuracy: 0.775515895147797\n",
      "epochs: 19 cost: 0.005387755746663889, accuracy: 0.7769102063580591\n",
      "epochs: 20 cost: 0.005504857114201827, accuracy: 0.7771890686001115\n",
      "Neurons: 700 | Learning Rate: 0.0001 | Accuracy: 0.7766313441160066\n",
      "\n",
      "Best Model has accuracy: 0.8011712214166202\n",
      "\n"
     ]
    }
   ],
   "source": [
    "# Constants\n",
    "BATCH_SIZE = 512\n",
    "INPUT_DIM = x_train.shape[1]\n",
    "OUTPUT_DIM = len(alphabet)\n",
    "NEURONS = [300, 500, 700]\n",
    "LEARNING_RATES = [1e-3, 5e-4, 1e-4]\n",
    "EPOCHS = 20\n",
    "\n",
    "# Store models' accuracy for different configurations\n",
    "models_accuracy = {}\n",
    "\n",
    "# Initialize the best model and its accuracy\n",
    "best_model = None\n",
    "best_accuracy = 0\n",
    "\n",
    "# Train different model configurations\n",
    "for lr_index, lr in enumerate(LEARNING_RATES):\n",
    "    for neuron_index, neuron_count in enumerate(NEURONS):\n",
    "        model_idx = lr_index * len(NEURONS) + neuron_index + 1\n",
    "        print(f'\\n--- Test: {model_idx}/{len(LEARNING_RATES)*len(NEURONS)} ----\\n')\n",
    "        \n",
    "        model = Sequential_layers([\n",
    "            Linear(INPUT_DIM, neuron_count), \n",
    "            ReLU(), \n",
    "            Linear(neuron_count, neuron_count),\n",
    "            ReLU(), \n",
    "            Linear(neuron_count, neuron_count),\n",
    "            ReLU(), \n",
    "            Linear(neuron_count, OUTPUT_DIM)\n",
    "        ])\n",
    "        \n",
    "        train(model, EPOCHS, BATCH_SIZE, lr)\n",
    "        \n",
    "        acc = accuracy(x_test, y_test, BATCH_SIZE, model)\n",
    "        print(f'Neurons: {neuron_count} | Learning Rate: {lr} | Accuracy: {acc}')\n",
    "        \n",
    "        models_accuracy[(lr, neuron_count)] = acc\n",
    "        \n",
    "        # Check if the current model's accuracy is the best so far\n",
    "        if acc > best_accuracy:\n",
    "            best_accuracy = acc\n",
    "            best_model = model\n",
    "\n",
    "# Return the best model after the loops\n",
    "print(f\"\\nBest Model has accuracy: {best_accuracy}\\n\")\n"
   ]
  },
  {
   "cell_type": "markdown",
   "metadata": {},
   "source": [
    "### Test your model on Random data from your test set"
   ]
  },
  {
   "cell_type": "code",
   "execution_count": 23,
   "metadata": {},
   "outputs": [
    {
     "data": {
      "image/png": "[encoded data removed]",
      "text/plain": [
       "<Figure size 500x500 with 1 Axes>"
      ]
     },
     "metadata": {},
     "output_type": "display_data"
    },
    {
     "name": "stdout",
     "output_type": "stream",
     "text": [
      "el valor predicho es: w el valor real es:k\n"
     ]
    }
   ],
   "source": [
    "idx = np.random.randint(len(y_test))\n",
    "plot_number(x_test[idx].reshape(28,28))\n",
    "pred = model.predict(x_test[idx].reshape(-1, 1))\n",
    "\n",
    "print(f'el valor predicho es: {alphabet[pred]} el valor real es:{alphabet[y_test[idx][0]]}')"
   ]
  },
  {
   "cell_type": "code",
   "execution_count": null,
   "metadata": {},
   "outputs": [],
   "source": []
  },
  {
   "cell_type": "code",
   "execution_count": null,
   "metadata": {},
   "outputs": [],
   "source": []
  }
 ],
 "metadata": {
  "kernelspec": {
   "display_name": "Python 3 (ipykernel)",
   "language": "python",
   "name": "python3"
  },
  "language_info": {
   "codemirror_mode": {
    "name": "ipython",
    "version": 3
   },
   "file_extension": ".py",
   "mimetype": "text/x-python",
   "name": "python",
   "nbconvert_exporter": "python",
   "pygments_lexer": "ipython3",
   "version": "3.11.5"
  },
  "toc": {
   "base_numbering": 1,
   "nav_menu": {},
   "number_sections": true,
   "sideBar": true,
   "skip_h1_title": false,
   "title_cell": "Table of Contents",
   "title_sidebar": "Contents",
   "toc_cell": false,
   "toc_position": {},
   "toc_section_display": true,
   "toc_window_display": false
  },
  "varInspector": {
   "cols": {
    "lenName": 16,
    "lenType": 16,
    "lenVar": 40
   },
   "kernels_config": {
    "python": {
     "delete_cmd_postfix": "",
     "delete_cmd_prefix": "del ",
     "library": "var_list.py",
     "varRefreshCmd": "print(var_dic_list())"
    },
    "r": {
     "delete_cmd_postfix": ") ",
     "delete_cmd_prefix": "rm(",
     "library": "var_list.r",
     "varRefreshCmd": "cat(var_dic_list()) "
    }
   },
   "types_to_exclude": [
    "module",
    "function",
    "builtin_function_or_method",
    "instance",
    "_Feature"
   ],
   "window_display": false
  }
 },
 "nbformat": 4,
 "nbformat_minor": 4
}
